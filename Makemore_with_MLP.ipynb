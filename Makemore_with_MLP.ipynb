{
  "nbformat": 4,
  "nbformat_minor": 0,
  "metadata": {
    "colab": {
      "provenance": [],
      "toc_visible": true,
      "authorship_tag": "ABX9TyP9WhOIVRGCtvR+WW0oDuoK",
      "include_colab_link": true
    },
    "kernelspec": {
      "name": "python3",
      "display_name": "Python 3"
    },
    "language_info": {
      "name": "python"
    }
  },
  "cells": [
    {
      "cell_type": "markdown",
      "metadata": {
        "id": "view-in-github",
        "colab_type": "text"
      },
      "source": [
        "<a href=\"https://colab.research.google.com/github/sunRise9551/Building_Makemore/blob/main/Makemore_with_MLP.ipynb\" target=\"_parent\"><img src=\"https://colab.research.google.com/assets/colab-badge.svg\" alt=\"Open In Colab\"/></a>"
      ]
    },
    {
      "cell_type": "code",
      "execution_count": 1,
      "metadata": {
        "id": "lYbu1WCXrPQA"
      },
      "outputs": [],
      "source": [
        "import torch\n",
        "import torch.nn.functional as F\n",
        "import matplotlib.pyplot as plt # for making figures\n",
        "%matplotlib inline"
      ]
    },
    {
      "cell_type": "code",
      "source": [
        "# read in all the words\n",
        "words = open('names.txt', 'r').read().splitlines()\n",
        "words[:5]"
      ],
      "metadata": {
        "colab": {
          "base_uri": "https://localhost:8080/"
        },
        "id": "t2srw_vHrUxX",
        "outputId": "902a30a3-5b78-4742-9d79-7ec9a1b82bc5"
      },
      "execution_count": 4,
      "outputs": [
        {
          "output_type": "execute_result",
          "data": {
            "text/plain": [
              "['emma', 'olivia', 'ava', 'isabella', 'sophia']"
            ]
          },
          "metadata": {},
          "execution_count": 4
        }
      ]
    },
    {
      "cell_type": "code",
      "source": [
        "len(words)"
      ],
      "metadata": {
        "colab": {
          "base_uri": "https://localhost:8080/"
        },
        "id": "BITbfi3srWNx",
        "outputId": "d42dae41-5aec-49fd-dc95-cc8667c26fa7"
      },
      "execution_count": 5,
      "outputs": [
        {
          "output_type": "execute_result",
          "data": {
            "text/plain": [
              "32033"
            ]
          },
          "metadata": {},
          "execution_count": 5
        }
      ]
    },
    {
      "cell_type": "code",
      "source": [
        "# build the vocabulary of characters and mappings to/from integers\n",
        "chars = sorted(list(set(''.join(words))))\n",
        "stoi = {s:i+1 for i,s in enumerate(chars)}\n",
        "stoi['.'] = 0\n",
        "itos = {i:s for s,i in stoi.items()}\n",
        "print(itos)"
      ],
      "metadata": {
        "colab": {
          "base_uri": "https://localhost:8080/"
        },
        "id": "q-cc1t80rXK1",
        "outputId": "620147c4-c03d-4590-fc0f-d3fa7a5c800f"
      },
      "execution_count": 6,
      "outputs": [
        {
          "output_type": "stream",
          "name": "stdout",
          "text": [
            "{1: 'a', 2: 'b', 3: 'c', 4: 'd', 5: 'e', 6: 'f', 7: 'g', 8: 'h', 9: 'i', 10: 'j', 11: 'k', 12: 'l', 13: 'm', 14: 'n', 15: 'o', 16: 'p', 17: 'q', 18: 'r', 19: 's', 20: 't', 21: 'u', 22: 'v', 23: 'w', 24: 'x', 25: 'y', 26: 'z', 0: '.'}\n"
          ]
        }
      ]
    },
    {
      "cell_type": "code",
      "source": [
        "# build the dataset\n",
        "\n",
        "block_size = 3 # context length: how many characters do we take to predict the next one?\n",
        "X, Y = [], []\n",
        "for w in words[:5]:\n",
        "\n",
        "  #print(w)\n",
        "  context = [0] * block_size\n",
        "  for ch in w + '.':\n",
        "    ix = stoi[ch]\n",
        "    X.append(context)\n",
        "    Y.append(ix)\n",
        "    print(''.join(itos[i] for i in context), '--->', itos[ix])\n",
        "    context = context[1:] + [ix] # crop and append\n",
        "\n",
        "X = torch.tensor(X)\n",
        "Y = torch.tensor(Y)"
      ],
      "metadata": {
        "colab": {
          "base_uri": "https://localhost:8080/"
        },
        "id": "cVu4zYdtrau1",
        "outputId": "d51a02f5-a566-4c39-e402-28d5ddc3e212"
      },
      "execution_count": 15,
      "outputs": [
        {
          "output_type": "stream",
          "name": "stdout",
          "text": [
            "... ---> e\n",
            "..e ---> m\n",
            ".em ---> m\n",
            "emm ---> a\n",
            "mma ---> .\n",
            "... ---> o\n",
            "..o ---> l\n",
            ".ol ---> i\n",
            "oli ---> v\n",
            "liv ---> i\n",
            "ivi ---> a\n",
            "via ---> .\n",
            "... ---> a\n",
            "..a ---> v\n",
            ".av ---> a\n",
            "ava ---> .\n",
            "... ---> i\n",
            "..i ---> s\n",
            ".is ---> a\n",
            "isa ---> b\n",
            "sab ---> e\n",
            "abe ---> l\n",
            "bel ---> l\n",
            "ell ---> a\n",
            "lla ---> .\n",
            "... ---> s\n",
            "..s ---> o\n",
            ".so ---> p\n",
            "sop ---> h\n",
            "oph ---> i\n",
            "phi ---> a\n",
            "hia ---> .\n"
          ]
        }
      ]
    },
    {
      "cell_type": "code",
      "source": [
        "X.shape, X.dtype, Y.shape, Y.dtype"
      ],
      "metadata": {
        "colab": {
          "base_uri": "https://localhost:8080/"
        },
        "id": "S2CerrBkrcDk",
        "outputId": "a96620f5-5bcb-4b69-db76-64b430313d70"
      },
      "execution_count": 14,
      "outputs": [
        {
          "output_type": "execute_result",
          "data": {
            "text/plain": [
              "(torch.Size([32, 3]), torch.int64, torch.Size([32]), torch.int64)"
            ]
          },
          "metadata": {},
          "execution_count": 14
        }
      ]
    },
    {
      "cell_type": "code",
      "source": [
        "X"
      ],
      "metadata": {
        "colab": {
          "base_uri": "https://localhost:8080/"
        },
        "id": "uN7T9HP6tu9b",
        "outputId": "4be29004-8000-4fe0-bfde-44d9c75355ac"
      },
      "execution_count": 18,
      "outputs": [
        {
          "output_type": "execute_result",
          "data": {
            "text/plain": [
              "tensor([[ 0,  0,  0],\n",
              "        [ 0,  0,  5],\n",
              "        [ 0,  5, 13],\n",
              "        [ 5, 13, 13],\n",
              "        [13, 13,  1],\n",
              "        [ 0,  0,  0],\n",
              "        [ 0,  0, 15],\n",
              "        [ 0, 15, 12],\n",
              "        [15, 12,  9],\n",
              "        [12,  9, 22],\n",
              "        [ 9, 22,  9],\n",
              "        [22,  9,  1],\n",
              "        [ 0,  0,  0],\n",
              "        [ 0,  0,  1],\n",
              "        [ 0,  1, 22],\n",
              "        [ 1, 22,  1],\n",
              "        [ 0,  0,  0],\n",
              "        [ 0,  0,  9],\n",
              "        [ 0,  9, 19],\n",
              "        [ 9, 19,  1],\n",
              "        [19,  1,  2],\n",
              "        [ 1,  2,  5],\n",
              "        [ 2,  5, 12],\n",
              "        [ 5, 12, 12],\n",
              "        [12, 12,  1],\n",
              "        [ 0,  0,  0],\n",
              "        [ 0,  0, 19],\n",
              "        [ 0, 19, 15],\n",
              "        [19, 15, 16],\n",
              "        [15, 16,  8],\n",
              "        [16,  8,  9],\n",
              "        [ 8,  9,  1]])"
            ]
          },
          "metadata": {},
          "execution_count": 18
        }
      ]
    },
    {
      "cell_type": "code",
      "source": [
        "Y"
      ],
      "metadata": {
        "colab": {
          "base_uri": "https://localhost:8080/"
        },
        "id": "PdRhJSOrtwf0",
        "outputId": "bd52903c-f8b0-4ab3-d63d-33a9033cc78f"
      },
      "execution_count": 19,
      "outputs": [
        {
          "output_type": "execute_result",
          "data": {
            "text/plain": [
              "tensor([ 5, 13, 13,  1,  0, 15, 12,  9, 22,  9,  1,  0,  1, 22,  1,  0,  9, 19,\n",
              "         1,  2,  5, 12, 12,  1,  0, 19, 15, 16,  8,  9,  1,  0])"
            ]
          },
          "metadata": {},
          "execution_count": 19
        }
      ]
    },
    {
      "cell_type": "markdown",
      "source": [
        "# Embedding"
      ],
      "metadata": {
        "id": "Ze4oNQqns2a8"
      }
    },
    {
      "cell_type": "markdown",
      "source": [
        "## Understand How embedding works"
      ],
      "metadata": {
        "id": "NHMsSFD4s4QE"
      }
    },
    {
      "cell_type": "markdown",
      "source": [
        "- Create an embedding matrix\n",
        "- In our case, we have 27 characters in total, and we want to embed into 2 dimensions\n",
        "- Therefore, we will have a Matrix (27 x 2)\n"
      ],
      "metadata": {
        "id": "Jpva3zYBr-Nt"
      }
    },
    {
      "cell_type": "code",
      "source": [
        "C = torch.randn((27, 2))\n",
        "C"
      ],
      "metadata": {
        "colab": {
          "base_uri": "https://localhost:8080/"
        },
        "id": "UGXbGgugrdib",
        "outputId": "c60ce6bf-670f-4818-e983-098418e4070c"
      },
      "execution_count": 20,
      "outputs": [
        {
          "output_type": "execute_result",
          "data": {
            "text/plain": [
              "tensor([[-4.0818e-01,  1.1019e-02],\n",
              "        [ 1.5594e+00, -1.2483e+00],\n",
              "        [ 1.5466e-01,  4.9418e-01],\n",
              "        [ 6.8956e-01,  4.6290e-01],\n",
              "        [ 3.4362e-01,  7.1958e-01],\n",
              "        [ 7.7663e-01, -7.8807e-01],\n",
              "        [-2.9161e-02, -1.5856e+00],\n",
              "        [ 1.9109e-01, -1.3325e-01],\n",
              "        [-3.6263e-01,  1.7756e-01],\n",
              "        [-7.4985e-01, -1.3316e+00],\n",
              "        [ 3.2058e-04, -1.6475e+00],\n",
              "        [ 4.6201e-01,  3.8196e-01],\n",
              "        [ 1.7899e-01, -1.5569e-02],\n",
              "        [ 1.2369e-01,  1.3112e+00],\n",
              "        [-1.0826e+00, -5.8774e-01],\n",
              "        [-2.1071e+00, -1.1993e+00],\n",
              "        [ 5.7197e-01,  4.8596e-01],\n",
              "        [ 5.1327e-01,  3.0276e+00],\n",
              "        [ 2.9422e-01, -1.9897e-01],\n",
              "        [-2.6189e+00, -1.4548e+00],\n",
              "        [ 9.2228e-02, -7.5863e-02],\n",
              "        [-5.3189e-01,  2.5664e+00],\n",
              "        [ 6.3986e-01, -3.4608e-01],\n",
              "        [-5.7797e-01, -1.4902e+00],\n",
              "        [-7.3708e-01,  1.0979e+00],\n",
              "        [-2.0297e-01, -4.5364e-01],\n",
              "        [-2.0941e+00,  2.7183e-01]])"
            ]
          },
          "metadata": {},
          "execution_count": 20
        }
      ]
    },
    {
      "cell_type": "markdown",
      "source": [
        "## How to Embed ?"
      ],
      "metadata": {
        "id": "3jw_m4tvx4v6"
      }
    },
    {
      "cell_type": "markdown",
      "source": [
        "### Solution 1"
      ],
      "metadata": {
        "id": "KM6aMXwktgtd"
      }
    },
    {
      "cell_type": "markdown",
      "source": [
        "Let's say we want to embed integer 5"
      ],
      "metadata": {
        "id": "0meTyQ_3ufKj"
      }
    },
    {
      "cell_type": "code",
      "source": [
        "C[5]"
      ],
      "metadata": {
        "colab": {
          "base_uri": "https://localhost:8080/"
        },
        "id": "EXoUXciuutXU",
        "outputId": "9cdb053a-002e-43da-cbb6-b9c6d13e232d"
      },
      "execution_count": 21,
      "outputs": [
        {
          "output_type": "execute_result",
          "data": {
            "text/plain": [
              "tensor([ 0.7766, -0.7881])"
            ]
          },
          "metadata": {},
          "execution_count": 21
        }
      ]
    },
    {
      "cell_type": "markdown",
      "source": [
        "### Solution 2"
      ],
      "metadata": {
        "id": "ayTGoOVJw3C9"
      }
    },
    {
      "cell_type": "markdown",
      "source": [
        "Recall from our Makemore_with_Bigram while using One-hot encoding\n",
        "\n",
        "1. Let's say we want to One-hot encode integer 5 with 27 classes\n",
        "2. We then multiply by Matrix C\n",
        "\n",
        "There are identical"
      ],
      "metadata": {
        "id": "kcLjQUuru6t7"
      }
    },
    {
      "cell_type": "code",
      "source": [
        "F.one_hot(torch.tensor(5), num_classes=27)"
      ],
      "metadata": {
        "colab": {
          "base_uri": "https://localhost:8080/"
        },
        "id": "Jb7oW0v-wF6e",
        "outputId": "28a57c74-6ecd-4d85-cfaa-98df809c4a39"
      },
      "execution_count": 25,
      "outputs": [
        {
          "output_type": "execute_result",
          "data": {
            "text/plain": [
              "tensor([0, 0, 0, 0, 0, 1, 0, 0, 0, 0, 0, 0, 0, 0, 0, 0, 0, 0, 0, 0, 0, 0, 0, 0,\n",
              "        0, 0, 0])"
            ]
          },
          "metadata": {},
          "execution_count": 25
        }
      ]
    },
    {
      "cell_type": "code",
      "source": [
        "F.one_hot(torch.tensor(5), num_classes=27).float() @ C"
      ],
      "metadata": {
        "colab": {
          "base_uri": "https://localhost:8080/"
        },
        "id": "ia_oW0R4u_4b",
        "outputId": "06918cbe-3acf-43a6-9678-969e9aaac380"
      },
      "execution_count": 23,
      "outputs": [
        {
          "output_type": "execute_result",
          "data": {
            "text/plain": [
              "tensor([ 0.7766, -0.7881])"
            ]
          },
          "metadata": {},
          "execution_count": 23
        }
      ]
    },
    {
      "cell_type": "markdown",
      "source": [
        "Integer indexing into lookup table C\n",
        "\n",
        "As a first layer of the neural net, this layer here has neurons that have no non-linearity, just linear neurons, and their weights matrix is C, and we are encoding integers into One-hot and feeding them to the neural net. And the first layer basically embeds them."
      ],
      "metadata": {
        "id": "J7mQbrbTxDhr"
      }
    },
    {
      "cell_type": "markdown",
      "source": [
        "## How to Embed Simultaneously ?"
      ],
      "metadata": {
        "id": "ouuVg_LYyOGr"
      }
    },
    {
      "cell_type": "markdown",
      "source": [
        "In PyTorch, we can:"
      ],
      "metadata": {
        "id": "Zovov7v2yXX8"
      }
    },
    {
      "cell_type": "code",
      "source": [
        "C[5]"
      ],
      "metadata": {
        "colab": {
          "base_uri": "https://localhost:8080/"
        },
        "id": "O-xAA5NVyaXC",
        "outputId": "a085bf6e-1fc3-4cc0-b5fd-92718a6f3fd3"
      },
      "execution_count": 26,
      "outputs": [
        {
          "output_type": "execute_result",
          "data": {
            "text/plain": [
              "tensor([ 0.7766, -0.7881])"
            ]
          },
          "metadata": {},
          "execution_count": 26
        }
      ]
    },
    {
      "cell_type": "code",
      "source": [
        "C[[5,6,7,8,9,10]]"
      ],
      "metadata": {
        "colab": {
          "base_uri": "https://localhost:8080/"
        },
        "id": "0bsYEqLeybwj",
        "outputId": "a423014e-053a-4cb9-f46a-b94352fa5727"
      },
      "execution_count": 28,
      "outputs": [
        {
          "output_type": "execute_result",
          "data": {
            "text/plain": [
              "tensor([[ 7.7663e-01, -7.8807e-01],\n",
              "        [-2.9161e-02, -1.5856e+00],\n",
              "        [ 1.9109e-01, -1.3325e-01],\n",
              "        [-3.6263e-01,  1.7756e-01],\n",
              "        [-7.4985e-01, -1.3316e+00],\n",
              "        [ 3.2058e-04, -1.6475e+00]])"
            ]
          },
          "metadata": {},
          "execution_count": 28
        }
      ]
    },
    {
      "cell_type": "code",
      "source": [
        "C[[5,6,6,6,6,6,6,7,8,9,10]]"
      ],
      "metadata": {
        "colab": {
          "base_uri": "https://localhost:8080/"
        },
        "id": "0dp4fRSkymiK",
        "outputId": "d21f3e54-a73d-40c3-dd2d-bd203f98aa3a"
      },
      "execution_count": 29,
      "outputs": [
        {
          "output_type": "execute_result",
          "data": {
            "text/plain": [
              "tensor([[ 7.7663e-01, -7.8807e-01],\n",
              "        [-2.9161e-02, -1.5856e+00],\n",
              "        [-2.9161e-02, -1.5856e+00],\n",
              "        [-2.9161e-02, -1.5856e+00],\n",
              "        [-2.9161e-02, -1.5856e+00],\n",
              "        [-2.9161e-02, -1.5856e+00],\n",
              "        [-2.9161e-02, -1.5856e+00],\n",
              "        [ 1.9109e-01, -1.3325e-01],\n",
              "        [-3.6263e-01,  1.7756e-01],\n",
              "        [-7.4985e-01, -1.3316e+00],\n",
              "        [ 3.2058e-04, -1.6475e+00]])"
            ]
          },
          "metadata": {},
          "execution_count": 29
        }
      ]
    },
    {
      "cell_type": "markdown",
      "source": [
        "So, we can simply just do C[X]"
      ],
      "metadata": {
        "id": "SOV3MK99yr9a"
      }
    },
    {
      "cell_type": "code",
      "source": [
        "emb = C[X]\n",
        "emb"
      ],
      "metadata": {
        "colab": {
          "base_uri": "https://localhost:8080/"
        },
        "id": "TWZW_VlCr9Cn",
        "outputId": "3158de7b-ff2a-487f-b472-062f1f3188eb"
      },
      "execution_count": 32,
      "outputs": [
        {
          "output_type": "execute_result",
          "data": {
            "text/plain": [
              "tensor([[[-0.4082,  0.0110],\n",
              "         [-0.4082,  0.0110],\n",
              "         [-0.4082,  0.0110]],\n",
              "\n",
              "        [[-0.4082,  0.0110],\n",
              "         [-0.4082,  0.0110],\n",
              "         [ 0.7766, -0.7881]],\n",
              "\n",
              "        [[-0.4082,  0.0110],\n",
              "         [ 0.7766, -0.7881],\n",
              "         [ 0.1237,  1.3112]],\n",
              "\n",
              "        [[ 0.7766, -0.7881],\n",
              "         [ 0.1237,  1.3112],\n",
              "         [ 0.1237,  1.3112]],\n",
              "\n",
              "        [[ 0.1237,  1.3112],\n",
              "         [ 0.1237,  1.3112],\n",
              "         [ 1.5594, -1.2483]],\n",
              "\n",
              "        [[-0.4082,  0.0110],\n",
              "         [-0.4082,  0.0110],\n",
              "         [-0.4082,  0.0110]],\n",
              "\n",
              "        [[-0.4082,  0.0110],\n",
              "         [-0.4082,  0.0110],\n",
              "         [-2.1071, -1.1993]],\n",
              "\n",
              "        [[-0.4082,  0.0110],\n",
              "         [-2.1071, -1.1993],\n",
              "         [ 0.1790, -0.0156]],\n",
              "\n",
              "        [[-2.1071, -1.1993],\n",
              "         [ 0.1790, -0.0156],\n",
              "         [-0.7498, -1.3316]],\n",
              "\n",
              "        [[ 0.1790, -0.0156],\n",
              "         [-0.7498, -1.3316],\n",
              "         [ 0.6399, -0.3461]],\n",
              "\n",
              "        [[-0.7498, -1.3316],\n",
              "         [ 0.6399, -0.3461],\n",
              "         [-0.7498, -1.3316]],\n",
              "\n",
              "        [[ 0.6399, -0.3461],\n",
              "         [-0.7498, -1.3316],\n",
              "         [ 1.5594, -1.2483]],\n",
              "\n",
              "        [[-0.4082,  0.0110],\n",
              "         [-0.4082,  0.0110],\n",
              "         [-0.4082,  0.0110]],\n",
              "\n",
              "        [[-0.4082,  0.0110],\n",
              "         [-0.4082,  0.0110],\n",
              "         [ 1.5594, -1.2483]],\n",
              "\n",
              "        [[-0.4082,  0.0110],\n",
              "         [ 1.5594, -1.2483],\n",
              "         [ 0.6399, -0.3461]],\n",
              "\n",
              "        [[ 1.5594, -1.2483],\n",
              "         [ 0.6399, -0.3461],\n",
              "         [ 1.5594, -1.2483]],\n",
              "\n",
              "        [[-0.4082,  0.0110],\n",
              "         [-0.4082,  0.0110],\n",
              "         [-0.4082,  0.0110]],\n",
              "\n",
              "        [[-0.4082,  0.0110],\n",
              "         [-0.4082,  0.0110],\n",
              "         [-0.7498, -1.3316]],\n",
              "\n",
              "        [[-0.4082,  0.0110],\n",
              "         [-0.7498, -1.3316],\n",
              "         [-2.6189, -1.4548]],\n",
              "\n",
              "        [[-0.7498, -1.3316],\n",
              "         [-2.6189, -1.4548],\n",
              "         [ 1.5594, -1.2483]],\n",
              "\n",
              "        [[-2.6189, -1.4548],\n",
              "         [ 1.5594, -1.2483],\n",
              "         [ 0.1547,  0.4942]],\n",
              "\n",
              "        [[ 1.5594, -1.2483],\n",
              "         [ 0.1547,  0.4942],\n",
              "         [ 0.7766, -0.7881]],\n",
              "\n",
              "        [[ 0.1547,  0.4942],\n",
              "         [ 0.7766, -0.7881],\n",
              "         [ 0.1790, -0.0156]],\n",
              "\n",
              "        [[ 0.7766, -0.7881],\n",
              "         [ 0.1790, -0.0156],\n",
              "         [ 0.1790, -0.0156]],\n",
              "\n",
              "        [[ 0.1790, -0.0156],\n",
              "         [ 0.1790, -0.0156],\n",
              "         [ 1.5594, -1.2483]],\n",
              "\n",
              "        [[-0.4082,  0.0110],\n",
              "         [-0.4082,  0.0110],\n",
              "         [-0.4082,  0.0110]],\n",
              "\n",
              "        [[-0.4082,  0.0110],\n",
              "         [-0.4082,  0.0110],\n",
              "         [-2.6189, -1.4548]],\n",
              "\n",
              "        [[-0.4082,  0.0110],\n",
              "         [-2.6189, -1.4548],\n",
              "         [-2.1071, -1.1993]],\n",
              "\n",
              "        [[-2.6189, -1.4548],\n",
              "         [-2.1071, -1.1993],\n",
              "         [ 0.5720,  0.4860]],\n",
              "\n",
              "        [[-2.1071, -1.1993],\n",
              "         [ 0.5720,  0.4860],\n",
              "         [-0.3626,  0.1776]],\n",
              "\n",
              "        [[ 0.5720,  0.4860],\n",
              "         [-0.3626,  0.1776],\n",
              "         [-0.7498, -1.3316]],\n",
              "\n",
              "        [[-0.3626,  0.1776],\n",
              "         [-0.7498, -1.3316],\n",
              "         [ 1.5594, -1.2483]]])"
            ]
          },
          "metadata": {},
          "execution_count": 32
        }
      ]
    },
    {
      "cell_type": "code",
      "source": [
        "emb.shape"
      ],
      "metadata": {
        "colab": {
          "base_uri": "https://localhost:8080/"
        },
        "id": "4oh8EesFsLw_",
        "outputId": "aecacc3b-57f2-4def-df3a-01ee5ec174cc"
      },
      "execution_count": 33,
      "outputs": [
        {
          "output_type": "execute_result",
          "data": {
            "text/plain": [
              "torch.Size([32, 3, 2])"
            ]
          },
          "metadata": {},
          "execution_count": 33
        }
      ]
    },
    {
      "cell_type": "markdown",
      "source": [
        "### Why is this working ?"
      ],
      "metadata": {
        "id": "LouwB6dFz1mr"
      }
    },
    {
      "cell_type": "markdown",
      "source": [
        "Remember our X, is currently the Inputs, that is 32 x 3\n",
        "\n",
        "32 represents the number\n",
        "\n",
        "3 represents the correspond character in integer"
      ],
      "metadata": {
        "id": "T9Hc0Np9z4M6"
      }
    },
    {
      "cell_type": "code",
      "source": [
        "X.shape"
      ],
      "metadata": {
        "colab": {
          "base_uri": "https://localhost:8080/"
        },
        "id": "KKSohc39z93z",
        "outputId": "1b90eef0-bb6b-48df-b477-0eb4e1a56f56"
      },
      "execution_count": 43,
      "outputs": [
        {
          "output_type": "execute_result",
          "data": {
            "text/plain": [
              "torch.Size([32, 3])"
            ]
          },
          "metadata": {},
          "execution_count": 43
        }
      ]
    },
    {
      "cell_type": "code",
      "source": [
        "X"
      ],
      "metadata": {
        "colab": {
          "base_uri": "https://localhost:8080/"
        },
        "id": "qFhpBacUzosD",
        "outputId": "2b051904-e59e-4305-d95a-53b73b3c9b28"
      },
      "execution_count": 41,
      "outputs": [
        {
          "output_type": "execute_result",
          "data": {
            "text/plain": [
              "tensor([[ 0,  0,  0],\n",
              "        [ 0,  0,  5],\n",
              "        [ 0,  5, 13],\n",
              "        [ 5, 13, 13],\n",
              "        [13, 13,  1],\n",
              "        [ 0,  0,  0],\n",
              "        [ 0,  0, 15],\n",
              "        [ 0, 15, 12],\n",
              "        [15, 12,  9],\n",
              "        [12,  9, 22],\n",
              "        [ 9, 22,  9],\n",
              "        [22,  9,  1],\n",
              "        [ 0,  0,  0],\n",
              "        [ 0,  0,  1],\n",
              "        [ 0,  1, 22],\n",
              "        [ 1, 22,  1],\n",
              "        [ 0,  0,  0],\n",
              "        [ 0,  0,  9],\n",
              "        [ 0,  9, 19],\n",
              "        [ 9, 19,  1],\n",
              "        [19,  1,  2],\n",
              "        [ 1,  2,  5],\n",
              "        [ 2,  5, 12],\n",
              "        [ 5, 12, 12],\n",
              "        [12, 12,  1],\n",
              "        [ 0,  0,  0],\n",
              "        [ 0,  0, 19],\n",
              "        [ 0, 19, 15],\n",
              "        [19, 15, 16],\n",
              "        [15, 16,  8],\n",
              "        [16,  8,  9],\n",
              "        [ 8,  9,  1]])"
            ]
          },
          "metadata": {},
          "execution_count": 41
        }
      ]
    },
    {
      "cell_type": "markdown",
      "source": [
        "Let's take X[2, 2], gives us integer 13"
      ],
      "metadata": {
        "id": "9XWWTz8F0Mb7"
      }
    },
    {
      "cell_type": "code",
      "source": [
        "X[2, 2]"
      ],
      "metadata": {
        "colab": {
          "base_uri": "https://localhost:8080/"
        },
        "id": "_r6ADlR9yydz",
        "outputId": "1ca5c3ce-91f1-4e92-921a-2192c66ebfb3"
      },
      "execution_count": 46,
      "outputs": [
        {
          "output_type": "execute_result",
          "data": {
            "text/plain": [
              "tensor(13)"
            ]
          },
          "metadata": {},
          "execution_count": 46
        }
      ]
    },
    {
      "cell_type": "markdown",
      "source": [
        "Let's take C[X] and then we indexing by X[2,2]\n",
        "\n",
        "We get the embedding."
      ],
      "metadata": {
        "id": "_PUsQSSm0fOa"
      }
    },
    {
      "cell_type": "code",
      "source": [
        "C[X][2,2]"
      ],
      "metadata": {
        "colab": {
          "base_uri": "https://localhost:8080/"
        },
        "id": "NJAU332gy_og",
        "outputId": "f08e9baf-3a8e-4308-d328-32511a2a3a12"
      },
      "execution_count": 47,
      "outputs": [
        {
          "output_type": "execute_result",
          "data": {
            "text/plain": [
              "tensor([0.1237, 1.3112])"
            ]
          },
          "metadata": {},
          "execution_count": 47
        }
      ]
    },
    {
      "cell_type": "markdown",
      "source": [
        "Let's verify by indexing C in [13]"
      ],
      "metadata": {
        "id": "21j4Y6IC1OB6"
      }
    },
    {
      "cell_type": "code",
      "source": [
        "C[13]"
      ],
      "metadata": {
        "colab": {
          "base_uri": "https://localhost:8080/"
        },
        "id": "0r58Is2xzDUM",
        "outputId": "a57b5f87-db86-4009-cd34-1f7fc67a68f0"
      },
      "execution_count": 48,
      "outputs": [
        {
          "output_type": "execute_result",
          "data": {
            "text/plain": [
              "tensor([0.1237, 1.3112])"
            ]
          },
          "metadata": {},
          "execution_count": 48
        }
      ]
    },
    {
      "cell_type": "markdown",
      "source": [
        "Long Story Short, PyTorch Indexing is AWESOME!"
      ],
      "metadata": {
        "id": "AQYPG3xt1R_J"
      }
    },
    {
      "cell_type": "markdown",
      "source": [
        "# Implement Hidden Layer"
      ],
      "metadata": {
        "id": "o9WLDnXz2jpC"
      }
    },
    {
      "cell_type": "markdown",
      "source": [
        "![image.png](data:image/png;base64,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)"
      ],
      "metadata": {
        "id": "ezO3hCSt2AWS"
      }
    },
    {
      "cell_type": "markdown",
      "source": [
        "We have our inputs from block (32, 3, 2), we have 3 blocks of this, resulting inputs of 6\n",
        "  - 32: Characters\n",
        "  - 3: Input\n",
        "  - 2: Dimensions\n",
        "  - Output = Input * Dimensions = 3 * 2 = 6\n",
        "\n",
        "We have our outputs (Hyperparamter), we choose 100 here."
      ],
      "metadata": {
        "id": "_PuYVDk92mAq"
      }
    },
    {
      "cell_type": "markdown",
      "source": [
        "Let's define our parameters"
      ],
      "metadata": {
        "id": "QxzsNUyP3tFC"
      }
    },
    {
      "cell_type": "code",
      "source": [
        "W1 = torch.randn((6, 100))\n",
        "b1 = torch.randn(100)"
      ],
      "metadata": {
        "id": "cT9dzIRd1EmT"
      },
      "execution_count": null,
      "outputs": []
    }
  ]
}