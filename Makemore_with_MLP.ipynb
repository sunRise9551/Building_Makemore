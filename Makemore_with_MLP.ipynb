{
  "nbformat": 4,
  "nbformat_minor": 0,
  "metadata": {
    "colab": {
      "provenance": [],
      "toc_visible": true,
      "authorship_tag": "ABX9TyOLdTQsZ1qhjoCTyjPYJN9r",
      "include_colab_link": true
    },
    "kernelspec": {
      "name": "python3",
      "display_name": "Python 3"
    },
    "language_info": {
      "name": "python"
    }
  },
  "cells": [
    {
      "cell_type": "markdown",
      "metadata": {
        "id": "view-in-github",
        "colab_type": "text"
      },
      "source": [
        "<a href=\"https://colab.research.google.com/github/sunRise9551/Building_Makemore/blob/main/Makemore_with_MLP.ipynb\" target=\"_parent\"><img src=\"https://colab.research.google.com/assets/colab-badge.svg\" alt=\"Open In Colab\"/></a>"
      ]
    },
    {
      "cell_type": "code",
      "execution_count": 66,
      "metadata": {
        "id": "lYbu1WCXrPQA"
      },
      "outputs": [],
      "source": [
        "import torch\n",
        "import torch.nn.functional as F\n",
        "import matplotlib.pyplot as plt # for making figures\n",
        "%matplotlib inline"
      ]
    },
    {
      "cell_type": "markdown",
      "source": [
        "# Dataset"
      ],
      "metadata": {
        "id": "xuCG3kvGWU1V"
      }
    },
    {
      "cell_type": "code",
      "source": [
        "# read in all the words\n",
        "words = open('names.txt', 'r').read().splitlines()\n",
        "words[:5]"
      ],
      "metadata": {
        "colab": {
          "base_uri": "https://localhost:8080/"
        },
        "id": "t2srw_vHrUxX",
        "outputId": "61266cf0-6591-403f-d3fb-3928c6a65e96"
      },
      "execution_count": 67,
      "outputs": [
        {
          "output_type": "execute_result",
          "data": {
            "text/plain": [
              "['emma', 'olivia', 'ava', 'isabella', 'sophia']"
            ]
          },
          "metadata": {},
          "execution_count": 67
        }
      ]
    },
    {
      "cell_type": "code",
      "source": [
        "len(words)"
      ],
      "metadata": {
        "colab": {
          "base_uri": "https://localhost:8080/"
        },
        "id": "BITbfi3srWNx",
        "outputId": "f7b070c4-6e09-42c3-9623-f8bdcb7285b5"
      },
      "execution_count": 68,
      "outputs": [
        {
          "output_type": "execute_result",
          "data": {
            "text/plain": [
              "32033"
            ]
          },
          "metadata": {},
          "execution_count": 68
        }
      ]
    },
    {
      "cell_type": "code",
      "source": [
        "# build the vocabulary of characters and mappings to/from integers\n",
        "chars = sorted(list(set(''.join(words))))\n",
        "stoi = {s:i+1 for i,s in enumerate(chars)}\n",
        "stoi['.'] = 0\n",
        "itos = {i:s for s,i in stoi.items()}\n",
        "print(itos)"
      ],
      "metadata": {
        "colab": {
          "base_uri": "https://localhost:8080/"
        },
        "id": "q-cc1t80rXK1",
        "outputId": "ba6136a7-a1a0-4db8-8367-741b4db284dd"
      },
      "execution_count": 69,
      "outputs": [
        {
          "output_type": "stream",
          "name": "stdout",
          "text": [
            "{1: 'a', 2: 'b', 3: 'c', 4: 'd', 5: 'e', 6: 'f', 7: 'g', 8: 'h', 9: 'i', 10: 'j', 11: 'k', 12: 'l', 13: 'm', 14: 'n', 15: 'o', 16: 'p', 17: 'q', 18: 'r', 19: 's', 20: 't', 21: 'u', 22: 'v', 23: 'w', 24: 'x', 25: 'y', 26: 'z', 0: '.'}\n"
          ]
        }
      ]
    },
    {
      "cell_type": "code",
      "source": [
        "# build the dataset\n",
        "\n",
        "block_size = 3 # context length: how many characters do we take to predict the next one?\n",
        "X, Y = [], []\n",
        "for w in words[:5]:\n",
        "\n",
        "  #print(w)\n",
        "  context = [0] * block_size\n",
        "  for ch in w + '.':\n",
        "    ix = stoi[ch]\n",
        "    X.append(context)\n",
        "    Y.append(ix)\n",
        "    print(''.join(itos[i] for i in context), '--->', itos[ix])\n",
        "    context = context[1:] + [ix] # crop and append\n",
        "\n",
        "X = torch.tensor(X)\n",
        "Y = torch.tensor(Y)"
      ],
      "metadata": {
        "colab": {
          "base_uri": "https://localhost:8080/"
        },
        "id": "cVu4zYdtrau1",
        "outputId": "ef58faed-ac6b-4e01-edb7-38683e2299e7"
      },
      "execution_count": 70,
      "outputs": [
        {
          "output_type": "stream",
          "name": "stdout",
          "text": [
            "... ---> e\n",
            "..e ---> m\n",
            ".em ---> m\n",
            "emm ---> a\n",
            "mma ---> .\n",
            "... ---> o\n",
            "..o ---> l\n",
            ".ol ---> i\n",
            "oli ---> v\n",
            "liv ---> i\n",
            "ivi ---> a\n",
            "via ---> .\n",
            "... ---> a\n",
            "..a ---> v\n",
            ".av ---> a\n",
            "ava ---> .\n",
            "... ---> i\n",
            "..i ---> s\n",
            ".is ---> a\n",
            "isa ---> b\n",
            "sab ---> e\n",
            "abe ---> l\n",
            "bel ---> l\n",
            "ell ---> a\n",
            "lla ---> .\n",
            "... ---> s\n",
            "..s ---> o\n",
            ".so ---> p\n",
            "sop ---> h\n",
            "oph ---> i\n",
            "phi ---> a\n",
            "hia ---> .\n"
          ]
        }
      ]
    },
    {
      "cell_type": "code",
      "source": [
        "X.shape, X.dtype, Y.shape, Y.dtype"
      ],
      "metadata": {
        "colab": {
          "base_uri": "https://localhost:8080/"
        },
        "id": "S2CerrBkrcDk",
        "outputId": "e4683757-8c33-4f1a-ba7e-3fea868132ee"
      },
      "execution_count": 71,
      "outputs": [
        {
          "output_type": "execute_result",
          "data": {
            "text/plain": [
              "(torch.Size([32, 3]), torch.int64, torch.Size([32]), torch.int64)"
            ]
          },
          "metadata": {},
          "execution_count": 71
        }
      ]
    },
    {
      "cell_type": "code",
      "source": [
        "X"
      ],
      "metadata": {
        "colab": {
          "base_uri": "https://localhost:8080/"
        },
        "id": "uN7T9HP6tu9b",
        "outputId": "8f10e3bf-5167-4584-fbe3-ec4e2ee24555"
      },
      "execution_count": 72,
      "outputs": [
        {
          "output_type": "execute_result",
          "data": {
            "text/plain": [
              "tensor([[ 0,  0,  0],\n",
              "        [ 0,  0,  5],\n",
              "        [ 0,  5, 13],\n",
              "        [ 5, 13, 13],\n",
              "        [13, 13,  1],\n",
              "        [ 0,  0,  0],\n",
              "        [ 0,  0, 15],\n",
              "        [ 0, 15, 12],\n",
              "        [15, 12,  9],\n",
              "        [12,  9, 22],\n",
              "        [ 9, 22,  9],\n",
              "        [22,  9,  1],\n",
              "        [ 0,  0,  0],\n",
              "        [ 0,  0,  1],\n",
              "        [ 0,  1, 22],\n",
              "        [ 1, 22,  1],\n",
              "        [ 0,  0,  0],\n",
              "        [ 0,  0,  9],\n",
              "        [ 0,  9, 19],\n",
              "        [ 9, 19,  1],\n",
              "        [19,  1,  2],\n",
              "        [ 1,  2,  5],\n",
              "        [ 2,  5, 12],\n",
              "        [ 5, 12, 12],\n",
              "        [12, 12,  1],\n",
              "        [ 0,  0,  0],\n",
              "        [ 0,  0, 19],\n",
              "        [ 0, 19, 15],\n",
              "        [19, 15, 16],\n",
              "        [15, 16,  8],\n",
              "        [16,  8,  9],\n",
              "        [ 8,  9,  1]])"
            ]
          },
          "metadata": {},
          "execution_count": 72
        }
      ]
    },
    {
      "cell_type": "code",
      "source": [
        "Y"
      ],
      "metadata": {
        "colab": {
          "base_uri": "https://localhost:8080/"
        },
        "id": "PdRhJSOrtwf0",
        "outputId": "33180205-5b64-4048-ebcb-8a91d3c7500e"
      },
      "execution_count": 73,
      "outputs": [
        {
          "output_type": "execute_result",
          "data": {
            "text/plain": [
              "tensor([ 5, 13, 13,  1,  0, 15, 12,  9, 22,  9,  1,  0,  1, 22,  1,  0,  9, 19,\n",
              "         1,  2,  5, 12, 12,  1,  0, 19, 15, 16,  8,  9,  1,  0])"
            ]
          },
          "metadata": {},
          "execution_count": 73
        }
      ]
    },
    {
      "cell_type": "markdown",
      "source": [
        "# Embedding"
      ],
      "metadata": {
        "id": "Ze4oNQqns2a8"
      }
    },
    {
      "cell_type": "markdown",
      "source": [
        "## Understand How embedding works"
      ],
      "metadata": {
        "id": "NHMsSFD4s4QE"
      }
    },
    {
      "cell_type": "markdown",
      "source": [
        "- Create an embedding matrix\n",
        "- In our case, we have 27 characters in total, and we want to embed into 2 dimensions\n",
        "- Therefore, we will have a Matrix (27 x 2)\n"
      ],
      "metadata": {
        "id": "Jpva3zYBr-Nt"
      }
    },
    {
      "cell_type": "code",
      "source": [
        "C = torch.randn((27, 2))\n",
        "C"
      ],
      "metadata": {
        "colab": {
          "base_uri": "https://localhost:8080/"
        },
        "id": "UGXbGgugrdib",
        "outputId": "fe9c2e89-3f9a-47b9-d12e-97113aef5f47"
      },
      "execution_count": 74,
      "outputs": [
        {
          "output_type": "execute_result",
          "data": {
            "text/plain": [
              "tensor([[ 0.4112, -1.0683],\n",
              "        [ 1.4103, -1.0646],\n",
              "        [-0.8964,  0.5800],\n",
              "        [ 0.2353,  0.7525],\n",
              "        [-0.7873,  1.8514],\n",
              "        [ 0.2359,  0.3113],\n",
              "        [ 0.1063,  0.0456],\n",
              "        [ 0.7461,  0.2641],\n",
              "        [ 0.2186,  1.1205],\n",
              "        [-1.7456, -1.3379],\n",
              "        [-0.8673,  1.5946],\n",
              "        [-0.1189, -0.0655],\n",
              "        [ 0.7130,  0.3540],\n",
              "        [ 0.9516,  0.5553],\n",
              "        [ 1.2834, -0.6690],\n",
              "        [ 0.3540,  1.0820],\n",
              "        [-1.5061, -0.7867],\n",
              "        [ 1.8161, -1.4050],\n",
              "        [-0.0026,  0.9439],\n",
              "        [ 0.0158,  0.2572],\n",
              "        [-1.1775,  0.3911],\n",
              "        [-1.5979, -1.2809],\n",
              "        [-0.4660, -0.0138],\n",
              "        [ 0.8340, -0.6881],\n",
              "        [-0.6220,  0.2206],\n",
              "        [-0.5019,  0.1865],\n",
              "        [-1.1204, -0.1509]])"
            ]
          },
          "metadata": {},
          "execution_count": 74
        }
      ]
    },
    {
      "cell_type": "markdown",
      "source": [
        "## How to Embed ?"
      ],
      "metadata": {
        "id": "3jw_m4tvx4v6"
      }
    },
    {
      "cell_type": "markdown",
      "source": [
        "### Solution 1"
      ],
      "metadata": {
        "id": "KM6aMXwktgtd"
      }
    },
    {
      "cell_type": "markdown",
      "source": [
        "Let's say we want to embed integer 5"
      ],
      "metadata": {
        "id": "0meTyQ_3ufKj"
      }
    },
    {
      "cell_type": "code",
      "source": [
        "C[5]"
      ],
      "metadata": {
        "colab": {
          "base_uri": "https://localhost:8080/"
        },
        "id": "EXoUXciuutXU",
        "outputId": "354b0958-2bdc-44b0-c744-b006de3deb57"
      },
      "execution_count": 75,
      "outputs": [
        {
          "output_type": "execute_result",
          "data": {
            "text/plain": [
              "tensor([0.2359, 0.3113])"
            ]
          },
          "metadata": {},
          "execution_count": 75
        }
      ]
    },
    {
      "cell_type": "markdown",
      "source": [
        "### Solution 2"
      ],
      "metadata": {
        "id": "ayTGoOVJw3C9"
      }
    },
    {
      "cell_type": "markdown",
      "source": [
        "Recall from our Makemore_with_Bigram while using One-hot encoding\n",
        "\n",
        "1. Let's say we want to One-hot encode integer 5 with 27 classes\n",
        "2. We then multiply by Matrix C\n",
        "\n",
        "There are identical"
      ],
      "metadata": {
        "id": "kcLjQUuru6t7"
      }
    },
    {
      "cell_type": "code",
      "source": [
        "F.one_hot(torch.tensor(5), num_classes=27)"
      ],
      "metadata": {
        "colab": {
          "base_uri": "https://localhost:8080/"
        },
        "id": "Jb7oW0v-wF6e",
        "outputId": "928cf2c5-f25c-4135-c0ee-7455ec3ec516"
      },
      "execution_count": 76,
      "outputs": [
        {
          "output_type": "execute_result",
          "data": {
            "text/plain": [
              "tensor([0, 0, 0, 0, 0, 1, 0, 0, 0, 0, 0, 0, 0, 0, 0, 0, 0, 0, 0, 0, 0, 0, 0, 0,\n",
              "        0, 0, 0])"
            ]
          },
          "metadata": {},
          "execution_count": 76
        }
      ]
    },
    {
      "cell_type": "code",
      "source": [
        "F.one_hot(torch.tensor(5), num_classes=27).float() @ C"
      ],
      "metadata": {
        "colab": {
          "base_uri": "https://localhost:8080/"
        },
        "id": "ia_oW0R4u_4b",
        "outputId": "343486f3-815d-4d17-8398-3e57803939c7"
      },
      "execution_count": 77,
      "outputs": [
        {
          "output_type": "execute_result",
          "data": {
            "text/plain": [
              "tensor([0.2359, 0.3113])"
            ]
          },
          "metadata": {},
          "execution_count": 77
        }
      ]
    },
    {
      "cell_type": "markdown",
      "source": [
        "Integer indexing into lookup table C\n",
        "\n",
        "As a first layer of the neural net, this layer here has neurons that have no non-linearity, just linear neurons, and their weights matrix is C, and we are encoding integers into One-hot and feeding them to the neural net. And the first layer basically embeds them."
      ],
      "metadata": {
        "id": "J7mQbrbTxDhr"
      }
    },
    {
      "cell_type": "markdown",
      "source": [
        "## How to Embed Simultaneously ?"
      ],
      "metadata": {
        "id": "ouuVg_LYyOGr"
      }
    },
    {
      "cell_type": "markdown",
      "source": [
        "In PyTorch, we can:"
      ],
      "metadata": {
        "id": "Zovov7v2yXX8"
      }
    },
    {
      "cell_type": "code",
      "source": [
        "C[5]"
      ],
      "metadata": {
        "colab": {
          "base_uri": "https://localhost:8080/"
        },
        "id": "O-xAA5NVyaXC",
        "outputId": "980b9970-10c9-45c1-9d6f-2021b71ada88"
      },
      "execution_count": 78,
      "outputs": [
        {
          "output_type": "execute_result",
          "data": {
            "text/plain": [
              "tensor([0.2359, 0.3113])"
            ]
          },
          "metadata": {},
          "execution_count": 78
        }
      ]
    },
    {
      "cell_type": "code",
      "source": [
        "C[[5,6,7,8,9,10]]"
      ],
      "metadata": {
        "colab": {
          "base_uri": "https://localhost:8080/"
        },
        "id": "0bsYEqLeybwj",
        "outputId": "560544f8-d931-432c-958b-5e883763803e"
      },
      "execution_count": 79,
      "outputs": [
        {
          "output_type": "execute_result",
          "data": {
            "text/plain": [
              "tensor([[ 0.2359,  0.3113],\n",
              "        [ 0.1063,  0.0456],\n",
              "        [ 0.7461,  0.2641],\n",
              "        [ 0.2186,  1.1205],\n",
              "        [-1.7456, -1.3379],\n",
              "        [-0.8673,  1.5946]])"
            ]
          },
          "metadata": {},
          "execution_count": 79
        }
      ]
    },
    {
      "cell_type": "code",
      "source": [
        "C[[5,6,6,6,6,6,6,7,8,9,10]]"
      ],
      "metadata": {
        "colab": {
          "base_uri": "https://localhost:8080/"
        },
        "id": "0dp4fRSkymiK",
        "outputId": "60d9a198-ddf6-4ae7-fff5-518f09b9dad0"
      },
      "execution_count": 80,
      "outputs": [
        {
          "output_type": "execute_result",
          "data": {
            "text/plain": [
              "tensor([[ 0.2359,  0.3113],\n",
              "        [ 0.1063,  0.0456],\n",
              "        [ 0.1063,  0.0456],\n",
              "        [ 0.1063,  0.0456],\n",
              "        [ 0.1063,  0.0456],\n",
              "        [ 0.1063,  0.0456],\n",
              "        [ 0.1063,  0.0456],\n",
              "        [ 0.7461,  0.2641],\n",
              "        [ 0.2186,  1.1205],\n",
              "        [-1.7456, -1.3379],\n",
              "        [-0.8673,  1.5946]])"
            ]
          },
          "metadata": {},
          "execution_count": 80
        }
      ]
    },
    {
      "cell_type": "markdown",
      "source": [
        "So, we can simply just do C[X]"
      ],
      "metadata": {
        "id": "SOV3MK99yr9a"
      }
    },
    {
      "cell_type": "code",
      "source": [
        "emb = C[X]\n",
        "emb"
      ],
      "metadata": {
        "colab": {
          "base_uri": "https://localhost:8080/"
        },
        "id": "TWZW_VlCr9Cn",
        "outputId": "281c450e-9ab4-4910-d2ca-f5acc0f2da92"
      },
      "execution_count": 81,
      "outputs": [
        {
          "output_type": "execute_result",
          "data": {
            "text/plain": [
              "tensor([[[ 0.4112, -1.0683],\n",
              "         [ 0.4112, -1.0683],\n",
              "         [ 0.4112, -1.0683]],\n",
              "\n",
              "        [[ 0.4112, -1.0683],\n",
              "         [ 0.4112, -1.0683],\n",
              "         [ 0.2359,  0.3113]],\n",
              "\n",
              "        [[ 0.4112, -1.0683],\n",
              "         [ 0.2359,  0.3113],\n",
              "         [ 0.9516,  0.5553]],\n",
              "\n",
              "        [[ 0.2359,  0.3113],\n",
              "         [ 0.9516,  0.5553],\n",
              "         [ 0.9516,  0.5553]],\n",
              "\n",
              "        [[ 0.9516,  0.5553],\n",
              "         [ 0.9516,  0.5553],\n",
              "         [ 1.4103, -1.0646]],\n",
              "\n",
              "        [[ 0.4112, -1.0683],\n",
              "         [ 0.4112, -1.0683],\n",
              "         [ 0.4112, -1.0683]],\n",
              "\n",
              "        [[ 0.4112, -1.0683],\n",
              "         [ 0.4112, -1.0683],\n",
              "         [ 0.3540,  1.0820]],\n",
              "\n",
              "        [[ 0.4112, -1.0683],\n",
              "         [ 0.3540,  1.0820],\n",
              "         [ 0.7130,  0.3540]],\n",
              "\n",
              "        [[ 0.3540,  1.0820],\n",
              "         [ 0.7130,  0.3540],\n",
              "         [-1.7456, -1.3379]],\n",
              "\n",
              "        [[ 0.7130,  0.3540],\n",
              "         [-1.7456, -1.3379],\n",
              "         [-0.4660, -0.0138]],\n",
              "\n",
              "        [[-1.7456, -1.3379],\n",
              "         [-0.4660, -0.0138],\n",
              "         [-1.7456, -1.3379]],\n",
              "\n",
              "        [[-0.4660, -0.0138],\n",
              "         [-1.7456, -1.3379],\n",
              "         [ 1.4103, -1.0646]],\n",
              "\n",
              "        [[ 0.4112, -1.0683],\n",
              "         [ 0.4112, -1.0683],\n",
              "         [ 0.4112, -1.0683]],\n",
              "\n",
              "        [[ 0.4112, -1.0683],\n",
              "         [ 0.4112, -1.0683],\n",
              "         [ 1.4103, -1.0646]],\n",
              "\n",
              "        [[ 0.4112, -1.0683],\n",
              "         [ 1.4103, -1.0646],\n",
              "         [-0.4660, -0.0138]],\n",
              "\n",
              "        [[ 1.4103, -1.0646],\n",
              "         [-0.4660, -0.0138],\n",
              "         [ 1.4103, -1.0646]],\n",
              "\n",
              "        [[ 0.4112, -1.0683],\n",
              "         [ 0.4112, -1.0683],\n",
              "         [ 0.4112, -1.0683]],\n",
              "\n",
              "        [[ 0.4112, -1.0683],\n",
              "         [ 0.4112, -1.0683],\n",
              "         [-1.7456, -1.3379]],\n",
              "\n",
              "        [[ 0.4112, -1.0683],\n",
              "         [-1.7456, -1.3379],\n",
              "         [ 0.0158,  0.2572]],\n",
              "\n",
              "        [[-1.7456, -1.3379],\n",
              "         [ 0.0158,  0.2572],\n",
              "         [ 1.4103, -1.0646]],\n",
              "\n",
              "        [[ 0.0158,  0.2572],\n",
              "         [ 1.4103, -1.0646],\n",
              "         [-0.8964,  0.5800]],\n",
              "\n",
              "        [[ 1.4103, -1.0646],\n",
              "         [-0.8964,  0.5800],\n",
              "         [ 0.2359,  0.3113]],\n",
              "\n",
              "        [[-0.8964,  0.5800],\n",
              "         [ 0.2359,  0.3113],\n",
              "         [ 0.7130,  0.3540]],\n",
              "\n",
              "        [[ 0.2359,  0.3113],\n",
              "         [ 0.7130,  0.3540],\n",
              "         [ 0.7130,  0.3540]],\n",
              "\n",
              "        [[ 0.7130,  0.3540],\n",
              "         [ 0.7130,  0.3540],\n",
              "         [ 1.4103, -1.0646]],\n",
              "\n",
              "        [[ 0.4112, -1.0683],\n",
              "         [ 0.4112, -1.0683],\n",
              "         [ 0.4112, -1.0683]],\n",
              "\n",
              "        [[ 0.4112, -1.0683],\n",
              "         [ 0.4112, -1.0683],\n",
              "         [ 0.0158,  0.2572]],\n",
              "\n",
              "        [[ 0.4112, -1.0683],\n",
              "         [ 0.0158,  0.2572],\n",
              "         [ 0.3540,  1.0820]],\n",
              "\n",
              "        [[ 0.0158,  0.2572],\n",
              "         [ 0.3540,  1.0820],\n",
              "         [-1.5061, -0.7867]],\n",
              "\n",
              "        [[ 0.3540,  1.0820],\n",
              "         [-1.5061, -0.7867],\n",
              "         [ 0.2186,  1.1205]],\n",
              "\n",
              "        [[-1.5061, -0.7867],\n",
              "         [ 0.2186,  1.1205],\n",
              "         [-1.7456, -1.3379]],\n",
              "\n",
              "        [[ 0.2186,  1.1205],\n",
              "         [-1.7456, -1.3379],\n",
              "         [ 1.4103, -1.0646]]])"
            ]
          },
          "metadata": {},
          "execution_count": 81
        }
      ]
    },
    {
      "cell_type": "code",
      "source": [
        "emb.shape"
      ],
      "metadata": {
        "colab": {
          "base_uri": "https://localhost:8080/"
        },
        "id": "4oh8EesFsLw_",
        "outputId": "54ed503b-c837-4010-8b0a-e763ae722624"
      },
      "execution_count": 82,
      "outputs": [
        {
          "output_type": "execute_result",
          "data": {
            "text/plain": [
              "torch.Size([32, 3, 2])"
            ]
          },
          "metadata": {},
          "execution_count": 82
        }
      ]
    },
    {
      "cell_type": "markdown",
      "source": [
        "### Why is this working ?"
      ],
      "metadata": {
        "id": "LouwB6dFz1mr"
      }
    },
    {
      "cell_type": "markdown",
      "source": [
        "Remember our X, is currently the Inputs, that is 32 x 3\n",
        "\n",
        "32 represents the number\n",
        "\n",
        "3 represents the correspond character in integer"
      ],
      "metadata": {
        "id": "T9Hc0Np9z4M6"
      }
    },
    {
      "cell_type": "code",
      "source": [
        "X.shape"
      ],
      "metadata": {
        "colab": {
          "base_uri": "https://localhost:8080/"
        },
        "id": "KKSohc39z93z",
        "outputId": "d0a04d0e-3116-4d6f-f2e4-0b6ba7ffdafe"
      },
      "execution_count": 83,
      "outputs": [
        {
          "output_type": "execute_result",
          "data": {
            "text/plain": [
              "torch.Size([32, 3])"
            ]
          },
          "metadata": {},
          "execution_count": 83
        }
      ]
    },
    {
      "cell_type": "code",
      "source": [
        "X"
      ],
      "metadata": {
        "colab": {
          "base_uri": "https://localhost:8080/"
        },
        "id": "qFhpBacUzosD",
        "outputId": "1d95e041-df89-4459-c751-b669ec6a5cae"
      },
      "execution_count": 84,
      "outputs": [
        {
          "output_type": "execute_result",
          "data": {
            "text/plain": [
              "tensor([[ 0,  0,  0],\n",
              "        [ 0,  0,  5],\n",
              "        [ 0,  5, 13],\n",
              "        [ 5, 13, 13],\n",
              "        [13, 13,  1],\n",
              "        [ 0,  0,  0],\n",
              "        [ 0,  0, 15],\n",
              "        [ 0, 15, 12],\n",
              "        [15, 12,  9],\n",
              "        [12,  9, 22],\n",
              "        [ 9, 22,  9],\n",
              "        [22,  9,  1],\n",
              "        [ 0,  0,  0],\n",
              "        [ 0,  0,  1],\n",
              "        [ 0,  1, 22],\n",
              "        [ 1, 22,  1],\n",
              "        [ 0,  0,  0],\n",
              "        [ 0,  0,  9],\n",
              "        [ 0,  9, 19],\n",
              "        [ 9, 19,  1],\n",
              "        [19,  1,  2],\n",
              "        [ 1,  2,  5],\n",
              "        [ 2,  5, 12],\n",
              "        [ 5, 12, 12],\n",
              "        [12, 12,  1],\n",
              "        [ 0,  0,  0],\n",
              "        [ 0,  0, 19],\n",
              "        [ 0, 19, 15],\n",
              "        [19, 15, 16],\n",
              "        [15, 16,  8],\n",
              "        [16,  8,  9],\n",
              "        [ 8,  9,  1]])"
            ]
          },
          "metadata": {},
          "execution_count": 84
        }
      ]
    },
    {
      "cell_type": "markdown",
      "source": [
        "Let's take X[2, 2], gives us integer 13"
      ],
      "metadata": {
        "id": "9XWWTz8F0Mb7"
      }
    },
    {
      "cell_type": "code",
      "source": [
        "X[2, 2]"
      ],
      "metadata": {
        "colab": {
          "base_uri": "https://localhost:8080/"
        },
        "id": "_r6ADlR9yydz",
        "outputId": "5bf469f1-c2fa-45fe-e260-a16456e367ea"
      },
      "execution_count": 85,
      "outputs": [
        {
          "output_type": "execute_result",
          "data": {
            "text/plain": [
              "tensor(13)"
            ]
          },
          "metadata": {},
          "execution_count": 85
        }
      ]
    },
    {
      "cell_type": "markdown",
      "source": [
        "Let's take C[X] and then we indexing by X[2,2]\n",
        "\n",
        "We get the embedding."
      ],
      "metadata": {
        "id": "_PUsQSSm0fOa"
      }
    },
    {
      "cell_type": "code",
      "source": [
        "C[X][2,2]"
      ],
      "metadata": {
        "colab": {
          "base_uri": "https://localhost:8080/"
        },
        "id": "NJAU332gy_og",
        "outputId": "5a4e7c62-9ed2-4de5-efb3-54345186828f"
      },
      "execution_count": 86,
      "outputs": [
        {
          "output_type": "execute_result",
          "data": {
            "text/plain": [
              "tensor([0.9516, 0.5553])"
            ]
          },
          "metadata": {},
          "execution_count": 86
        }
      ]
    },
    {
      "cell_type": "markdown",
      "source": [
        "Let's verify by indexing C in [13]"
      ],
      "metadata": {
        "id": "21j4Y6IC1OB6"
      }
    },
    {
      "cell_type": "code",
      "source": [
        "C[13]"
      ],
      "metadata": {
        "colab": {
          "base_uri": "https://localhost:8080/"
        },
        "id": "0r58Is2xzDUM",
        "outputId": "31f99e08-9aef-44f7-c8c7-7e63cdbfe3a6"
      },
      "execution_count": 87,
      "outputs": [
        {
          "output_type": "execute_result",
          "data": {
            "text/plain": [
              "tensor([0.9516, 0.5553])"
            ]
          },
          "metadata": {},
          "execution_count": 87
        }
      ]
    },
    {
      "cell_type": "markdown",
      "source": [
        "Long Story Short, PyTorch Indexing is AWESOME!"
      ],
      "metadata": {
        "id": "AQYPG3xt1R_J"
      }
    },
    {
      "cell_type": "markdown",
      "source": [
        "# Implement Hidden Layer"
      ],
      "metadata": {
        "id": "o9WLDnXz2jpC"
      }
    },
    {
      "cell_type": "markdown",
      "source": [
        "## Concept"
      ],
      "metadata": {
        "id": "DArTmCzO6xeR"
      }
    },
    {
      "cell_type": "markdown",
      "source": [
        "![image.png](data:image/png;base64,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)"
      ],
      "metadata": {
        "id": "ezO3hCSt2AWS"
      }
    },
    {
      "cell_type": "markdown",
      "source": [
        "We have our inputs from block (32, 3, 2), we have 3 blocks of this, resulting inputs of 6\n",
        "  - 32: Characters\n",
        "  - 3: Input\n",
        "  - 2: Dimensions\n",
        "  - Output = Input * Dimensions = 3 * 2 = 6\n",
        "\n",
        "We have our outputs (Hyperparamter), we choose 100 here."
      ],
      "metadata": {
        "id": "_PuYVDk92mAq"
      }
    },
    {
      "cell_type": "markdown",
      "source": [
        "Let's define our parameters"
      ],
      "metadata": {
        "id": "QxzsNUyP3tFC"
      }
    },
    {
      "cell_type": "code",
      "source": [
        "W1 = torch.randn((6, 100))\n",
        "b1 = torch.randn(100)"
      ],
      "metadata": {
        "id": "cT9dzIRd1EmT"
      },
      "execution_count": 88,
      "outputs": []
    },
    {
      "cell_type": "markdown",
      "source": [
        "Normally, we will then multiply them together:\n",
        "\n",
        "- We cannot do it here, because dimensions doesn't match\n",
        "- We will need to"
      ],
      "metadata": {
        "id": "zdjuIGZ84YsC"
      }
    },
    {
      "cell_type": "code",
      "source": [
        "emb @ W1 + b1"
      ],
      "metadata": {
        "colab": {
          "base_uri": "https://localhost:8080/",
          "height": 181
        },
        "id": "8nnhJh-Y4eq5",
        "outputId": "c8cb378b-5b52-42b1-8a7d-046c4dd99791"
      },
      "execution_count": 89,
      "outputs": [
        {
          "output_type": "error",
          "ename": "RuntimeError",
          "evalue": "ignored",
          "traceback": [
            "\u001b[0;31m---------------------------------------------------------------------------\u001b[0m",
            "\u001b[0;31mRuntimeError\u001b[0m                              Traceback (most recent call last)",
            "\u001b[0;32m<ipython-input-89-355728df8662>\u001b[0m in \u001b[0;36m<cell line: 1>\u001b[0;34m()\u001b[0m\n\u001b[0;32m----> 1\u001b[0;31m \u001b[0memb\u001b[0m \u001b[0;34m@\u001b[0m \u001b[0mW1\u001b[0m \u001b[0;34m+\u001b[0m \u001b[0mb1\u001b[0m\u001b[0;34m\u001b[0m\u001b[0;34m\u001b[0m\u001b[0m\n\u001b[0m",
            "\u001b[0;31mRuntimeError\u001b[0m: mat1 and mat2 shapes cannot be multiplied (96x2 and 6x100)"
          ]
        }
      ]
    },
    {
      "cell_type": "markdown",
      "source": [
        "## Solution"
      ],
      "metadata": {
        "id": "b7XYdFt-5DZS"
      }
    },
    {
      "cell_type": "code",
      "source": [
        "torch.cat([emb[:, 0, :], emb[:, 1, :], emb[:, 2, :]], 1).shape"
      ],
      "metadata": {
        "colab": {
          "base_uri": "https://localhost:8080/"
        },
        "id": "1Mp8kw-y4lKn",
        "outputId": "fe5ce68e-cfc4-428e-8e1d-09fbc5ba044e"
      },
      "execution_count": 90,
      "outputs": [
        {
          "output_type": "execute_result",
          "data": {
            "text/plain": [
              "torch.Size([32, 6])"
            ]
          },
          "metadata": {},
          "execution_count": 90
        }
      ]
    },
    {
      "cell_type": "markdown",
      "source": [
        "This code simply means that we take these 3 blocks, and concatenate them by their 2nd dimension, which is index 1"
      ],
      "metadata": {
        "id": "l2Y4uJuD6RKi"
      }
    },
    {
      "cell_type": "markdown",
      "source": [
        "![image.png](data:image/png;base64,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)"
      ],
      "metadata": {
        "id": "U7klWMUv6PaT"
      }
    },
    {
      "cell_type": "markdown",
      "source": [
        "But this is not Generalize, error occurs if our block size changes"
      ],
      "metadata": {
        "id": "Be_-MdI96pyI"
      }
    },
    {
      "cell_type": "markdown",
      "source": [
        "## Generalize"
      ],
      "metadata": {
        "id": "aOoIPydn62Xx"
      }
    },
    {
      "cell_type": "markdown",
      "source": [
        "We will need to use \"unbind\""
      ],
      "metadata": {
        "id": "fzdXgyvO64kp"
      }
    },
    {
      "cell_type": "code",
      "source": [
        "emb.shape"
      ],
      "metadata": {
        "colab": {
          "base_uri": "https://localhost:8080/"
        },
        "id": "zEy8O3Tm7Q8M",
        "outputId": "cbced7ff-9a0e-4bbc-a261-06a23206656f"
      },
      "execution_count": 91,
      "outputs": [
        {
          "output_type": "execute_result",
          "data": {
            "text/plain": [
              "torch.Size([32, 3, 2])"
            ]
          },
          "metadata": {},
          "execution_count": 91
        }
      ]
    },
    {
      "cell_type": "markdown",
      "source": [
        "We unbind the 2nd dimension, which is index 1"
      ],
      "metadata": {
        "id": "-dLtCmeV7IBa"
      }
    },
    {
      "cell_type": "code",
      "source": [
        "torch.unbind(emb, 1)"
      ],
      "metadata": {
        "colab": {
          "base_uri": "https://localhost:8080/"
        },
        "id": "AbihMklg6DVE",
        "outputId": "fdbd8dd1-53e7-4b5a-811f-0386052c3db1"
      },
      "execution_count": 92,
      "outputs": [
        {
          "output_type": "execute_result",
          "data": {
            "text/plain": [
              "(tensor([[ 0.4112, -1.0683],\n",
              "         [ 0.4112, -1.0683],\n",
              "         [ 0.4112, -1.0683],\n",
              "         [ 0.2359,  0.3113],\n",
              "         [ 0.9516,  0.5553],\n",
              "         [ 0.4112, -1.0683],\n",
              "         [ 0.4112, -1.0683],\n",
              "         [ 0.4112, -1.0683],\n",
              "         [ 0.3540,  1.0820],\n",
              "         [ 0.7130,  0.3540],\n",
              "         [-1.7456, -1.3379],\n",
              "         [-0.4660, -0.0138],\n",
              "         [ 0.4112, -1.0683],\n",
              "         [ 0.4112, -1.0683],\n",
              "         [ 0.4112, -1.0683],\n",
              "         [ 1.4103, -1.0646],\n",
              "         [ 0.4112, -1.0683],\n",
              "         [ 0.4112, -1.0683],\n",
              "         [ 0.4112, -1.0683],\n",
              "         [-1.7456, -1.3379],\n",
              "         [ 0.0158,  0.2572],\n",
              "         [ 1.4103, -1.0646],\n",
              "         [-0.8964,  0.5800],\n",
              "         [ 0.2359,  0.3113],\n",
              "         [ 0.7130,  0.3540],\n",
              "         [ 0.4112, -1.0683],\n",
              "         [ 0.4112, -1.0683],\n",
              "         [ 0.4112, -1.0683],\n",
              "         [ 0.0158,  0.2572],\n",
              "         [ 0.3540,  1.0820],\n",
              "         [-1.5061, -0.7867],\n",
              "         [ 0.2186,  1.1205]]),\n",
              " tensor([[ 0.4112, -1.0683],\n",
              "         [ 0.4112, -1.0683],\n",
              "         [ 0.2359,  0.3113],\n",
              "         [ 0.9516,  0.5553],\n",
              "         [ 0.9516,  0.5553],\n",
              "         [ 0.4112, -1.0683],\n",
              "         [ 0.4112, -1.0683],\n",
              "         [ 0.3540,  1.0820],\n",
              "         [ 0.7130,  0.3540],\n",
              "         [-1.7456, -1.3379],\n",
              "         [-0.4660, -0.0138],\n",
              "         [-1.7456, -1.3379],\n",
              "         [ 0.4112, -1.0683],\n",
              "         [ 0.4112, -1.0683],\n",
              "         [ 1.4103, -1.0646],\n",
              "         [-0.4660, -0.0138],\n",
              "         [ 0.4112, -1.0683],\n",
              "         [ 0.4112, -1.0683],\n",
              "         [-1.7456, -1.3379],\n",
              "         [ 0.0158,  0.2572],\n",
              "         [ 1.4103, -1.0646],\n",
              "         [-0.8964,  0.5800],\n",
              "         [ 0.2359,  0.3113],\n",
              "         [ 0.7130,  0.3540],\n",
              "         [ 0.7130,  0.3540],\n",
              "         [ 0.4112, -1.0683],\n",
              "         [ 0.4112, -1.0683],\n",
              "         [ 0.0158,  0.2572],\n",
              "         [ 0.3540,  1.0820],\n",
              "         [-1.5061, -0.7867],\n",
              "         [ 0.2186,  1.1205],\n",
              "         [-1.7456, -1.3379]]),\n",
              " tensor([[ 0.4112, -1.0683],\n",
              "         [ 0.2359,  0.3113],\n",
              "         [ 0.9516,  0.5553],\n",
              "         [ 0.9516,  0.5553],\n",
              "         [ 1.4103, -1.0646],\n",
              "         [ 0.4112, -1.0683],\n",
              "         [ 0.3540,  1.0820],\n",
              "         [ 0.7130,  0.3540],\n",
              "         [-1.7456, -1.3379],\n",
              "         [-0.4660, -0.0138],\n",
              "         [-1.7456, -1.3379],\n",
              "         [ 1.4103, -1.0646],\n",
              "         [ 0.4112, -1.0683],\n",
              "         [ 1.4103, -1.0646],\n",
              "         [-0.4660, -0.0138],\n",
              "         [ 1.4103, -1.0646],\n",
              "         [ 0.4112, -1.0683],\n",
              "         [-1.7456, -1.3379],\n",
              "         [ 0.0158,  0.2572],\n",
              "         [ 1.4103, -1.0646],\n",
              "         [-0.8964,  0.5800],\n",
              "         [ 0.2359,  0.3113],\n",
              "         [ 0.7130,  0.3540],\n",
              "         [ 0.7130,  0.3540],\n",
              "         [ 1.4103, -1.0646],\n",
              "         [ 0.4112, -1.0683],\n",
              "         [ 0.0158,  0.2572],\n",
              "         [ 0.3540,  1.0820],\n",
              "         [-1.5061, -0.7867],\n",
              "         [ 0.2186,  1.1205],\n",
              "         [-1.7456, -1.3379],\n",
              "         [ 1.4103, -1.0646]]))"
            ]
          },
          "metadata": {},
          "execution_count": 92
        }
      ]
    },
    {
      "cell_type": "markdown",
      "source": [
        "Both are equivalent:\n",
        "- torch.unbind(emb, 1)\n",
        "- [emb[:, 0, :], emb[:, 1, :], emb[:, 2, :]]"
      ],
      "metadata": {
        "id": "1fVs97gl7Yap"
      }
    },
    {
      "cell_type": "markdown",
      "source": [
        "Let's concatenate now"
      ],
      "metadata": {
        "id": "LscKRHej7fyS"
      }
    },
    {
      "cell_type": "code",
      "source": [
        "torch.cat(torch.unbind(emb, 1), 1).shape"
      ],
      "metadata": {
        "colab": {
          "base_uri": "https://localhost:8080/"
        },
        "id": "cwgErrdP6uXK",
        "outputId": "e7768fc5-222f-467c-9d77-4054510e10d9"
      },
      "execution_count": 93,
      "outputs": [
        {
          "output_type": "execute_result",
          "data": {
            "text/plain": [
              "torch.Size([32, 6])"
            ]
          },
          "metadata": {},
          "execution_count": 93
        }
      ]
    },
    {
      "cell_type": "markdown",
      "source": [
        "## Further Optimize"
      ],
      "metadata": {
        "id": "nLIFnEfx982a"
      }
    },
    {
      "cell_type": "markdown",
      "source": [
        "Because concatenate is waste of storage, further reading\n",
        "\n",
        "Use \"view\""
      ],
      "metadata": {
        "id": "i7XwmU4f-MGp"
      }
    },
    {
      "cell_type": "code",
      "source": [
        "emb.view(32, 6)"
      ],
      "metadata": {
        "colab": {
          "base_uri": "https://localhost:8080/"
        },
        "id": "WZvO53sh7ljs",
        "outputId": "51d01e92-bab3-4520-ce25-20974af0191b"
      },
      "execution_count": 94,
      "outputs": [
        {
          "output_type": "execute_result",
          "data": {
            "text/plain": [
              "tensor([[ 0.4112, -1.0683,  0.4112, -1.0683,  0.4112, -1.0683],\n",
              "        [ 0.4112, -1.0683,  0.4112, -1.0683,  0.2359,  0.3113],\n",
              "        [ 0.4112, -1.0683,  0.2359,  0.3113,  0.9516,  0.5553],\n",
              "        [ 0.2359,  0.3113,  0.9516,  0.5553,  0.9516,  0.5553],\n",
              "        [ 0.9516,  0.5553,  0.9516,  0.5553,  1.4103, -1.0646],\n",
              "        [ 0.4112, -1.0683,  0.4112, -1.0683,  0.4112, -1.0683],\n",
              "        [ 0.4112, -1.0683,  0.4112, -1.0683,  0.3540,  1.0820],\n",
              "        [ 0.4112, -1.0683,  0.3540,  1.0820,  0.7130,  0.3540],\n",
              "        [ 0.3540,  1.0820,  0.7130,  0.3540, -1.7456, -1.3379],\n",
              "        [ 0.7130,  0.3540, -1.7456, -1.3379, -0.4660, -0.0138],\n",
              "        [-1.7456, -1.3379, -0.4660, -0.0138, -1.7456, -1.3379],\n",
              "        [-0.4660, -0.0138, -1.7456, -1.3379,  1.4103, -1.0646],\n",
              "        [ 0.4112, -1.0683,  0.4112, -1.0683,  0.4112, -1.0683],\n",
              "        [ 0.4112, -1.0683,  0.4112, -1.0683,  1.4103, -1.0646],\n",
              "        [ 0.4112, -1.0683,  1.4103, -1.0646, -0.4660, -0.0138],\n",
              "        [ 1.4103, -1.0646, -0.4660, -0.0138,  1.4103, -1.0646],\n",
              "        [ 0.4112, -1.0683,  0.4112, -1.0683,  0.4112, -1.0683],\n",
              "        [ 0.4112, -1.0683,  0.4112, -1.0683, -1.7456, -1.3379],\n",
              "        [ 0.4112, -1.0683, -1.7456, -1.3379,  0.0158,  0.2572],\n",
              "        [-1.7456, -1.3379,  0.0158,  0.2572,  1.4103, -1.0646],\n",
              "        [ 0.0158,  0.2572,  1.4103, -1.0646, -0.8964,  0.5800],\n",
              "        [ 1.4103, -1.0646, -0.8964,  0.5800,  0.2359,  0.3113],\n",
              "        [-0.8964,  0.5800,  0.2359,  0.3113,  0.7130,  0.3540],\n",
              "        [ 0.2359,  0.3113,  0.7130,  0.3540,  0.7130,  0.3540],\n",
              "        [ 0.7130,  0.3540,  0.7130,  0.3540,  1.4103, -1.0646],\n",
              "        [ 0.4112, -1.0683,  0.4112, -1.0683,  0.4112, -1.0683],\n",
              "        [ 0.4112, -1.0683,  0.4112, -1.0683,  0.0158,  0.2572],\n",
              "        [ 0.4112, -1.0683,  0.0158,  0.2572,  0.3540,  1.0820],\n",
              "        [ 0.0158,  0.2572,  0.3540,  1.0820, -1.5061, -0.7867],\n",
              "        [ 0.3540,  1.0820, -1.5061, -0.7867,  0.2186,  1.1205],\n",
              "        [-1.5061, -0.7867,  0.2186,  1.1205, -1.7456, -1.3379],\n",
              "        [ 0.2186,  1.1205, -1.7456, -1.3379,  1.4103, -1.0646]])"
            ]
          },
          "metadata": {},
          "execution_count": 94
        }
      ]
    },
    {
      "cell_type": "markdown",
      "source": [
        "Verify"
      ],
      "metadata": {
        "id": "wCf7dbm1-OSZ"
      }
    },
    {
      "cell_type": "code",
      "source": [
        "emb.view(32, 6) == torch.cat(torch.unbind(emb, 1), 1)"
      ],
      "metadata": {
        "colab": {
          "base_uri": "https://localhost:8080/"
        },
        "id": "OL841goW-EOn",
        "outputId": "de59a46d-b261-4cd3-db84-508f8002ae7f"
      },
      "execution_count": 95,
      "outputs": [
        {
          "output_type": "execute_result",
          "data": {
            "text/plain": [
              "tensor([[True, True, True, True, True, True],\n",
              "        [True, True, True, True, True, True],\n",
              "        [True, True, True, True, True, True],\n",
              "        [True, True, True, True, True, True],\n",
              "        [True, True, True, True, True, True],\n",
              "        [True, True, True, True, True, True],\n",
              "        [True, True, True, True, True, True],\n",
              "        [True, True, True, True, True, True],\n",
              "        [True, True, True, True, True, True],\n",
              "        [True, True, True, True, True, True],\n",
              "        [True, True, True, True, True, True],\n",
              "        [True, True, True, True, True, True],\n",
              "        [True, True, True, True, True, True],\n",
              "        [True, True, True, True, True, True],\n",
              "        [True, True, True, True, True, True],\n",
              "        [True, True, True, True, True, True],\n",
              "        [True, True, True, True, True, True],\n",
              "        [True, True, True, True, True, True],\n",
              "        [True, True, True, True, True, True],\n",
              "        [True, True, True, True, True, True],\n",
              "        [True, True, True, True, True, True],\n",
              "        [True, True, True, True, True, True],\n",
              "        [True, True, True, True, True, True],\n",
              "        [True, True, True, True, True, True],\n",
              "        [True, True, True, True, True, True],\n",
              "        [True, True, True, True, True, True],\n",
              "        [True, True, True, True, True, True],\n",
              "        [True, True, True, True, True, True],\n",
              "        [True, True, True, True, True, True],\n",
              "        [True, True, True, True, True, True],\n",
              "        [True, True, True, True, True, True],\n",
              "        [True, True, True, True, True, True]])"
            ]
          },
          "metadata": {},
          "execution_count": 95
        }
      ]
    },
    {
      "cell_type": "markdown",
      "source": [
        "Back to our concept of multiplying"
      ],
      "metadata": {
        "id": "ouNn-BDH-Y9x"
      }
    },
    {
      "cell_type": "code",
      "source": [
        "# emb @ W1 + b1\n",
        "h = emb.view(32, 6) @ W1 + b1"
      ],
      "metadata": {
        "id": "L9gNFeQE-Rk8"
      },
      "execution_count": 96,
      "outputs": []
    },
    {
      "cell_type": "markdown",
      "source": [
        "Add a Tanh"
      ],
      "metadata": {
        "id": "2dTkZVNe_JrA"
      }
    },
    {
      "cell_type": "code",
      "source": [
        "h = torch.tanh(emb.view(32, 6) @ W1 + b1)"
      ],
      "metadata": {
        "id": "zJjawIl4-f4T"
      },
      "execution_count": 97,
      "outputs": []
    },
    {
      "cell_type": "markdown",
      "source": [
        "To not Hard code the block"
      ],
      "metadata": {
        "id": "j0aHiL2Y_Q7Q"
      }
    },
    {
      "cell_type": "code",
      "source": [
        "h = torch.tanh(emb.view(-1, 6) @ W1 + b1)\n",
        "h.shape"
      ],
      "metadata": {
        "colab": {
          "base_uri": "https://localhost:8080/"
        },
        "id": "PbHbmti7_Nly",
        "outputId": "ee231d17-49a6-471f-93c8-03ac4906af75"
      },
      "execution_count": 98,
      "outputs": [
        {
          "output_type": "execute_result",
          "data": {
            "text/plain": [
              "torch.Size([32, 100])"
            ]
          },
          "metadata": {},
          "execution_count": 98
        }
      ]
    },
    {
      "cell_type": "markdown",
      "source": [
        "# Implement SoftMax"
      ],
      "metadata": {
        "id": "VpwJptZX_n5x"
      }
    },
    {
      "cell_type": "code",
      "source": [
        "W2 = torch.randn((100, 27))\n",
        "b2 = torch.randn(27)"
      ],
      "metadata": {
        "id": "J2cfcEu6_TWP"
      },
      "execution_count": 99,
      "outputs": []
    },
    {
      "cell_type": "code",
      "source": [
        "logits = h @ W2 + b2"
      ],
      "metadata": {
        "id": "Z4RkIdbCOMWG"
      },
      "execution_count": 100,
      "outputs": []
    },
    {
      "cell_type": "code",
      "source": [
        "logits.shape"
      ],
      "metadata": {
        "colab": {
          "base_uri": "https://localhost:8080/"
        },
        "id": "ZGkg2XIgOXDC",
        "outputId": "ecc24f3c-b480-4795-ee67-7e82f000eb1a"
      },
      "execution_count": 101,
      "outputs": [
        {
          "output_type": "execute_result",
          "data": {
            "text/plain": [
              "torch.Size([32, 27])"
            ]
          },
          "metadata": {},
          "execution_count": 101
        }
      ]
    },
    {
      "cell_type": "markdown",
      "source": [
        "## Loss"
      ],
      "metadata": {
        "id": "Gdb2oGs4Oa_t"
      }
    },
    {
      "cell_type": "code",
      "source": [
        "counts = logits.exp()\n",
        "prob = counts / counts.sum(1, keepdims=True)\n",
        "prob.shape"
      ],
      "metadata": {
        "colab": {
          "base_uri": "https://localhost:8080/"
        },
        "id": "gC9tZ-mzOX4i",
        "outputId": "861ce8e0-7262-4527-f707-9eaa95608bd2"
      },
      "execution_count": 104,
      "outputs": [
        {
          "output_type": "execute_result",
          "data": {
            "text/plain": [
              "torch.Size([32, 27])"
            ]
          },
          "metadata": {},
          "execution_count": 104
        }
      ]
    },
    {
      "cell_type": "code",
      "source": [
        "loss = -prob[torch.arange(32), Y].log().mean()\n",
        "loss"
      ],
      "metadata": {
        "colab": {
          "base_uri": "https://localhost:8080/"
        },
        "id": "Lt6ndeaxOeu5",
        "outputId": "a6a5e858-2503-4b15-a5f9-c94e8d05a458"
      },
      "execution_count": 105,
      "outputs": [
        {
          "output_type": "execute_result",
          "data": {
            "text/plain": [
              "tensor(14.5687)"
            ]
          },
          "metadata": {},
          "execution_count": 105
        }
      ]
    },
    {
      "cell_type": "markdown",
      "source": [
        "# Quick Summary"
      ],
      "metadata": {
        "id": "l50j92TVPE2l"
      }
    },
    {
      "cell_type": "markdown",
      "source": [
        "## F.cross_entropy"
      ],
      "metadata": {
        "id": "l5QTSdB1P5qk"
      }
    },
    {
      "cell_type": "code",
      "source": [
        "# ------------ now made respectable :) ---------------"
      ],
      "metadata": {
        "id": "8YrG1foxOjqz"
      },
      "execution_count": 106,
      "outputs": []
    },
    {
      "cell_type": "code",
      "source": [
        "X.shape, Y.shape # dataset"
      ],
      "metadata": {
        "colab": {
          "base_uri": "https://localhost:8080/"
        },
        "id": "v_Ip896AOoCR",
        "outputId": "3ec6592c-98dc-4097-c799-8ce34f61b903"
      },
      "execution_count": 107,
      "outputs": [
        {
          "output_type": "execute_result",
          "data": {
            "text/plain": [
              "(torch.Size([32, 3]), torch.Size([32]))"
            ]
          },
          "metadata": {},
          "execution_count": 107
        }
      ]
    },
    {
      "cell_type": "code",
      "source": [
        "g = torch.Generator().manual_seed(2147483647) # for reproducibility\n",
        "C = torch.randn((27, 2), generator=g)\n",
        "W1 = torch.randn((6, 100), generator=g)\n",
        "b1 = torch.randn(100, generator=g)\n",
        "W2 = torch.randn((100, 27), generator=g)\n",
        "b2 = torch.randn(27, generator=g)\n",
        "parameters = [C, W1, b1, W2, b2]"
      ],
      "metadata": {
        "id": "1eoO6WEEOubJ"
      },
      "execution_count": 109,
      "outputs": []
    },
    {
      "cell_type": "code",
      "source": [
        "sum(p.nelement() for p in parameters) # number of parameters in total"
      ],
      "metadata": {
        "colab": {
          "base_uri": "https://localhost:8080/"
        },
        "id": "cuV9Nl85Pnb1",
        "outputId": "56daf4be-0363-449f-eaed-318f2340f792"
      },
      "execution_count": 110,
      "outputs": [
        {
          "output_type": "execute_result",
          "data": {
            "text/plain": [
              "3481"
            ]
          },
          "metadata": {},
          "execution_count": 110
        }
      ]
    },
    {
      "cell_type": "code",
      "source": [
        "emb = C[X] # (32, 3, 2)\n",
        "h = torch.tanh(emb.view(-1, 6) @ W1 + b1) # (32, 100)\n",
        "logits = h @ W2 + b2 # (32, 27)\n",
        "# ---------------------------------------------\n",
        "# counts = logits.exp()\n",
        "# prob = counts / counts.sum(1, keepdims=True)\n",
        "# prob.shape\n",
        "# --------------------------------------------- To unefficient, we will not use this typically\n",
        "loss = F.cross_entropy(logits, Y)\n",
        "loss"
      ],
      "metadata": {
        "colab": {
          "base_uri": "https://localhost:8080/"
        },
        "id": "c41E2Ma4Ouj0",
        "outputId": "58546d01-cca9-4d22-ac52-5814b93bf92c"
      },
      "execution_count": 111,
      "outputs": [
        {
          "output_type": "execute_result",
          "data": {
            "text/plain": [
              "tensor(17.7697)"
            ]
          },
          "metadata": {},
          "execution_count": 111
        }
      ]
    },
    {
      "cell_type": "markdown",
      "source": [
        "## Why cross_entropy?"
      ],
      "metadata": {
        "id": "8YXsEWH6QotN"
      }
    },
    {
      "cell_type": "markdown",
      "source": [
        "Reason 1: Forward pass is much more efficient\n",
        "\n",
        "Reason 2: Backward pass is much more efficient\n",
        "\n",
        "Reason 3: Things can be much more numerical much behave (exponential case)"
      ],
      "metadata": {
        "id": "1nRSTlThQrkt"
      }
    },
    {
      "cell_type": "code",
      "source": [
        "# Exercises Prove these"
      ],
      "metadata": {
        "id": "C3YXOMfwPnoP"
      },
      "execution_count": 112,
      "outputs": []
    },
    {
      "cell_type": "markdown",
      "source": [
        "# Train"
      ],
      "metadata": {
        "id": "mKG8nEG7UpnN"
      }
    },
    {
      "cell_type": "code",
      "source": [
        "# Set requires_grad to True\n",
        "for p in parameters:\n",
        "  p.requires_grad = True"
      ],
      "metadata": {
        "id": "KrbCGorEQ8w4"
      },
      "execution_count": 113,
      "outputs": []
    },
    {
      "cell_type": "code",
      "source": [
        "for i in range(100):\n",
        "\n",
        "  # forward pass\n",
        "  emb = C[X] # (32, 3, 10)\n",
        "  h = torch.tanh(emb.view(-1, 6) @ W1 + b1) # (32, 100)\n",
        "  logits = h @ W2 + b2 # (32, 27)\n",
        "  loss = F.cross_entropy(logits, Y)\n",
        "  print(loss.item())\n",
        "\n",
        "  # backward pass\n",
        "  for p in parameters:\n",
        "    p.grad = None\n",
        "  loss.backward()\n",
        "\n",
        "  # update\n",
        "  for p in parameters:\n",
        "    p.data += -0.1 * p.grad"
      ],
      "metadata": {
        "colab": {
          "base_uri": "https://localhost:8080/"
        },
        "id": "OOyuB-6TUq5a",
        "outputId": "3cf14346-b041-46cb-ce51-52a3a698b15e"
      },
      "execution_count": 115,
      "outputs": [
        {
          "output_type": "stream",
          "name": "stdout",
          "text": [
            "0.25360995531082153\n",
            "0.253610759973526\n",
            "0.25360769033432007\n",
            "0.2536084055900574\n",
            "0.25360536575317383\n",
            "0.25360608100891113\n",
            "0.2536030411720276\n",
            "0.2536037862300873\n",
            "0.25360071659088135\n",
            "0.2536014914512634\n",
            "0.2535983622074127\n",
            "0.2535991668701172\n",
            "0.25359606742858887\n",
            "0.25359678268432617\n",
            "0.2535938024520874\n",
            "0.2535945177078247\n",
            "0.2535914480686188\n",
            "0.25359222292900085\n",
            "0.2535891532897949\n",
            "0.253589928150177\n",
            "0.25358685851097107\n",
            "0.25358766317367554\n",
            "0.2535845935344696\n",
            "0.2535853385925293\n",
            "0.2535823583602905\n",
            "0.25358307361602783\n",
            "0.25358009338378906\n",
            "0.253580778837204\n",
            "0.2535777986049652\n",
            "0.2535785436630249\n",
            "0.25357556343078613\n",
            "0.25357627868652344\n",
            "0.25357329845428467\n",
            "0.253574013710022\n",
            "0.2535710632801056\n",
            "0.2535717487335205\n",
            "0.2535687983036041\n",
            "0.2535695433616638\n",
            "0.25356656312942505\n",
            "0.25356727838516235\n",
            "0.25356432795524597\n",
            "0.2535650134086609\n",
            "0.2535620629787445\n",
            "0.2535628080368042\n",
            "0.2535598874092102\n",
            "0.2535606026649475\n",
            "0.25355765223503113\n",
            "0.25355833768844604\n",
            "0.25355544686317444\n",
            "0.25355613231658936\n",
            "0.253553181886673\n",
            "0.25355392694473267\n",
            "0.25355103611946106\n",
            "0.253551721572876\n",
            "0.253548800945282\n",
            "0.2535495162010193\n",
            "0.2535466253757477\n",
            "0.2535473108291626\n",
            "0.2535444498062134\n",
            "0.2535451054573059\n",
            "0.2535422444343567\n",
            "0.2535429000854492\n",
            "0.2535400390625\n",
            "0.2535407841205597\n",
            "0.2535378932952881\n",
            "0.253538578748703\n",
            "0.253535658121109\n",
            "0.2535364031791687\n",
            "0.2535335421562195\n",
            "0.253534197807312\n",
            "0.25353139638900757\n",
            "0.2535320520401001\n",
            "0.2535291910171509\n",
            "0.2535299062728882\n",
            "0.25352704524993896\n",
            "0.2535277009010315\n",
            "0.25352492928504944\n",
            "0.25352561473846436\n",
            "0.25352275371551514\n",
            "0.25352343916893005\n",
            "0.2535206377506256\n",
            "0.25352129340171814\n",
            "0.2535184919834137\n",
            "0.2535191774368286\n",
            "0.2535163462162018\n",
            "0.2535170018672943\n",
            "0.25351426005363464\n",
            "0.2535148859024048\n",
            "0.25351211428642273\n",
            "0.25351274013519287\n",
            "0.2535099685192108\n",
            "0.25351062417030334\n",
            "0.2535078525543213\n",
            "0.25350847840309143\n",
            "0.2535057067871094\n",
            "0.2535063624382019\n",
            "0.25350359082221985\n",
            "0.25350427627563477\n",
            "0.2535015344619751\n",
            "0.25350216031074524\n"
          ]
        }
      ]
    },
    {
      "cell_type": "markdown",
      "source": [
        "## Something Weird"
      ],
      "metadata": {
        "id": "HVv1hpaGVLv1"
      }
    },
    {
      "cell_type": "markdown",
      "source": [
        "Our loss stuck at 0.25, this is because due to our dataset, we are not able to completely overfit"
      ],
      "metadata": {
        "id": "2yeLezn8VOPd"
      }
    },
    {
      "cell_type": "markdown",
      "source": [
        "![image.png](data:image/png;base64,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)"
      ],
      "metadata": {
        "id": "g7Z_pSL4VzBW"
      }
    },
    {
      "cell_type": "markdown",
      "source": [
        "What we need to know is just that its normal if our loss can never go down until a point."
      ],
      "metadata": {
        "id": "tGSjupwMWDeW"
      }
    },
    {
      "cell_type": "markdown",
      "source": [
        "## Batch Problem"
      ],
      "metadata": {
        "id": "G4vtAtZ2WK3s"
      }
    },
    {
      "cell_type": "markdown",
      "source": [
        "Let's load all of our names as Dataset"
      ],
      "metadata": {
        "id": "gUN9HmZ_XCR7"
      }
    },
    {
      "cell_type": "code",
      "source": [
        "# build the dataset\n",
        "\n",
        "block_size = 3 # context length: how many characters do we take to predict the next one?\n",
        "X, Y = [], []\n",
        "for w in words: # <------------ Loading all names\n",
        "\n",
        "  #print(w)\n",
        "  context = [0] * block_size\n",
        "  for ch in w + '.':\n",
        "    ix = stoi[ch]\n",
        "    X.append(context)\n",
        "    Y.append(ix)\n",
        "    #print(''.join(itos[i] for i in context), '--->', itos[ix])\n",
        "    context = context[1:] + [ix] # crop and append\n",
        "\n",
        "X = torch.tensor(X)\n",
        "Y = torch.tensor(Y)"
      ],
      "metadata": {
        "id": "bM2jsNU7U_OR"
      },
      "execution_count": 119,
      "outputs": []
    },
    {
      "cell_type": "code",
      "source": [
        "X.shape, X.dtype, Y.shape, Y.dtype"
      ],
      "metadata": {
        "colab": {
          "base_uri": "https://localhost:8080/"
        },
        "id": "PsNNWHFhWbbq",
        "outputId": "da4d10c2-34d9-493d-bf5c-fbd16407503f"
      },
      "execution_count": 120,
      "outputs": [
        {
          "output_type": "execute_result",
          "data": {
            "text/plain": [
              "(torch.Size([228146, 3]), torch.int64, torch.Size([228146]), torch.int64)"
            ]
          },
          "metadata": {},
          "execution_count": 120
        }
      ]
    },
    {
      "cell_type": "code",
      "source": [
        "g = torch.Generator().manual_seed(2147483647) # for reproducibility\n",
        "C = torch.randn((27, 2), generator=g)\n",
        "W1 = torch.randn((6, 100), generator=g)\n",
        "b1 = torch.randn(100, generator=g)\n",
        "W2 = torch.randn((100, 27), generator=g)\n",
        "b2 = torch.randn(27, generator=g)\n",
        "parameters = [C, W1, b1, W2, b2]"
      ],
      "metadata": {
        "id": "dawWWEcrW2zp"
      },
      "execution_count": 121,
      "outputs": []
    },
    {
      "cell_type": "code",
      "source": [
        "sum(p.nelement() for p in parameters) # number of parameters in total"
      ],
      "metadata": {
        "colab": {
          "base_uri": "https://localhost:8080/"
        },
        "outputId": "81dc2978-670a-480e-cb2f-95db42b1c8c7",
        "id": "H3H-ezNdW2zq"
      },
      "execution_count": 122,
      "outputs": [
        {
          "output_type": "execute_result",
          "data": {
            "text/plain": [
              "3481"
            ]
          },
          "metadata": {},
          "execution_count": 122
        }
      ]
    },
    {
      "cell_type": "code",
      "source": [
        "emb = C[X] # (32, 3, 2)\n",
        "h = torch.tanh(emb.view(-1, 6) @ W1 + b1) # (32, 100)\n",
        "logits = h @ W2 + b2 # (32, 27)\n",
        "# ---------------------------------------------\n",
        "# counts = logits.exp()\n",
        "# prob = counts / counts.sum(1, keepdims=True)\n",
        "# prob.shape\n",
        "# --------------------------------------------- To unefficient, we will not use this typically\n",
        "loss = F.cross_entropy(logits, Y)\n",
        "loss"
      ],
      "metadata": {
        "colab": {
          "base_uri": "https://localhost:8080/"
        },
        "outputId": "9bbbe10e-dbf3-4bac-b650-2aefe3a5b8df",
        "id": "gp_o_2fKW2zr"
      },
      "execution_count": 123,
      "outputs": [
        {
          "output_type": "execute_result",
          "data": {
            "text/plain": [
              "tensor(19.5052)"
            ]
          },
          "metadata": {},
          "execution_count": 123
        }
      ]
    },
    {
      "cell_type": "markdown",
      "source": [
        "Train"
      ],
      "metadata": {
        "id": "Ai-RSGl_XKqj"
      }
    },
    {
      "cell_type": "code",
      "source": [
        "# Set requires_grad to True\n",
        "for p in parameters:\n",
        "  p.requires_grad = True"
      ],
      "metadata": {
        "id": "hvRG6PoSW7tD"
      },
      "execution_count": 124,
      "outputs": []
    },
    {
      "cell_type": "markdown",
      "source": [
        "If you run the below code, you will see that the training is slow, because we haven't batch them."
      ],
      "metadata": {
        "id": "tPWBpPtmXLjM"
      }
    },
    {
      "cell_type": "code",
      "source": [
        "for i in range(100):\n",
        "\n",
        "  # forward pass\n",
        "  emb = C[X] # (32, 3, 10)\n",
        "  h = torch.tanh(emb.view(-1, 6) @ W1 + b1) # (32, 100)\n",
        "  logits = h @ W2 + b2 # (32, 27)\n",
        "  loss = F.cross_entropy(logits, Y)\n",
        "  print(loss.item())\n",
        "\n",
        "  # backward pass\n",
        "  for p in parameters:\n",
        "    p.grad = None\n",
        "  loss.backward()\n",
        "\n",
        "  # update\n",
        "  for p in parameters:\n",
        "    p.data += -0.1 * p.grad"
      ],
      "metadata": {
        "colab": {
          "base_uri": "https://localhost:8080/"
        },
        "outputId": "3dac6902-424e-4e20-8116-ea7dee860da5",
        "id": "mQMaE-PTW7tE"
      },
      "execution_count": 125,
      "outputs": [
        {
          "output_type": "stream",
          "name": "stdout",
          "text": [
            "19.505226135253906\n",
            "17.08449363708496\n",
            "15.776531219482422\n",
            "14.833340644836426\n",
            "14.002603530883789\n",
            "13.253260612487793\n",
            "12.57991886138916\n",
            "11.983101844787598\n",
            "11.47049331665039\n",
            "11.051856994628906\n",
            "10.709586143493652\n",
            "10.407632827758789\n",
            "10.127808570861816\n",
            "9.864365577697754\n",
            "9.61450481414795\n",
            "9.376440048217773\n",
            "9.148944854736328\n",
            "8.931111335754395\n",
            "8.722230911254883\n",
            "8.521749496459961\n",
            "8.329227447509766\n",
            "8.144326210021973\n",
            "7.966792106628418\n",
            "7.796451091766357\n",
            "7.633185863494873\n",
            "7.476908206939697\n",
            "7.327521800994873\n",
            "7.1848859786987305\n",
            "7.048791885375977\n",
            "6.918952465057373\n",
            "6.795018196105957\n",
            "6.6766037940979\n",
            "6.563317775726318\n",
            "6.454789161682129\n",
            "6.350668907165527\n",
            "6.250643253326416\n",
            "6.1544318199157715\n",
            "6.061785697937012\n",
            "5.972482204437256\n",
            "5.886328220367432\n",
            "5.803146839141846\n",
            "5.722784519195557\n",
            "5.645094394683838\n",
            "5.5699462890625\n",
            "5.497213363647461\n",
            "5.4267802238464355\n",
            "5.3585357666015625\n",
            "5.2923760414123535\n",
            "5.228203773498535\n",
            "5.165928363800049\n",
            "5.105468273162842\n",
            "5.046748161315918\n",
            "4.98969841003418\n",
            "4.934261322021484\n",
            "4.880379676818848\n",
            "4.828005790710449\n",
            "4.777095794677734\n",
            "4.727609157562256\n",
            "4.679513931274414\n",
            "4.632779121398926\n",
            "4.587378025054932\n",
            "4.543288707733154\n",
            "4.500490665435791\n",
            "4.4589667320251465\n",
            "4.418700218200684\n",
            "4.379675388336182\n",
            "4.3418779373168945\n",
            "4.305292129516602\n",
            "4.269898414611816\n",
            "4.235680103302002\n",
            "4.202611923217773\n",
            "4.170670032501221\n",
            "4.139823913574219\n",
            "4.110044002532959\n",
            "4.081292152404785\n",
            "4.053531169891357\n",
            "4.02672004699707\n",
            "4.00081729888916\n",
            "3.9757795333862305\n",
            "3.951563596725464\n",
            "3.9281277656555176\n",
            "3.905430793762207\n",
            "3.8834328651428223\n",
            "3.862098217010498\n",
            "3.84139084815979\n",
            "3.821279764175415\n",
            "3.8017332553863525\n",
            "3.782726287841797\n",
            "3.764232635498047\n",
            "3.746229410171509\n",
            "3.7286949157714844\n",
            "3.7116103172302246\n",
            "3.6949586868286133\n",
            "3.6787221431732178\n",
            "3.662886142730713\n",
            "3.64743709564209\n",
            "3.6323606967926025\n",
            "3.617644786834717\n",
            "3.6032779216766357\n",
            "3.5892493724823\n"
          ]
        }
      ]
    },
    {
      "cell_type": "markdown",
      "source": [
        "## Batch Solution"
      ],
      "metadata": {
        "id": "zanMwylRXeBE"
      }
    },
    {
      "cell_type": "code",
      "source": [
        "# torch.randint(0, 5, (32,))\n",
        "# Generate number from 0 to 5, total counts 32\n",
        "\n",
        "torch.randint(0, X.shape[0], (32,))"
      ],
      "metadata": {
        "colab": {
          "base_uri": "https://localhost:8080/"
        },
        "id": "hmZoihgiXAgb",
        "outputId": "cbed665e-d58f-42bf-821c-f9d824f87ac2"
      },
      "execution_count": 126,
      "outputs": [
        {
          "output_type": "execute_result",
          "data": {
            "text/plain": [
              "tensor([227531,  52358,  60257,  43121, 184925, 191370, 203600, 182109, 182073,\n",
              "        179385, 226779, 219725,  46755, 150242, 100309,  17162, 215153, 208577,\n",
              "        210048, 179421,  81168, 186188, 205610,  15037,  77358,   1596,  66873,\n",
              "        176715,  69932, 122499,  49358, 164346])"
            ]
          },
          "metadata": {},
          "execution_count": 126
        }
      ]
    },
    {
      "cell_type": "markdown",
      "source": [
        "Implement Batch while Training"
      ],
      "metadata": {
        "id": "n3qO4Q0QYRCd"
      }
    },
    {
      "cell_type": "code",
      "source": [
        "for i in range(100):\n",
        "  ix = torch.randint(0, X.shape[0], (32,))\n",
        "\n",
        "  # forward pass\n",
        "  emb = C[X[ix]] # (32, 3, 10)\n",
        "  h = torch.tanh(emb.view(-1, 6) @ W1 + b1) # (32, 100)\n",
        "  logits = h @ W2 + b2 # (32, 27)\n",
        "  loss = F.cross_entropy(logits, Y[ix])\n",
        "  print(loss.item())\n",
        "\n",
        "  # backward pass\n",
        "  for p in parameters:\n",
        "    p.grad = None\n",
        "  loss.backward()\n",
        "\n",
        "  # update\n",
        "  for p in parameters:\n",
        "    p.data += -0.1 * p.grad"
      ],
      "metadata": {
        "colab": {
          "base_uri": "https://localhost:8080/"
        },
        "id": "Xz1FXtXAX5EA",
        "outputId": "1333335d-09ba-48a0-90f2-ade87781bf3b"
      },
      "execution_count": 127,
      "outputs": [
        {
          "output_type": "stream",
          "name": "stdout",
          "text": [
            "3.5509066581726074\n",
            "3.869478702545166\n",
            "3.5586676597595215\n",
            "3.5341084003448486\n",
            "2.899401903152466\n",
            "4.367391586303711\n",
            "2.634936571121216\n",
            "3.6948227882385254\n",
            "4.003003120422363\n",
            "3.8328652381896973\n",
            "3.641920566558838\n",
            "3.394965648651123\n",
            "3.0541393756866455\n",
            "3.6658856868743896\n",
            "3.7613956928253174\n",
            "3.994630813598633\n",
            "4.195417881011963\n",
            "4.278409481048584\n",
            "3.7814524173736572\n",
            "3.215852975845337\n",
            "4.106485843658447\n",
            "2.9105050563812256\n",
            "3.4624557495117188\n",
            "3.0041086673736572\n",
            "3.4655497074127197\n",
            "3.129237174987793\n",
            "4.088265895843506\n",
            "3.1091506481170654\n",
            "4.028305530548096\n",
            "2.9234416484832764\n",
            "3.5332205295562744\n",
            "3.3787660598754883\n",
            "3.920553684234619\n",
            "3.476867198944092\n",
            "3.0350403785705566\n",
            "3.3098416328430176\n",
            "4.0733232498168945\n",
            "3.519693613052368\n",
            "3.1285171508789062\n",
            "3.067735433578491\n",
            "3.0917301177978516\n",
            "3.8729326725006104\n",
            "3.5887956619262695\n",
            "3.130911350250244\n",
            "2.5745084285736084\n",
            "3.5350496768951416\n",
            "2.530874729156494\n",
            "2.8943891525268555\n",
            "3.3730626106262207\n",
            "3.8967580795288086\n",
            "3.239254951477051\n",
            "2.675168752670288\n",
            "3.1426708698272705\n",
            "3.25988507270813\n",
            "4.022451400756836\n",
            "2.977969169616699\n",
            "4.239043712615967\n",
            "3.2257864475250244\n",
            "3.949629545211792\n",
            "3.56302809715271\n",
            "2.9583966732025146\n",
            "2.847071647644043\n",
            "3.2065107822418213\n",
            "2.8854401111602783\n",
            "2.829294204711914\n",
            "3.2710797786712646\n",
            "3.037935495376587\n",
            "3.1708085536956787\n",
            "2.9358155727386475\n",
            "3.1121838092803955\n",
            "3.336395740509033\n",
            "2.7896432876586914\n",
            "3.7768845558166504\n",
            "3.086469888687134\n",
            "3.704353094100952\n",
            "3.2766506671905518\n",
            "3.40459942817688\n",
            "2.9647231101989746\n",
            "3.1296606063842773\n",
            "2.714750051498413\n",
            "2.8226678371429443\n",
            "3.3999786376953125\n",
            "3.367859363555908\n",
            "3.008174419403076\n",
            "3.2164957523345947\n",
            "2.5019443035125732\n",
            "3.10141921043396\n",
            "3.262476921081543\n",
            "2.94159197807312\n",
            "3.429929256439209\n",
            "3.036752700805664\n",
            "3.057382822036743\n",
            "2.892082929611206\n",
            "3.2532639503479004\n",
            "3.085127115249634\n",
            "4.200191020965576\n",
            "3.110877275466919\n",
            "2.826939821243286\n",
            "3.591353178024292\n",
            "3.366848945617676\n"
          ]
        }
      ]
    },
    {
      "cell_type": "markdown",
      "source": [
        "# Mini-Batch Loss vs No-Batch Loss"
      ],
      "metadata": {
        "id": "jAOuVsOjY1b0"
      }
    },
    {
      "cell_type": "markdown",
      "source": [
        "bla bla bla, exercises, why"
      ],
      "metadata": {
        "id": "Y9TG8s6RZ1kv"
      }
    },
    {
      "cell_type": "markdown",
      "source": [
        "## Mini-Batch Loss"
      ],
      "metadata": {
        "id": "xxGmCzbSZuLl"
      }
    },
    {
      "cell_type": "code",
      "source": [
        "for i in range(100):\n",
        "  ix = torch.randint(0, X.shape[0], (32,))\n",
        "\n",
        "  # forward pass\n",
        "  emb = C[X[ix]] # (32, 3, 10)\n",
        "  h = torch.tanh(emb.view(-1, 6) @ W1 + b1) # (32, 100)\n",
        "  logits = h @ W2 + b2 # (32, 27)\n",
        "  loss = F.cross_entropy(logits, Y[ix])\n",
        "  # print(loss.item())\n",
        "\n",
        "  # backward pass\n",
        "  for p in parameters:\n",
        "    p.grad = None\n",
        "  loss.backward()\n",
        "\n",
        "  # update\n",
        "  for p in parameters:\n",
        "    p.data += -0.1 * p.grad\n",
        "\n",
        "print(loss.item())"
      ],
      "metadata": {
        "colab": {
          "base_uri": "https://localhost:8080/"
        },
        "id": "1imQIPygYcsk",
        "outputId": "0a437ad3-da7b-42e0-9cce-2c459141904a"
      },
      "execution_count": 132,
      "outputs": [
        {
          "output_type": "stream",
          "name": "stdout",
          "text": [
            "2.754147529602051\n"
          ]
        }
      ]
    },
    {
      "cell_type": "markdown",
      "source": [
        "## No-Batch Loss"
      ],
      "metadata": {
        "id": "GRcYOwI-ZxIc"
      }
    },
    {
      "cell_type": "code",
      "source": [
        "emb = C[X] # (32, 3, 2)\n",
        "h = torch.tanh(emb.view(-1, 6) @ W1 + b1) # (32, 100)\n",
        "logits = h @ W2 + b2 # (32, 27)\n",
        "loss = F.cross_entropy(logits, Y)\n",
        "loss"
      ],
      "metadata": {
        "colab": {
          "base_uri": "https://localhost:8080/"
        },
        "id": "bwDRZA9uY04a",
        "outputId": "1199d8fb-8b7f-47c7-b46a-3aaa740605e0"
      },
      "execution_count": 133,
      "outputs": [
        {
          "output_type": "execute_result",
          "data": {
            "text/plain": [
              "tensor(2.7646, grad_fn=<NllLossBackward0>)"
            ]
          },
          "metadata": {},
          "execution_count": 133
        }
      ]
    },
    {
      "cell_type": "markdown",
      "source": [
        "# Finding a good Loss function"
      ],
      "metadata": {
        "id": "qaZxtuLPfEni"
      }
    },
    {
      "cell_type": "markdown",
      "source": [
        "## Solution 1"
      ],
      "metadata": {
        "id": "N_Wguorgj25l"
      }
    },
    {
      "cell_type": "code",
      "source": [
        "g = torch.Generator().manual_seed(2147483647) # for reproducibility\n",
        "C = torch.randn((27, 2), generator=g)\n",
        "W1 = torch.randn((6, 100), generator=g)\n",
        "b1 = torch.randn(100, generator=g)\n",
        "W2 = torch.randn((100, 27), generator=g)\n",
        "b2 = torch.randn(27, generator=g)\n",
        "parameters = [C, W1, b1, W2, b2]"
      ],
      "metadata": {
        "id": "M3QImw1RjAh7"
      },
      "execution_count": 151,
      "outputs": []
    },
    {
      "cell_type": "code",
      "source": [
        "sum(p.nelement() for p in parameters) # number of parameters in total"
      ],
      "metadata": {
        "colab": {
          "base_uri": "https://localhost:8080/"
        },
        "outputId": "00a7dc69-74e4-414a-8b44-4e2ffdbce744",
        "id": "vZ65ljJUjQOD"
      },
      "execution_count": 152,
      "outputs": [
        {
          "output_type": "execute_result",
          "data": {
            "text/plain": [
              "3481"
            ]
          },
          "metadata": {},
          "execution_count": 152
        }
      ]
    },
    {
      "cell_type": "code",
      "source": [
        "# Set requires_grad to True\n",
        "for p in parameters:\n",
        "  p.requires_grad = True"
      ],
      "metadata": {
        "id": "qAXdrZXDjQOF"
      },
      "execution_count": 153,
      "outputs": []
    },
    {
      "cell_type": "code",
      "source": [
        "lre = torch.linspace(-3, 0, 1000)\n",
        "lrs = 10**lre"
      ],
      "metadata": {
        "id": "7heJK-VaZZhr"
      },
      "execution_count": 154,
      "outputs": []
    },
    {
      "cell_type": "code",
      "source": [
        "lri = []\n",
        "lossi = []"
      ],
      "metadata": {
        "id": "9wlL_lgGic28"
      },
      "execution_count": 155,
      "outputs": []
    },
    {
      "cell_type": "code",
      "source": [
        "for i in range(1000):\n",
        "\n",
        "  # minibatch construct\n",
        "  ix = torch.randint(0, X.shape[0], (32,))\n",
        "\n",
        "  # forward pass\n",
        "  emb = C[X[ix]] # (32, 3, 10)\n",
        "  h = torch.tanh(emb.view(-1, 6) @ W1 + b1) # (32, 200)\n",
        "  logits = h @ W2 + b2 # (32, 27)\n",
        "  loss = F.cross_entropy(logits, Y[ix])\n",
        "  print(loss.item())\n",
        "\n",
        "  # backward pass\n",
        "  for p in parameters:\n",
        "    p.grad = None\n",
        "  loss.backward()\n",
        "\n",
        "  # update\n",
        "  lr = lrs[i]\n",
        "  for p in parameters:\n",
        "    p.data += -lr * p.grad\n",
        "\n",
        "  # track stats\n",
        "  lri.append(lr)\n",
        "  lossi.append(loss.item())\n",
        "\n",
        "#print(loss.item())"
      ],
      "metadata": {
        "colab": {
          "base_uri": "https://localhost:8080/"
        },
        "id": "thvQhxwdfHBG",
        "outputId": "92d574d5-f939-4efe-a5ca-5c1425cf2097"
      },
      "execution_count": 156,
      "outputs": [
        {
          "output_type": "stream",
          "name": "stdout",
          "text": [
            "18.136716842651367\n",
            "20.428335189819336\n",
            "17.732776641845703\n",
            "19.362628936767578\n",
            "19.29833984375\n",
            "17.82460594177246\n",
            "17.308635711669922\n",
            "19.08736228942871\n",
            "17.227214813232422\n",
            "20.117849349975586\n",
            "17.72260284423828\n",
            "20.10552215576172\n",
            "21.96315574645996\n",
            "16.993553161621094\n",
            "20.179590225219727\n",
            "19.283281326293945\n",
            "21.369356155395508\n",
            "19.974328994750977\n",
            "18.492216110229492\n",
            "19.062213897705078\n",
            "18.87863540649414\n",
            "20.597976684570312\n",
            "17.7109317779541\n",
            "18.386932373046875\n",
            "18.048307418823242\n",
            "18.823734283447266\n",
            "17.48239517211914\n",
            "23.28224754333496\n",
            "17.765615463256836\n",
            "13.433892250061035\n",
            "18.70766258239746\n",
            "18.89609146118164\n",
            "19.673688888549805\n",
            "15.739903450012207\n",
            "17.768260955810547\n",
            "18.523054122924805\n",
            "21.22907257080078\n",
            "17.818002700805664\n",
            "17.41848373413086\n",
            "19.93790626525879\n",
            "17.10490608215332\n",
            "18.9587345123291\n",
            "20.773723602294922\n",
            "20.434368133544922\n",
            "21.113039016723633\n",
            "17.988643646240234\n",
            "18.086660385131836\n",
            "18.51531982421875\n",
            "19.306074142456055\n",
            "19.58075714111328\n",
            "21.788448333740234\n",
            "20.393388748168945\n",
            "18.521808624267578\n",
            "20.04612922668457\n",
            "17.81789779663086\n",
            "17.389305114746094\n",
            "17.17011833190918\n",
            "17.544466018676758\n",
            "14.974528312683105\n",
            "18.998628616333008\n",
            "17.525190353393555\n",
            "17.52994155883789\n",
            "18.797096252441406\n",
            "17.053157806396484\n",
            "16.750350952148438\n",
            "20.268827438354492\n",
            "15.14278793334961\n",
            "17.92913246154785\n",
            "15.381924629211426\n",
            "17.66854476928711\n",
            "17.467288970947266\n",
            "16.196439743041992\n",
            "15.84227466583252\n",
            "16.568553924560547\n",
            "18.729087829589844\n",
            "16.618497848510742\n",
            "17.606428146362305\n",
            "15.675837516784668\n",
            "14.283208847045898\n",
            "19.90692901611328\n",
            "17.14897918701172\n",
            "16.21897315979004\n",
            "16.469745635986328\n",
            "14.428926467895508\n",
            "16.807374954223633\n",
            "14.766152381896973\n",
            "15.365862846374512\n",
            "15.6871976852417\n",
            "17.173053741455078\n",
            "17.615232467651367\n",
            "16.42805290222168\n",
            "14.023731231689453\n",
            "14.34699821472168\n",
            "15.86327838897705\n",
            "18.66705894470215\n",
            "15.604239463806152\n",
            "17.8161678314209\n",
            "14.264107704162598\n",
            "17.754039764404297\n",
            "15.994344711303711\n",
            "16.407756805419922\n",
            "19.10804557800293\n",
            "15.496560096740723\n",
            "16.071041107177734\n",
            "14.869522094726562\n",
            "15.706511497497559\n",
            "18.306760787963867\n",
            "16.351354598999023\n",
            "17.940370559692383\n",
            "15.000102996826172\n",
            "16.404996871948242\n",
            "15.738916397094727\n",
            "15.897493362426758\n",
            "16.927955627441406\n",
            "16.147836685180664\n",
            "17.216947555541992\n",
            "17.2051944732666\n",
            "14.527179718017578\n",
            "13.278443336486816\n",
            "14.4857177734375\n",
            "20.127479553222656\n",
            "15.28899097442627\n",
            "17.410669326782227\n",
            "16.21078109741211\n",
            "15.46807861328125\n",
            "18.240209579467773\n",
            "16.94420623779297\n",
            "11.781631469726562\n",
            "15.572488784790039\n",
            "14.784517288208008\n",
            "14.460929870605469\n",
            "15.414306640625\n",
            "14.97216796875\n",
            "14.694808959960938\n",
            "13.195032119750977\n",
            "17.61235237121582\n",
            "15.62247085571289\n",
            "15.251577377319336\n",
            "15.516877174377441\n",
            "13.335945129394531\n",
            "19.3706111907959\n",
            "16.13732147216797\n",
            "14.20875358581543\n",
            "14.297431945800781\n",
            "16.767602920532227\n",
            "17.973974227905273\n",
            "16.837066650390625\n",
            "11.820902824401855\n",
            "14.064282417297363\n",
            "14.381452560424805\n",
            "15.085278511047363\n",
            "15.28013801574707\n",
            "15.356460571289062\n",
            "16.079877853393555\n",
            "14.865059852600098\n",
            "16.15467071533203\n",
            "15.975200653076172\n",
            "14.329367637634277\n",
            "14.588103294372559\n",
            "18.248340606689453\n",
            "17.258024215698242\n",
            "13.8733491897583\n",
            "15.391792297363281\n",
            "16.284135818481445\n",
            "14.701310157775879\n",
            "14.359761238098145\n",
            "12.378974914550781\n",
            "14.989814758300781\n",
            "12.014960289001465\n",
            "16.00136947631836\n",
            "15.115280151367188\n",
            "14.969513893127441\n",
            "14.48098373413086\n",
            "14.321864128112793\n",
            "13.506997108459473\n",
            "13.351251602172852\n",
            "17.42772674560547\n",
            "16.809303283691406\n",
            "12.3798189163208\n",
            "12.779474258422852\n",
            "14.97753620147705\n",
            "17.106689453125\n",
            "15.47883415222168\n",
            "14.406095504760742\n",
            "11.997007369995117\n",
            "13.721116065979004\n",
            "14.6195650100708\n",
            "12.472952842712402\n",
            "11.045951843261719\n",
            "14.734627723693848\n",
            "14.445746421813965\n",
            "13.644641876220703\n",
            "12.26362133026123\n",
            "15.288701057434082\n",
            "12.041340827941895\n",
            "15.38024616241455\n",
            "14.746683120727539\n",
            "11.522526741027832\n",
            "13.052675247192383\n",
            "14.02260971069336\n",
            "15.511680603027344\n",
            "17.860706329345703\n",
            "13.802515983581543\n",
            "12.422731399536133\n",
            "13.201825141906738\n",
            "14.565235137939453\n",
            "13.841207504272461\n",
            "12.878463745117188\n",
            "16.262683868408203\n",
            "16.250886917114258\n",
            "11.813392639160156\n",
            "12.327377319335938\n",
            "13.844803810119629\n",
            "15.025309562683105\n",
            "12.983200073242188\n",
            "15.708932876586914\n",
            "11.696441650390625\n",
            "13.634705543518066\n",
            "14.584527969360352\n",
            "14.459945678710938\n",
            "12.189630508422852\n",
            "10.93529224395752\n",
            "14.770298957824707\n",
            "13.045845031738281\n",
            "11.76645565032959\n",
            "14.605472564697266\n",
            "13.388533592224121\n",
            "12.77013874053955\n",
            "13.295228004455566\n",
            "12.527705192565918\n",
            "15.41368293762207\n",
            "11.97055721282959\n",
            "14.57209587097168\n",
            "12.132725715637207\n",
            "14.694356918334961\n",
            "12.105896949768066\n",
            "12.233028411865234\n",
            "11.666438102722168\n",
            "13.351192474365234\n",
            "12.745540618896484\n",
            "11.561685562133789\n",
            "14.335526466369629\n",
            "13.472068786621094\n",
            "10.719724655151367\n",
            "12.28508186340332\n",
            "12.95083236694336\n",
            "12.962183952331543\n",
            "16.447267532348633\n",
            "12.816323280334473\n",
            "13.445062637329102\n",
            "12.320182800292969\n",
            "14.488236427307129\n",
            "13.406781196594238\n",
            "12.093947410583496\n",
            "11.654420852661133\n",
            "12.961721420288086\n",
            "10.495439529418945\n",
            "10.763407707214355\n",
            "11.45815372467041\n",
            "12.645572662353516\n",
            "11.351191520690918\n",
            "11.342378616333008\n",
            "13.043710708618164\n",
            "13.980484008789062\n",
            "11.501365661621094\n",
            "12.849485397338867\n",
            "11.582260131835938\n",
            "10.456306457519531\n",
            "10.250561714172363\n",
            "9.986126899719238\n",
            "11.094365119934082\n",
            "11.818922996520996\n",
            "13.27347183227539\n",
            "12.548863410949707\n",
            "10.155960083007812\n",
            "12.600284576416016\n",
            "11.923236846923828\n",
            "11.402702331542969\n",
            "9.944536209106445\n",
            "12.612885475158691\n",
            "9.434185028076172\n",
            "9.493037223815918\n",
            "11.987686157226562\n",
            "11.403353691101074\n",
            "10.187334060668945\n",
            "10.134010314941406\n",
            "11.378666877746582\n",
            "11.540019035339355\n",
            "9.927160263061523\n",
            "10.732109069824219\n",
            "9.092570304870605\n",
            "10.555341720581055\n",
            "12.208069801330566\n",
            "9.455240249633789\n",
            "10.666550636291504\n",
            "12.305253028869629\n",
            "10.742436408996582\n",
            "9.97969913482666\n",
            "9.922819137573242\n",
            "14.094510078430176\n",
            "8.633234024047852\n",
            "9.67867374420166\n",
            "9.608512878417969\n",
            "9.52897834777832\n",
            "10.017084121704102\n",
            "11.766489028930664\n",
            "9.547524452209473\n",
            "9.710297584533691\n",
            "9.028329849243164\n",
            "11.638011932373047\n",
            "9.564069747924805\n",
            "10.28174114227295\n",
            "9.626908302307129\n",
            "10.055183410644531\n",
            "10.146018981933594\n",
            "9.876579284667969\n",
            "9.67526912689209\n",
            "10.201310157775879\n",
            "10.71921443939209\n",
            "11.62052059173584\n",
            "9.6519193649292\n",
            "9.884474754333496\n",
            "10.848444938659668\n",
            "10.552870750427246\n",
            "13.098319053649902\n",
            "12.367157936096191\n",
            "11.321961402893066\n",
            "10.493810653686523\n",
            "10.362680435180664\n",
            "9.998635292053223\n",
            "11.392586708068848\n",
            "10.675247192382812\n",
            "12.115728378295898\n",
            "9.262667655944824\n",
            "10.110345840454102\n",
            "7.259805202484131\n",
            "8.886072158813477\n",
            "8.86023235321045\n",
            "9.747058868408203\n",
            "10.011192321777344\n",
            "11.589853286743164\n",
            "11.299145698547363\n",
            "9.588831901550293\n",
            "7.853349685668945\n",
            "13.573238372802734\n",
            "8.653562545776367\n",
            "10.032183647155762\n",
            "7.695100784301758\n",
            "10.136335372924805\n",
            "6.965935707092285\n",
            "8.722420692443848\n",
            "8.706710815429688\n",
            "6.648284435272217\n",
            "10.479270935058594\n",
            "7.5669755935668945\n",
            "10.764864921569824\n",
            "11.526808738708496\n",
            "7.714348793029785\n",
            "10.099618911743164\n",
            "12.234879493713379\n",
            "9.148794174194336\n",
            "12.03460693359375\n",
            "7.6952924728393555\n",
            "9.096935272216797\n",
            "9.107694625854492\n",
            "8.3319091796875\n",
            "10.032398223876953\n",
            "9.498273849487305\n",
            "7.530538558959961\n",
            "10.768952369689941\n",
            "9.277326583862305\n",
            "6.671326637268066\n",
            "8.562787055969238\n",
            "8.608506202697754\n",
            "9.852035522460938\n",
            "8.947600364685059\n",
            "9.988662719726562\n",
            "9.503310203552246\n",
            "8.632711410522461\n",
            "9.588367462158203\n",
            "7.158841609954834\n",
            "7.712002277374268\n",
            "9.436372756958008\n",
            "9.983246803283691\n",
            "8.312524795532227\n",
            "7.390956878662109\n",
            "10.266257286071777\n",
            "8.02657699584961\n",
            "7.541350364685059\n",
            "7.574240684509277\n",
            "9.056875228881836\n",
            "8.456888198852539\n",
            "11.746417999267578\n",
            "8.067503929138184\n",
            "7.356547832489014\n",
            "7.102146625518799\n",
            "6.9665021896362305\n",
            "7.902501583099365\n",
            "8.885581970214844\n",
            "9.08324909210205\n",
            "8.028376579284668\n",
            "6.197659015655518\n",
            "7.8369460105896\n",
            "8.662013053894043\n",
            "6.359673976898193\n",
            "6.1735100746154785\n",
            "9.233484268188477\n",
            "10.02752685546875\n",
            "6.934837341308594\n",
            "6.72047233581543\n",
            "9.311298370361328\n",
            "6.631564617156982\n",
            "8.486042022705078\n",
            "6.2149457931518555\n",
            "5.781538009643555\n",
            "7.093780994415283\n",
            "6.649901866912842\n",
            "7.8453545570373535\n",
            "6.874884128570557\n",
            "7.290049076080322\n",
            "7.338106155395508\n",
            "6.703114032745361\n",
            "5.589268684387207\n",
            "7.561538219451904\n",
            "6.38646125793457\n",
            "7.840210437774658\n",
            "6.901951789855957\n",
            "8.714373588562012\n",
            "5.387693881988525\n",
            "10.96708869934082\n",
            "6.50405740737915\n",
            "7.391549587249756\n",
            "7.489623546600342\n",
            "6.854466438293457\n",
            "6.9606547355651855\n",
            "5.623725414276123\n",
            "7.100536823272705\n",
            "7.415590286254883\n",
            "5.608819961547852\n",
            "6.382643222808838\n",
            "7.496017932891846\n",
            "5.295486927032471\n",
            "5.896695137023926\n",
            "6.077078342437744\n",
            "8.93216609954834\n",
            "5.372687816619873\n",
            "5.920961856842041\n",
            "6.188876152038574\n",
            "7.320342063903809\n",
            "7.073143482208252\n",
            "6.232733249664307\n",
            "8.00963020324707\n",
            "7.559432029724121\n",
            "5.734531879425049\n",
            "4.95707368850708\n",
            "4.593143463134766\n",
            "6.340464115142822\n",
            "7.13943338394165\n",
            "5.752823829650879\n",
            "8.74763298034668\n",
            "8.807056427001953\n",
            "8.474878311157227\n",
            "6.152204990386963\n",
            "7.089272499084473\n",
            "6.112446308135986\n",
            "5.9485859870910645\n",
            "4.936885356903076\n",
            "5.0417962074279785\n",
            "5.4360222816467285\n",
            "4.970912933349609\n",
            "7.266653537750244\n",
            "6.046886920928955\n",
            "7.512362957000732\n",
            "7.402349472045898\n",
            "6.250891208648682\n",
            "5.5245041847229\n",
            "7.0000104904174805\n",
            "6.38251256942749\n",
            "7.028244972229004\n",
            "5.866153240203857\n",
            "6.463027477264404\n",
            "6.9748029708862305\n",
            "4.67012882232666\n",
            "5.290874481201172\n",
            "6.411563873291016\n",
            "5.38464879989624\n",
            "5.261692523956299\n",
            "5.9319987297058105\n",
            "5.763868808746338\n",
            "6.648706436157227\n",
            "5.579428195953369\n",
            "4.636538982391357\n",
            "8.780409812927246\n",
            "5.901858806610107\n",
            "7.5888447761535645\n",
            "5.3927531242370605\n",
            "4.872110843658447\n",
            "4.558581352233887\n",
            "4.440989017486572\n",
            "4.73105001449585\n",
            "7.324471473693848\n",
            "5.166445732116699\n",
            "5.361854553222656\n",
            "7.014298439025879\n",
            "5.899501323699951\n",
            "5.693799018859863\n",
            "5.070733547210693\n",
            "5.179451942443848\n",
            "3.684211492538452\n",
            "5.515218734741211\n",
            "4.385679721832275\n",
            "6.867844581604004\n",
            "4.608186721801758\n",
            "5.635146141052246\n",
            "6.016644477844238\n",
            "4.340198993682861\n",
            "5.515500545501709\n",
            "5.541478157043457\n",
            "4.461050987243652\n",
            "3.26877760887146\n",
            "5.387335300445557\n",
            "4.457068920135498\n",
            "4.21820068359375\n",
            "4.039173126220703\n",
            "3.8493051528930664\n",
            "6.06517219543457\n",
            "4.819064140319824\n",
            "4.009727954864502\n",
            "5.173514366149902\n",
            "3.8575544357299805\n",
            "5.133235454559326\n",
            "5.377180576324463\n",
            "5.818335056304932\n",
            "3.8040337562561035\n",
            "4.654304504394531\n",
            "5.408710956573486\n",
            "5.1912102699279785\n",
            "5.190684795379639\n",
            "5.281635284423828\n",
            "4.9607157707214355\n",
            "5.239393711090088\n",
            "4.95474910736084\n",
            "3.829280376434326\n",
            "4.194033622741699\n",
            "5.051846981048584\n",
            "3.594517230987549\n",
            "4.208730697631836\n",
            "5.623412132263184\n",
            "5.508111953735352\n",
            "4.310449123382568\n",
            "3.7564468383789062\n",
            "5.814306735992432\n",
            "3.9337689876556396\n",
            "5.380680084228516\n",
            "4.069436550140381\n",
            "5.050685405731201\n",
            "4.234405517578125\n",
            "5.474959373474121\n",
            "4.650852680206299\n",
            "4.225768089294434\n",
            "4.994330883026123\n",
            "3.5560357570648193\n",
            "4.404248237609863\n",
            "5.470304012298584\n",
            "3.306239604949951\n",
            "4.106005668640137\n",
            "4.626749515533447\n",
            "3.7990081310272217\n",
            "3.6949939727783203\n",
            "3.6364612579345703\n",
            "4.274954319000244\n",
            "3.939997434616089\n",
            "4.244443416595459\n",
            "5.736817359924316\n",
            "4.683554649353027\n",
            "4.219120979309082\n",
            "4.270712852478027\n",
            "4.065758228302002\n",
            "4.149435997009277\n",
            "3.1676340103149414\n",
            "4.434630870819092\n",
            "3.0065970420837402\n",
            "5.102299690246582\n",
            "3.6590640544891357\n",
            "3.8325533866882324\n",
            "4.909875869750977\n",
            "3.4170901775360107\n",
            "2.922138214111328\n",
            "3.9377691745758057\n",
            "4.154020309448242\n",
            "3.737105369567871\n",
            "3.0010221004486084\n",
            "4.3284783363342285\n",
            "3.9136955738067627\n",
            "3.5353612899780273\n",
            "3.557288408279419\n",
            "3.7469236850738525\n",
            "3.9322354793548584\n",
            "3.5463907718658447\n",
            "3.958299160003662\n",
            "3.5612945556640625\n",
            "3.847306966781616\n",
            "4.203386306762695\n",
            "3.244995355606079\n",
            "4.4629597663879395\n",
            "4.334651470184326\n",
            "3.3479163646698\n",
            "3.3676114082336426\n",
            "3.940277576446533\n",
            "3.2737581729888916\n",
            "4.129942893981934\n",
            "4.283148288726807\n",
            "2.9299871921539307\n",
            "3.616969585418701\n",
            "3.3604156970977783\n",
            "3.215108871459961\n",
            "3.1961190700531006\n",
            "3.553795099258423\n",
            "3.6160271167755127\n",
            "3.0077145099639893\n",
            "3.347271203994751\n",
            "4.303406238555908\n",
            "3.4948902130126953\n",
            "4.103402137756348\n",
            "3.17020583152771\n",
            "3.1910719871520996\n",
            "3.675424575805664\n",
            "3.587507963180542\n",
            "4.110813140869141\n",
            "3.6849007606506348\n",
            "3.435283899307251\n",
            "3.8039016723632812\n",
            "3.4823570251464844\n",
            "3.5447475910186768\n",
            "4.101626396179199\n",
            "3.9518728256225586\n",
            "3.756295919418335\n",
            "3.4995598793029785\n",
            "3.8588974475860596\n",
            "3.2638022899627686\n",
            "3.0651395320892334\n",
            "3.6273739337921143\n",
            "3.5677244663238525\n",
            "3.4368953704833984\n",
            "4.0608811378479\n",
            "3.3184587955474854\n",
            "3.3296687602996826\n",
            "3.5875604152679443\n",
            "3.6127777099609375\n",
            "3.154503345489502\n",
            "3.326594829559326\n",
            "3.347127676010132\n",
            "3.4735214710235596\n",
            "3.9287283420562744\n",
            "3.119004249572754\n",
            "3.7487268447875977\n",
            "3.6803531646728516\n",
            "3.667811155319214\n",
            "3.5044524669647217\n",
            "2.789051055908203\n",
            "3.361553192138672\n",
            "3.820416212081909\n",
            "4.112629413604736\n",
            "2.7528696060180664\n",
            "3.5547327995300293\n",
            "3.897674798965454\n",
            "2.817350149154663\n",
            "3.3019731044769287\n",
            "2.2945799827575684\n",
            "2.799187660217285\n",
            "3.44827938079834\n",
            "2.797907829284668\n",
            "3.283883571624756\n",
            "3.0227081775665283\n",
            "3.4286398887634277\n",
            "2.9066920280456543\n",
            "2.6498067378997803\n",
            "2.9435832500457764\n",
            "3.7001945972442627\n",
            "3.0352163314819336\n",
            "3.5236141681671143\n",
            "2.928318977355957\n",
            "2.768205165863037\n",
            "3.8078975677490234\n",
            "3.6745712757110596\n",
            "4.058163166046143\n",
            "4.436468601226807\n",
            "2.799920082092285\n",
            "3.2887299060821533\n",
            "3.0865535736083984\n",
            "3.8899271488189697\n",
            "2.986260175704956\n",
            "2.65714955329895\n",
            "2.858769178390503\n",
            "3.1227080821990967\n",
            "3.9046969413757324\n",
            "3.1684396266937256\n",
            "2.8509953022003174\n",
            "2.9969427585601807\n",
            "3.4694020748138428\n",
            "2.8307299613952637\n",
            "2.7193429470062256\n",
            "3.3616702556610107\n",
            "2.9805655479431152\n",
            "3.1961944103240967\n",
            "3.1592330932617188\n",
            "3.3131043910980225\n",
            "3.038159132003784\n",
            "2.8626699447631836\n",
            "3.093125343322754\n",
            "3.0255250930786133\n",
            "2.9631242752075195\n",
            "3.090395927429199\n",
            "3.260922908782959\n",
            "2.596661329269409\n",
            "2.91745924949646\n",
            "2.872241258621216\n",
            "3.549503803253174\n",
            "3.5888354778289795\n",
            "3.2603867053985596\n",
            "3.1734344959259033\n",
            "2.8966612815856934\n",
            "3.7628471851348877\n",
            "3.285820245742798\n",
            "3.2324042320251465\n",
            "3.2176456451416016\n",
            "2.9953012466430664\n",
            "3.500702381134033\n",
            "3.0313057899475098\n",
            "4.399078845977783\n",
            "2.781571865081787\n",
            "2.6909878253936768\n",
            "3.206357955932617\n",
            "3.164851665496826\n",
            "3.093111753463745\n",
            "3.6791632175445557\n",
            "3.679048776626587\n",
            "4.028026580810547\n",
            "3.5381972789764404\n",
            "3.054529905319214\n",
            "3.035832166671753\n",
            "3.611337184906006\n",
            "2.9066219329833984\n",
            "2.4588658809661865\n",
            "2.936800956726074\n",
            "4.059316158294678\n",
            "3.6312642097473145\n",
            "3.2292912006378174\n",
            "3.1457841396331787\n",
            "2.724935293197632\n",
            "3.314560651779175\n",
            "3.1001029014587402\n",
            "3.2035746574401855\n",
            "2.643688917160034\n",
            "3.856515884399414\n",
            "3.70129132270813\n",
            "3.543961763381958\n",
            "3.36279559135437\n",
            "2.9638073444366455\n",
            "2.542515754699707\n",
            "3.1778082847595215\n",
            "3.8520278930664062\n",
            "2.7996132373809814\n",
            "3.3546011447906494\n",
            "3.6706573963165283\n",
            "3.1813342571258545\n",
            "2.74307918548584\n",
            "3.096810817718506\n",
            "3.35664963722229\n",
            "3.3150157928466797\n",
            "2.716564893722534\n",
            "3.0105063915252686\n",
            "2.7925822734832764\n",
            "3.1652133464813232\n",
            "2.872544765472412\n",
            "3.5023193359375\n",
            "3.304105281829834\n",
            "3.7424936294555664\n",
            "3.8362412452697754\n",
            "3.519240140914917\n",
            "3.210671901702881\n",
            "3.7945075035095215\n",
            "3.5216329097747803\n",
            "2.896271228790283\n",
            "3.6811628341674805\n",
            "3.768099308013916\n",
            "3.150669813156128\n",
            "3.02298641204834\n",
            "3.249938726425171\n",
            "3.3656530380249023\n",
            "4.297073841094971\n",
            "3.4050283432006836\n",
            "3.599188804626465\n",
            "3.869561195373535\n",
            "3.1012816429138184\n",
            "3.0647799968719482\n",
            "3.1842496395111084\n",
            "3.0790789127349854\n",
            "3.0030677318573\n",
            "2.942782163619995\n",
            "3.110471725463867\n",
            "2.953594446182251\n",
            "2.787415027618408\n",
            "4.303051948547363\n",
            "3.260315179824829\n",
            "3.1455538272857666\n",
            "3.090531826019287\n",
            "2.9606480598449707\n",
            "3.1732919216156006\n",
            "3.857367753982544\n",
            "2.874852180480957\n",
            "2.6190614700317383\n",
            "3.0865707397460938\n",
            "2.882009983062744\n",
            "3.0275399684906006\n",
            "3.343862295150757\n",
            "2.9205949306488037\n",
            "2.215564727783203\n",
            "3.11329984664917\n",
            "3.7571871280670166\n",
            "3.382467746734619\n",
            "3.6117818355560303\n",
            "3.8575878143310547\n",
            "3.571425199508667\n",
            "3.1975960731506348\n",
            "5.5476555824279785\n",
            "3.334578037261963\n",
            "4.6327033042907715\n",
            "3.128758668899536\n",
            "3.5114307403564453\n",
            "2.604405403137207\n",
            "4.4260735511779785\n",
            "4.317256927490234\n",
            "3.8593273162841797\n",
            "3.643829345703125\n",
            "3.1881704330444336\n",
            "4.161464214324951\n",
            "3.8492889404296875\n",
            "3.4539523124694824\n",
            "4.109238147735596\n",
            "3.3209128379821777\n",
            "3.518836259841919\n",
            "3.793181896209717\n",
            "4.346570014953613\n",
            "4.1778669357299805\n",
            "3.837467670440674\n",
            "3.1627719402313232\n",
            "3.3364155292510986\n",
            "3.521775007247925\n",
            "3.747178792953491\n",
            "3.6458077430725098\n",
            "3.3577518463134766\n",
            "3.0878400802612305\n",
            "3.8283183574676514\n",
            "4.3949174880981445\n",
            "4.851839065551758\n",
            "3.6566226482391357\n",
            "4.775719165802002\n",
            "4.952517986297607\n",
            "4.021571159362793\n",
            "5.2895989418029785\n",
            "4.587762832641602\n",
            "3.6505556106567383\n",
            "3.4526777267456055\n",
            "3.3781843185424805\n",
            "3.52594256401062\n",
            "4.231766700744629\n",
            "3.3495965003967285\n",
            "4.309665679931641\n",
            "4.37289571762085\n",
            "5.123868942260742\n",
            "4.029735088348389\n",
            "3.722763776779175\n",
            "3.4641199111938477\n",
            "3.7645320892333984\n",
            "4.766211032867432\n",
            "4.409661769866943\n",
            "4.899140357971191\n",
            "4.078795909881592\n",
            "3.82421612739563\n",
            "4.45056676864624\n",
            "4.3038105964660645\n",
            "5.763276100158691\n",
            "5.345105171203613\n",
            "4.773547649383545\n",
            "4.408514976501465\n",
            "4.942066669464111\n",
            "4.624515533447266\n",
            "5.654160022735596\n",
            "4.6450653076171875\n",
            "4.665280342102051\n",
            "4.5315260887146\n",
            "3.759793996810913\n",
            "4.993442058563232\n",
            "5.505369186401367\n",
            "4.030569553375244\n",
            "5.5881733894348145\n",
            "4.680634498596191\n",
            "3.4241721630096436\n",
            "5.264781951904297\n",
            "5.183967113494873\n",
            "5.356087684631348\n",
            "5.035163879394531\n",
            "4.7339582443237305\n",
            "4.216782569885254\n",
            "4.253486156463623\n",
            "5.2069196701049805\n",
            "4.024534225463867\n",
            "5.2876200675964355\n",
            "5.374189376831055\n",
            "6.7102532386779785\n",
            "6.102635383605957\n",
            "4.761108875274658\n",
            "4.3353424072265625\n",
            "3.638556718826294\n",
            "4.61953592300415\n",
            "4.534855842590332\n",
            "4.553089618682861\n",
            "3.9575095176696777\n",
            "6.93783712387085\n",
            "8.089111328125\n",
            "6.23789119720459\n",
            "5.393650531768799\n",
            "5.249380588531494\n",
            "5.255948066711426\n",
            "5.791623592376709\n",
            "6.713405609130859\n",
            "6.253690719604492\n",
            "5.837649345397949\n",
            "5.33057165145874\n",
            "6.570284843444824\n",
            "4.461899757385254\n",
            "5.629530906677246\n",
            "6.223272323608398\n",
            "6.8959269523620605\n",
            "5.77001428604126\n",
            "7.842861175537109\n",
            "7.436931610107422\n",
            "8.243176460266113\n",
            "7.065155029296875\n",
            "5.905368804931641\n",
            "6.544968605041504\n",
            "8.509859085083008\n",
            "4.7899651527404785\n",
            "6.17288064956665\n",
            "4.544520378112793\n",
            "5.028720855712891\n",
            "5.4969635009765625\n",
            "4.948993682861328\n",
            "5.640584945678711\n",
            "6.5664873123168945\n",
            "6.355210304260254\n",
            "7.832776069641113\n",
            "7.226768493652344\n",
            "6.445152282714844\n",
            "6.843479156494141\n",
            "12.310173034667969\n",
            "5.545155048370361\n",
            "8.93913745880127\n",
            "12.316932678222656\n",
            "8.091948509216309\n",
            "8.608260154724121\n",
            "6.929234504699707\n",
            "5.591716766357422\n",
            "6.093699932098389\n",
            "5.656976222991943\n",
            "6.355344772338867\n",
            "5.551807880401611\n",
            "6.56092643737793\n",
            "6.811797618865967\n",
            "8.646638870239258\n",
            "8.099946022033691\n",
            "5.524033546447754\n",
            "5.712696552276611\n",
            "6.175309181213379\n",
            "6.237322807312012\n",
            "8.98776912689209\n",
            "5.556203842163086\n",
            "7.745308876037598\n",
            "7.1140031814575195\n",
            "7.5527520179748535\n",
            "7.921762466430664\n",
            "7.104415416717529\n",
            "7.036393165588379\n",
            "6.56078577041626\n",
            "6.661998748779297\n",
            "6.898764610290527\n",
            "6.976451396942139\n",
            "8.51683235168457\n",
            "5.845555782318115\n",
            "7.038075923919678\n",
            "5.124906063079834\n",
            "11.259448051452637\n",
            "9.93188762664795\n",
            "8.666146278381348\n",
            "10.054646492004395\n",
            "6.188645839691162\n",
            "6.236899375915527\n",
            "8.744699478149414\n",
            "8.674264907836914\n"
          ]
        }
      ]
    },
    {
      "cell_type": "code",
      "source": [
        "plt.plot(lri, lossi)"
      ],
      "metadata": {
        "colab": {
          "base_uri": "https://localhost:8080/",
          "height": 448
        },
        "id": "d-Qz8saSiiXi",
        "outputId": "57a9f3b4-18fc-4e45-ac47-562654fba86d"
      },
      "execution_count": 157,
      "outputs": [
        {
          "output_type": "execute_result",
          "data": {
            "text/plain": [
              "[<matplotlib.lines.Line2D at 0x7e6d95960760>]"
            ]
          },
          "metadata": {},
          "execution_count": 157
        },
        {
          "output_type": "display_data",
          "data": {
            "text/plain": [
              "<Figure size 640x480 with 1 Axes>"
            ],
            "image/png": "[encoded data removed]"
          },
          "metadata": {}
        }
      ]
    },
    {
      "cell_type": "code",
      "source": [],
      "metadata": {
        "id": "AhxW8oD9jkzl"
      },
      "execution_count": null,
      "outputs": []
    }
  ]
}