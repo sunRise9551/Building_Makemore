{
  "nbformat": 4,
  "nbformat_minor": 0,
  "metadata": {
    "colab": {
      "provenance": [],
      "toc_visible": true,
      "authorship_tag": "ABX9TyPrOchT9s9PhllP5mOczKAZ",
      "include_colab_link": true
    },
    "kernelspec": {
      "name": "python3",
      "display_name": "Python 3"
    },
    "language_info": {
      "name": "python"
    }
  },
  "cells": [
    {
      "cell_type": "markdown",
      "metadata": {
        "id": "view-in-github",
        "colab_type": "text"
      },
      "source": [
        "<a href=\"https://colab.research.google.com/github/sunRise9551/Building_Makemore/blob/main/Makemore_with_MLP.ipynb\" target=\"_parent\"><img src=\"https://colab.research.google.com/assets/colab-badge.svg\" alt=\"Open In Colab\"/></a>"
      ]
    },
    {
      "cell_type": "code",
      "execution_count": 66,
      "metadata": {
        "id": "lYbu1WCXrPQA"
      },
      "outputs": [],
      "source": [
        "import torch\n",
        "import torch.nn.functional as F\n",
        "import matplotlib.pyplot as plt # for making figures\n",
        "%matplotlib inline"
      ]
    },
    {
      "cell_type": "markdown",
      "source": [
        "# Dataset"
      ],
      "metadata": {
        "id": "xuCG3kvGWU1V"
      }
    },
    {
      "cell_type": "code",
      "source": [
        "# read in all the words\n",
        "words = open('names.txt', 'r').read().splitlines()\n",
        "words[:5]"
      ],
      "metadata": {
        "colab": {
          "base_uri": "https://localhost:8080/"
        },
        "id": "t2srw_vHrUxX",
        "outputId": "61266cf0-6591-403f-d3fb-3928c6a65e96"
      },
      "execution_count": 67,
      "outputs": [
        {
          "output_type": "execute_result",
          "data": {
            "text/plain": [
              "['emma', 'olivia', 'ava', 'isabella', 'sophia']"
            ]
          },
          "metadata": {},
          "execution_count": 67
        }
      ]
    },
    {
      "cell_type": "code",
      "source": [
        "len(words)"
      ],
      "metadata": {
        "colab": {
          "base_uri": "https://localhost:8080/"
        },
        "id": "BITbfi3srWNx",
        "outputId": "f7b070c4-6e09-42c3-9623-f8bdcb7285b5"
      },
      "execution_count": 68,
      "outputs": [
        {
          "output_type": "execute_result",
          "data": {
            "text/plain": [
              "32033"
            ]
          },
          "metadata": {},
          "execution_count": 68
        }
      ]
    },
    {
      "cell_type": "code",
      "source": [
        "# build the vocabulary of characters and mappings to/from integers\n",
        "chars = sorted(list(set(''.join(words))))\n",
        "stoi = {s:i+1 for i,s in enumerate(chars)}\n",
        "stoi['.'] = 0\n",
        "itos = {i:s for s,i in stoi.items()}\n",
        "print(itos)"
      ],
      "metadata": {
        "colab": {
          "base_uri": "https://localhost:8080/"
        },
        "id": "q-cc1t80rXK1",
        "outputId": "ba6136a7-a1a0-4db8-8367-741b4db284dd"
      },
      "execution_count": 69,
      "outputs": [
        {
          "output_type": "stream",
          "name": "stdout",
          "text": [
            "{1: 'a', 2: 'b', 3: 'c', 4: 'd', 5: 'e', 6: 'f', 7: 'g', 8: 'h', 9: 'i', 10: 'j', 11: 'k', 12: 'l', 13: 'm', 14: 'n', 15: 'o', 16: 'p', 17: 'q', 18: 'r', 19: 's', 20: 't', 21: 'u', 22: 'v', 23: 'w', 24: 'x', 25: 'y', 26: 'z', 0: '.'}\n"
          ]
        }
      ]
    },
    {
      "cell_type": "code",
      "source": [
        "# build the dataset\n",
        "\n",
        "block_size = 3 # context length: how many characters do we take to predict the next one?\n",
        "X, Y = [], []\n",
        "for w in words[:5]:\n",
        "\n",
        "  #print(w)\n",
        "  context = [0] * block_size\n",
        "  for ch in w + '.':\n",
        "    ix = stoi[ch]\n",
        "    X.append(context)\n",
        "    Y.append(ix)\n",
        "    print(''.join(itos[i] for i in context), '--->', itos[ix])\n",
        "    context = context[1:] + [ix] # crop and append\n",
        "\n",
        "X = torch.tensor(X)\n",
        "Y = torch.tensor(Y)"
      ],
      "metadata": {
        "colab": {
          "base_uri": "https://localhost:8080/"
        },
        "id": "cVu4zYdtrau1",
        "outputId": "ef58faed-ac6b-4e01-edb7-38683e2299e7"
      },
      "execution_count": 70,
      "outputs": [
        {
          "output_type": "stream",
          "name": "stdout",
          "text": [
            "... ---> e\n",
            "..e ---> m\n",
            ".em ---> m\n",
            "emm ---> a\n",
            "mma ---> .\n",
            "... ---> o\n",
            "..o ---> l\n",
            ".ol ---> i\n",
            "oli ---> v\n",
            "liv ---> i\n",
            "ivi ---> a\n",
            "via ---> .\n",
            "... ---> a\n",
            "..a ---> v\n",
            ".av ---> a\n",
            "ava ---> .\n",
            "... ---> i\n",
            "..i ---> s\n",
            ".is ---> a\n",
            "isa ---> b\n",
            "sab ---> e\n",
            "abe ---> l\n",
            "bel ---> l\n",
            "ell ---> a\n",
            "lla ---> .\n",
            "... ---> s\n",
            "..s ---> o\n",
            ".so ---> p\n",
            "sop ---> h\n",
            "oph ---> i\n",
            "phi ---> a\n",
            "hia ---> .\n"
          ]
        }
      ]
    },
    {
      "cell_type": "code",
      "source": [
        "X.shape, X.dtype, Y.shape, Y.dtype"
      ],
      "metadata": {
        "colab": {
          "base_uri": "https://localhost:8080/"
        },
        "id": "S2CerrBkrcDk",
        "outputId": "e4683757-8c33-4f1a-ba7e-3fea868132ee"
      },
      "execution_count": 71,
      "outputs": [
        {
          "output_type": "execute_result",
          "data": {
            "text/plain": [
              "(torch.Size([32, 3]), torch.int64, torch.Size([32]), torch.int64)"
            ]
          },
          "metadata": {},
          "execution_count": 71
        }
      ]
    },
    {
      "cell_type": "code",
      "source": [
        "X"
      ],
      "metadata": {
        "colab": {
          "base_uri": "https://localhost:8080/"
        },
        "id": "uN7T9HP6tu9b",
        "outputId": "8f10e3bf-5167-4584-fbe3-ec4e2ee24555"
      },
      "execution_count": 72,
      "outputs": [
        {
          "output_type": "execute_result",
          "data": {
            "text/plain": [
              "tensor([[ 0,  0,  0],\n",
              "        [ 0,  0,  5],\n",
              "        [ 0,  5, 13],\n",
              "        [ 5, 13, 13],\n",
              "        [13, 13,  1],\n",
              "        [ 0,  0,  0],\n",
              "        [ 0,  0, 15],\n",
              "        [ 0, 15, 12],\n",
              "        [15, 12,  9],\n",
              "        [12,  9, 22],\n",
              "        [ 9, 22,  9],\n",
              "        [22,  9,  1],\n",
              "        [ 0,  0,  0],\n",
              "        [ 0,  0,  1],\n",
              "        [ 0,  1, 22],\n",
              "        [ 1, 22,  1],\n",
              "        [ 0,  0,  0],\n",
              "        [ 0,  0,  9],\n",
              "        [ 0,  9, 19],\n",
              "        [ 9, 19,  1],\n",
              "        [19,  1,  2],\n",
              "        [ 1,  2,  5],\n",
              "        [ 2,  5, 12],\n",
              "        [ 5, 12, 12],\n",
              "        [12, 12,  1],\n",
              "        [ 0,  0,  0],\n",
              "        [ 0,  0, 19],\n",
              "        [ 0, 19, 15],\n",
              "        [19, 15, 16],\n",
              "        [15, 16,  8],\n",
              "        [16,  8,  9],\n",
              "        [ 8,  9,  1]])"
            ]
          },
          "metadata": {},
          "execution_count": 72
        }
      ]
    },
    {
      "cell_type": "code",
      "source": [
        "Y"
      ],
      "metadata": {
        "colab": {
          "base_uri": "https://localhost:8080/"
        },
        "id": "PdRhJSOrtwf0",
        "outputId": "33180205-5b64-4048-ebcb-8a91d3c7500e"
      },
      "execution_count": 73,
      "outputs": [
        {
          "output_type": "execute_result",
          "data": {
            "text/plain": [
              "tensor([ 5, 13, 13,  1,  0, 15, 12,  9, 22,  9,  1,  0,  1, 22,  1,  0,  9, 19,\n",
              "         1,  2,  5, 12, 12,  1,  0, 19, 15, 16,  8,  9,  1,  0])"
            ]
          },
          "metadata": {},
          "execution_count": 73
        }
      ]
    },
    {
      "cell_type": "markdown",
      "source": [
        "# Embedding"
      ],
      "metadata": {
        "id": "Ze4oNQqns2a8"
      }
    },
    {
      "cell_type": "markdown",
      "source": [
        "## Understand How embedding works"
      ],
      "metadata": {
        "id": "NHMsSFD4s4QE"
      }
    },
    {
      "cell_type": "markdown",
      "source": [
        "- Create an embedding matrix\n",
        "- In our case, we have 27 characters in total, and we want to embed into 2 dimensions\n",
        "- Therefore, we will have a Matrix (27 x 2)\n"
      ],
      "metadata": {
        "id": "Jpva3zYBr-Nt"
      }
    },
    {
      "cell_type": "code",
      "source": [
        "C = torch.randn((27, 2))\n",
        "C"
      ],
      "metadata": {
        "colab": {
          "base_uri": "https://localhost:8080/"
        },
        "id": "UGXbGgugrdib",
        "outputId": "fe9c2e89-3f9a-47b9-d12e-97113aef5f47"
      },
      "execution_count": 74,
      "outputs": [
        {
          "output_type": "execute_result",
          "data": {
            "text/plain": [
              "tensor([[ 0.4112, -1.0683],\n",
              "        [ 1.4103, -1.0646],\n",
              "        [-0.8964,  0.5800],\n",
              "        [ 0.2353,  0.7525],\n",
              "        [-0.7873,  1.8514],\n",
              "        [ 0.2359,  0.3113],\n",
              "        [ 0.1063,  0.0456],\n",
              "        [ 0.7461,  0.2641],\n",
              "        [ 0.2186,  1.1205],\n",
              "        [-1.7456, -1.3379],\n",
              "        [-0.8673,  1.5946],\n",
              "        [-0.1189, -0.0655],\n",
              "        [ 0.7130,  0.3540],\n",
              "        [ 0.9516,  0.5553],\n",
              "        [ 1.2834, -0.6690],\n",
              "        [ 0.3540,  1.0820],\n",
              "        [-1.5061, -0.7867],\n",
              "        [ 1.8161, -1.4050],\n",
              "        [-0.0026,  0.9439],\n",
              "        [ 0.0158,  0.2572],\n",
              "        [-1.1775,  0.3911],\n",
              "        [-1.5979, -1.2809],\n",
              "        [-0.4660, -0.0138],\n",
              "        [ 0.8340, -0.6881],\n",
              "        [-0.6220,  0.2206],\n",
              "        [-0.5019,  0.1865],\n",
              "        [-1.1204, -0.1509]])"
            ]
          },
          "metadata": {},
          "execution_count": 74
        }
      ]
    },
    {
      "cell_type": "markdown",
      "source": [
        "## How to Embed ?"
      ],
      "metadata": {
        "id": "3jw_m4tvx4v6"
      }
    },
    {
      "cell_type": "markdown",
      "source": [
        "### Solution 1"
      ],
      "metadata": {
        "id": "KM6aMXwktgtd"
      }
    },
    {
      "cell_type": "markdown",
      "source": [
        "Let's say we want to embed integer 5"
      ],
      "metadata": {
        "id": "0meTyQ_3ufKj"
      }
    },
    {
      "cell_type": "code",
      "source": [
        "C[5]"
      ],
      "metadata": {
        "colab": {
          "base_uri": "https://localhost:8080/"
        },
        "id": "EXoUXciuutXU",
        "outputId": "354b0958-2bdc-44b0-c744-b006de3deb57"
      },
      "execution_count": 75,
      "outputs": [
        {
          "output_type": "execute_result",
          "data": {
            "text/plain": [
              "tensor([0.2359, 0.3113])"
            ]
          },
          "metadata": {},
          "execution_count": 75
        }
      ]
    },
    {
      "cell_type": "markdown",
      "source": [
        "### Solution 2"
      ],
      "metadata": {
        "id": "ayTGoOVJw3C9"
      }
    },
    {
      "cell_type": "markdown",
      "source": [
        "Recall from our Makemore_with_Bigram while using One-hot encoding\n",
        "\n",
        "1. Let's say we want to One-hot encode integer 5 with 27 classes\n",
        "2. We then multiply by Matrix C\n",
        "\n",
        "There are identical"
      ],
      "metadata": {
        "id": "kcLjQUuru6t7"
      }
    },
    {
      "cell_type": "code",
      "source": [
        "F.one_hot(torch.tensor(5), num_classes=27)"
      ],
      "metadata": {
        "colab": {
          "base_uri": "https://localhost:8080/"
        },
        "id": "Jb7oW0v-wF6e",
        "outputId": "928cf2c5-f25c-4135-c0ee-7455ec3ec516"
      },
      "execution_count": 76,
      "outputs": [
        {
          "output_type": "execute_result",
          "data": {
            "text/plain": [
              "tensor([0, 0, 0, 0, 0, 1, 0, 0, 0, 0, 0, 0, 0, 0, 0, 0, 0, 0, 0, 0, 0, 0, 0, 0,\n",
              "        0, 0, 0])"
            ]
          },
          "metadata": {},
          "execution_count": 76
        }
      ]
    },
    {
      "cell_type": "code",
      "source": [
        "F.one_hot(torch.tensor(5), num_classes=27).float() @ C"
      ],
      "metadata": {
        "colab": {
          "base_uri": "https://localhost:8080/"
        },
        "id": "ia_oW0R4u_4b",
        "outputId": "343486f3-815d-4d17-8398-3e57803939c7"
      },
      "execution_count": 77,
      "outputs": [
        {
          "output_type": "execute_result",
          "data": {
            "text/plain": [
              "tensor([0.2359, 0.3113])"
            ]
          },
          "metadata": {},
          "execution_count": 77
        }
      ]
    },
    {
      "cell_type": "markdown",
      "source": [
        "Integer indexing into lookup table C\n",
        "\n",
        "As a first layer of the neural net, this layer here has neurons that have no non-linearity, just linear neurons, and their weights matrix is C, and we are encoding integers into One-hot and feeding them to the neural net. And the first layer basically embeds them."
      ],
      "metadata": {
        "id": "J7mQbrbTxDhr"
      }
    },
    {
      "cell_type": "markdown",
      "source": [
        "## How to Embed Simultaneously ?"
      ],
      "metadata": {
        "id": "ouuVg_LYyOGr"
      }
    },
    {
      "cell_type": "markdown",
      "source": [
        "In PyTorch, we can:"
      ],
      "metadata": {
        "id": "Zovov7v2yXX8"
      }
    },
    {
      "cell_type": "code",
      "source": [
        "C[5]"
      ],
      "metadata": {
        "colab": {
          "base_uri": "https://localhost:8080/"
        },
        "id": "O-xAA5NVyaXC",
        "outputId": "980b9970-10c9-45c1-9d6f-2021b71ada88"
      },
      "execution_count": 78,
      "outputs": [
        {
          "output_type": "execute_result",
          "data": {
            "text/plain": [
              "tensor([0.2359, 0.3113])"
            ]
          },
          "metadata": {},
          "execution_count": 78
        }
      ]
    },
    {
      "cell_type": "code",
      "source": [
        "C[[5,6,7,8,9,10]]"
      ],
      "metadata": {
        "colab": {
          "base_uri": "https://localhost:8080/"
        },
        "id": "0bsYEqLeybwj",
        "outputId": "560544f8-d931-432c-958b-5e883763803e"
      },
      "execution_count": 79,
      "outputs": [
        {
          "output_type": "execute_result",
          "data": {
            "text/plain": [
              "tensor([[ 0.2359,  0.3113],\n",
              "        [ 0.1063,  0.0456],\n",
              "        [ 0.7461,  0.2641],\n",
              "        [ 0.2186,  1.1205],\n",
              "        [-1.7456, -1.3379],\n",
              "        [-0.8673,  1.5946]])"
            ]
          },
          "metadata": {},
          "execution_count": 79
        }
      ]
    },
    {
      "cell_type": "code",
      "source": [
        "C[[5,6,6,6,6,6,6,7,8,9,10]]"
      ],
      "metadata": {
        "colab": {
          "base_uri": "https://localhost:8080/"
        },
        "id": "0dp4fRSkymiK",
        "outputId": "60d9a198-ddf6-4ae7-fff5-518f09b9dad0"
      },
      "execution_count": 80,
      "outputs": [
        {
          "output_type": "execute_result",
          "data": {
            "text/plain": [
              "tensor([[ 0.2359,  0.3113],\n",
              "        [ 0.1063,  0.0456],\n",
              "        [ 0.1063,  0.0456],\n",
              "        [ 0.1063,  0.0456],\n",
              "        [ 0.1063,  0.0456],\n",
              "        [ 0.1063,  0.0456],\n",
              "        [ 0.1063,  0.0456],\n",
              "        [ 0.7461,  0.2641],\n",
              "        [ 0.2186,  1.1205],\n",
              "        [-1.7456, -1.3379],\n",
              "        [-0.8673,  1.5946]])"
            ]
          },
          "metadata": {},
          "execution_count": 80
        }
      ]
    },
    {
      "cell_type": "markdown",
      "source": [
        "So, we can simply just do C[X]"
      ],
      "metadata": {
        "id": "SOV3MK99yr9a"
      }
    },
    {
      "cell_type": "code",
      "source": [
        "emb = C[X]\n",
        "emb"
      ],
      "metadata": {
        "colab": {
          "base_uri": "https://localhost:8080/"
        },
        "id": "TWZW_VlCr9Cn",
        "outputId": "281c450e-9ab4-4910-d2ca-f5acc0f2da92"
      },
      "execution_count": 81,
      "outputs": [
        {
          "output_type": "execute_result",
          "data": {
            "text/plain": [
              "tensor([[[ 0.4112, -1.0683],\n",
              "         [ 0.4112, -1.0683],\n",
              "         [ 0.4112, -1.0683]],\n",
              "\n",
              "        [[ 0.4112, -1.0683],\n",
              "         [ 0.4112, -1.0683],\n",
              "         [ 0.2359,  0.3113]],\n",
              "\n",
              "        [[ 0.4112, -1.0683],\n",
              "         [ 0.2359,  0.3113],\n",
              "         [ 0.9516,  0.5553]],\n",
              "\n",
              "        [[ 0.2359,  0.3113],\n",
              "         [ 0.9516,  0.5553],\n",
              "         [ 0.9516,  0.5553]],\n",
              "\n",
              "        [[ 0.9516,  0.5553],\n",
              "         [ 0.9516,  0.5553],\n",
              "         [ 1.4103, -1.0646]],\n",
              "\n",
              "        [[ 0.4112, -1.0683],\n",
              "         [ 0.4112, -1.0683],\n",
              "         [ 0.4112, -1.0683]],\n",
              "\n",
              "        [[ 0.4112, -1.0683],\n",
              "         [ 0.4112, -1.0683],\n",
              "         [ 0.3540,  1.0820]],\n",
              "\n",
              "        [[ 0.4112, -1.0683],\n",
              "         [ 0.3540,  1.0820],\n",
              "         [ 0.7130,  0.3540]],\n",
              "\n",
              "        [[ 0.3540,  1.0820],\n",
              "         [ 0.7130,  0.3540],\n",
              "         [-1.7456, -1.3379]],\n",
              "\n",
              "        [[ 0.7130,  0.3540],\n",
              "         [-1.7456, -1.3379],\n",
              "         [-0.4660, -0.0138]],\n",
              "\n",
              "        [[-1.7456, -1.3379],\n",
              "         [-0.4660, -0.0138],\n",
              "         [-1.7456, -1.3379]],\n",
              "\n",
              "        [[-0.4660, -0.0138],\n",
              "         [-1.7456, -1.3379],\n",
              "         [ 1.4103, -1.0646]],\n",
              "\n",
              "        [[ 0.4112, -1.0683],\n",
              "         [ 0.4112, -1.0683],\n",
              "         [ 0.4112, -1.0683]],\n",
              "\n",
              "        [[ 0.4112, -1.0683],\n",
              "         [ 0.4112, -1.0683],\n",
              "         [ 1.4103, -1.0646]],\n",
              "\n",
              "        [[ 0.4112, -1.0683],\n",
              "         [ 1.4103, -1.0646],\n",
              "         [-0.4660, -0.0138]],\n",
              "\n",
              "        [[ 1.4103, -1.0646],\n",
              "         [-0.4660, -0.0138],\n",
              "         [ 1.4103, -1.0646]],\n",
              "\n",
              "        [[ 0.4112, -1.0683],\n",
              "         [ 0.4112, -1.0683],\n",
              "         [ 0.4112, -1.0683]],\n",
              "\n",
              "        [[ 0.4112, -1.0683],\n",
              "         [ 0.4112, -1.0683],\n",
              "         [-1.7456, -1.3379]],\n",
              "\n",
              "        [[ 0.4112, -1.0683],\n",
              "         [-1.7456, -1.3379],\n",
              "         [ 0.0158,  0.2572]],\n",
              "\n",
              "        [[-1.7456, -1.3379],\n",
              "         [ 0.0158,  0.2572],\n",
              "         [ 1.4103, -1.0646]],\n",
              "\n",
              "        [[ 0.0158,  0.2572],\n",
              "         [ 1.4103, -1.0646],\n",
              "         [-0.8964,  0.5800]],\n",
              "\n",
              "        [[ 1.4103, -1.0646],\n",
              "         [-0.8964,  0.5800],\n",
              "         [ 0.2359,  0.3113]],\n",
              "\n",
              "        [[-0.8964,  0.5800],\n",
              "         [ 0.2359,  0.3113],\n",
              "         [ 0.7130,  0.3540]],\n",
              "\n",
              "        [[ 0.2359,  0.3113],\n",
              "         [ 0.7130,  0.3540],\n",
              "         [ 0.7130,  0.3540]],\n",
              "\n",
              "        [[ 0.7130,  0.3540],\n",
              "         [ 0.7130,  0.3540],\n",
              "         [ 1.4103, -1.0646]],\n",
              "\n",
              "        [[ 0.4112, -1.0683],\n",
              "         [ 0.4112, -1.0683],\n",
              "         [ 0.4112, -1.0683]],\n",
              "\n",
              "        [[ 0.4112, -1.0683],\n",
              "         [ 0.4112, -1.0683],\n",
              "         [ 0.0158,  0.2572]],\n",
              "\n",
              "        [[ 0.4112, -1.0683],\n",
              "         [ 0.0158,  0.2572],\n",
              "         [ 0.3540,  1.0820]],\n",
              "\n",
              "        [[ 0.0158,  0.2572],\n",
              "         [ 0.3540,  1.0820],\n",
              "         [-1.5061, -0.7867]],\n",
              "\n",
              "        [[ 0.3540,  1.0820],\n",
              "         [-1.5061, -0.7867],\n",
              "         [ 0.2186,  1.1205]],\n",
              "\n",
              "        [[-1.5061, -0.7867],\n",
              "         [ 0.2186,  1.1205],\n",
              "         [-1.7456, -1.3379]],\n",
              "\n",
              "        [[ 0.2186,  1.1205],\n",
              "         [-1.7456, -1.3379],\n",
              "         [ 1.4103, -1.0646]]])"
            ]
          },
          "metadata": {},
          "execution_count": 81
        }
      ]
    },
    {
      "cell_type": "code",
      "source": [
        "emb.shape"
      ],
      "metadata": {
        "colab": {
          "base_uri": "https://localhost:8080/"
        },
        "id": "4oh8EesFsLw_",
        "outputId": "54ed503b-c837-4010-8b0a-e763ae722624"
      },
      "execution_count": 82,
      "outputs": [
        {
          "output_type": "execute_result",
          "data": {
            "text/plain": [
              "torch.Size([32, 3, 2])"
            ]
          },
          "metadata": {},
          "execution_count": 82
        }
      ]
    },
    {
      "cell_type": "markdown",
      "source": [
        "### Why is this working ?"
      ],
      "metadata": {
        "id": "LouwB6dFz1mr"
      }
    },
    {
      "cell_type": "markdown",
      "source": [
        "Remember our X, is currently the Inputs, that is 32 x 3\n",
        "\n",
        "32 represents the number\n",
        "\n",
        "3 represents the correspond character in integer"
      ],
      "metadata": {
        "id": "T9Hc0Np9z4M6"
      }
    },
    {
      "cell_type": "code",
      "source": [
        "X.shape"
      ],
      "metadata": {
        "colab": {
          "base_uri": "https://localhost:8080/"
        },
        "id": "KKSohc39z93z",
        "outputId": "d0a04d0e-3116-4d6f-f2e4-0b6ba7ffdafe"
      },
      "execution_count": 83,
      "outputs": [
        {
          "output_type": "execute_result",
          "data": {
            "text/plain": [
              "torch.Size([32, 3])"
            ]
          },
          "metadata": {},
          "execution_count": 83
        }
      ]
    },
    {
      "cell_type": "code",
      "source": [
        "X"
      ],
      "metadata": {
        "colab": {
          "base_uri": "https://localhost:8080/"
        },
        "id": "qFhpBacUzosD",
        "outputId": "1d95e041-df89-4459-c751-b669ec6a5cae"
      },
      "execution_count": 84,
      "outputs": [
        {
          "output_type": "execute_result",
          "data": {
            "text/plain": [
              "tensor([[ 0,  0,  0],\n",
              "        [ 0,  0,  5],\n",
              "        [ 0,  5, 13],\n",
              "        [ 5, 13, 13],\n",
              "        [13, 13,  1],\n",
              "        [ 0,  0,  0],\n",
              "        [ 0,  0, 15],\n",
              "        [ 0, 15, 12],\n",
              "        [15, 12,  9],\n",
              "        [12,  9, 22],\n",
              "        [ 9, 22,  9],\n",
              "        [22,  9,  1],\n",
              "        [ 0,  0,  0],\n",
              "        [ 0,  0,  1],\n",
              "        [ 0,  1, 22],\n",
              "        [ 1, 22,  1],\n",
              "        [ 0,  0,  0],\n",
              "        [ 0,  0,  9],\n",
              "        [ 0,  9, 19],\n",
              "        [ 9, 19,  1],\n",
              "        [19,  1,  2],\n",
              "        [ 1,  2,  5],\n",
              "        [ 2,  5, 12],\n",
              "        [ 5, 12, 12],\n",
              "        [12, 12,  1],\n",
              "        [ 0,  0,  0],\n",
              "        [ 0,  0, 19],\n",
              "        [ 0, 19, 15],\n",
              "        [19, 15, 16],\n",
              "        [15, 16,  8],\n",
              "        [16,  8,  9],\n",
              "        [ 8,  9,  1]])"
            ]
          },
          "metadata": {},
          "execution_count": 84
        }
      ]
    },
    {
      "cell_type": "markdown",
      "source": [
        "Let's take X[2, 2], gives us integer 13"
      ],
      "metadata": {
        "id": "9XWWTz8F0Mb7"
      }
    },
    {
      "cell_type": "code",
      "source": [
        "X[2, 2]"
      ],
      "metadata": {
        "colab": {
          "base_uri": "https://localhost:8080/"
        },
        "id": "_r6ADlR9yydz",
        "outputId": "5bf469f1-c2fa-45fe-e260-a16456e367ea"
      },
      "execution_count": 85,
      "outputs": [
        {
          "output_type": "execute_result",
          "data": {
            "text/plain": [
              "tensor(13)"
            ]
          },
          "metadata": {},
          "execution_count": 85
        }
      ]
    },
    {
      "cell_type": "markdown",
      "source": [
        "Let's take C[X] and then we indexing by X[2,2]\n",
        "\n",
        "We get the embedding."
      ],
      "metadata": {
        "id": "_PUsQSSm0fOa"
      }
    },
    {
      "cell_type": "code",
      "source": [
        "C[X][2,2]"
      ],
      "metadata": {
        "colab": {
          "base_uri": "https://localhost:8080/"
        },
        "id": "NJAU332gy_og",
        "outputId": "5a4e7c62-9ed2-4de5-efb3-54345186828f"
      },
      "execution_count": 86,
      "outputs": [
        {
          "output_type": "execute_result",
          "data": {
            "text/plain": [
              "tensor([0.9516, 0.5553])"
            ]
          },
          "metadata": {},
          "execution_count": 86
        }
      ]
    },
    {
      "cell_type": "markdown",
      "source": [
        "Let's verify by indexing C in [13]"
      ],
      "metadata": {
        "id": "21j4Y6IC1OB6"
      }
    },
    {
      "cell_type": "code",
      "source": [
        "C[13]"
      ],
      "metadata": {
        "colab": {
          "base_uri": "https://localhost:8080/"
        },
        "id": "0r58Is2xzDUM",
        "outputId": "31f99e08-9aef-44f7-c8c7-7e63cdbfe3a6"
      },
      "execution_count": 87,
      "outputs": [
        {
          "output_type": "execute_result",
          "data": {
            "text/plain": [
              "tensor([0.9516, 0.5553])"
            ]
          },
          "metadata": {},
          "execution_count": 87
        }
      ]
    },
    {
      "cell_type": "markdown",
      "source": [
        "Long Story Short, PyTorch Indexing is AWESOME!"
      ],
      "metadata": {
        "id": "AQYPG3xt1R_J"
      }
    },
    {
      "cell_type": "markdown",
      "source": [
        "# Implement Hidden Layer"
      ],
      "metadata": {
        "id": "o9WLDnXz2jpC"
      }
    },
    {
      "cell_type": "markdown",
      "source": [
        "## Concept"
      ],
      "metadata": {
        "id": "DArTmCzO6xeR"
      }
    },
    {
      "cell_type": "markdown",
      "source": [
        "![image.png](data:image/png;base64,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)"
      ],
      "metadata": {
        "id": "ezO3hCSt2AWS"
      }
    },
    {
      "cell_type": "markdown",
      "source": [
        "We have our inputs from block (32, 3, 2), we have 3 blocks of this, resulting inputs of 6\n",
        "  - 32: Characters\n",
        "  - 3: Input\n",
        "  - 2: Dimensions\n",
        "  - Output = Input * Dimensions = 3 * 2 = 6\n",
        "\n",
        "We have our outputs (Hyperparamter), we choose 100 here."
      ],
      "metadata": {
        "id": "_PuYVDk92mAq"
      }
    },
    {
      "cell_type": "markdown",
      "source": [
        "Let's define our parameters"
      ],
      "metadata": {
        "id": "QxzsNUyP3tFC"
      }
    },
    {
      "cell_type": "code",
      "source": [
        "W1 = torch.randn((6, 100))\n",
        "b1 = torch.randn(100)"
      ],
      "metadata": {
        "id": "cT9dzIRd1EmT"
      },
      "execution_count": 88,
      "outputs": []
    },
    {
      "cell_type": "markdown",
      "source": [
        "Normally, we will then multiply them together:\n",
        "\n",
        "- We cannot do it here, because dimensions doesn't match\n",
        "- We will need to"
      ],
      "metadata": {
        "id": "zdjuIGZ84YsC"
      }
    },
    {
      "cell_type": "code",
      "source": [
        "emb @ W1 + b1"
      ],
      "metadata": {
        "colab": {
          "base_uri": "https://localhost:8080/",
          "height": 181
        },
        "id": "8nnhJh-Y4eq5",
        "outputId": "c8cb378b-5b52-42b1-8a7d-046c4dd99791"
      },
      "execution_count": 89,
      "outputs": [
        {
          "output_type": "error",
          "ename": "RuntimeError",
          "evalue": "ignored",
          "traceback": [
            "\u001b[0;31m---------------------------------------------------------------------------\u001b[0m",
            "\u001b[0;31mRuntimeError\u001b[0m                              Traceback (most recent call last)",
            "\u001b[0;32m<ipython-input-89-355728df8662>\u001b[0m in \u001b[0;36m<cell line: 1>\u001b[0;34m()\u001b[0m\n\u001b[0;32m----> 1\u001b[0;31m \u001b[0memb\u001b[0m \u001b[0;34m@\u001b[0m \u001b[0mW1\u001b[0m \u001b[0;34m+\u001b[0m \u001b[0mb1\u001b[0m\u001b[0;34m\u001b[0m\u001b[0;34m\u001b[0m\u001b[0m\n\u001b[0m",
            "\u001b[0;31mRuntimeError\u001b[0m: mat1 and mat2 shapes cannot be multiplied (96x2 and 6x100)"
          ]
        }
      ]
    },
    {
      "cell_type": "markdown",
      "source": [
        "## Solution"
      ],
      "metadata": {
        "id": "b7XYdFt-5DZS"
      }
    },
    {
      "cell_type": "code",
      "source": [
        "torch.cat([emb[:, 0, :], emb[:, 1, :], emb[:, 2, :]], 1).shape"
      ],
      "metadata": {
        "colab": {
          "base_uri": "https://localhost:8080/"
        },
        "id": "1Mp8kw-y4lKn",
        "outputId": "fe5ce68e-cfc4-428e-8e1d-09fbc5ba044e"
      },
      "execution_count": 90,
      "outputs": [
        {
          "output_type": "execute_result",
          "data": {
            "text/plain": [
              "torch.Size([32, 6])"
            ]
          },
          "metadata": {},
          "execution_count": 90
        }
      ]
    },
    {
      "cell_type": "markdown",
      "source": [
        "This code simply means that we take these 3 blocks, and concatenate them by their 2nd dimension, which is index 1"
      ],
      "metadata": {
        "id": "l2Y4uJuD6RKi"
      }
    },
    {
      "cell_type": "markdown",
      "source": [
        "![image.png](data:image/png;base64,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)"
      ],
      "metadata": {
        "id": "U7klWMUv6PaT"
      }
    },
    {
      "cell_type": "markdown",
      "source": [
        "But this is not Generalize, error occurs if our block size changes"
      ],
      "metadata": {
        "id": "Be_-MdI96pyI"
      }
    },
    {
      "cell_type": "markdown",
      "source": [
        "## Generalize"
      ],
      "metadata": {
        "id": "aOoIPydn62Xx"
      }
    },
    {
      "cell_type": "markdown",
      "source": [
        "We will need to use \"unbind\""
      ],
      "metadata": {
        "id": "fzdXgyvO64kp"
      }
    },
    {
      "cell_type": "code",
      "source": [
        "emb.shape"
      ],
      "metadata": {
        "colab": {
          "base_uri": "https://localhost:8080/"
        },
        "id": "zEy8O3Tm7Q8M",
        "outputId": "cbced7ff-9a0e-4bbc-a261-06a23206656f"
      },
      "execution_count": 91,
      "outputs": [
        {
          "output_type": "execute_result",
          "data": {
            "text/plain": [
              "torch.Size([32, 3, 2])"
            ]
          },
          "metadata": {},
          "execution_count": 91
        }
      ]
    },
    {
      "cell_type": "markdown",
      "source": [
        "We unbind the 2nd dimension, which is index 1"
      ],
      "metadata": {
        "id": "-dLtCmeV7IBa"
      }
    },
    {
      "cell_type": "code",
      "source": [
        "torch.unbind(emb, 1)"
      ],
      "metadata": {
        "colab": {
          "base_uri": "https://localhost:8080/"
        },
        "id": "AbihMklg6DVE",
        "outputId": "fdbd8dd1-53e7-4b5a-811f-0386052c3db1"
      },
      "execution_count": 92,
      "outputs": [
        {
          "output_type": "execute_result",
          "data": {
            "text/plain": [
              "(tensor([[ 0.4112, -1.0683],\n",
              "         [ 0.4112, -1.0683],\n",
              "         [ 0.4112, -1.0683],\n",
              "         [ 0.2359,  0.3113],\n",
              "         [ 0.9516,  0.5553],\n",
              "         [ 0.4112, -1.0683],\n",
              "         [ 0.4112, -1.0683],\n",
              "         [ 0.4112, -1.0683],\n",
              "         [ 0.3540,  1.0820],\n",
              "         [ 0.7130,  0.3540],\n",
              "         [-1.7456, -1.3379],\n",
              "         [-0.4660, -0.0138],\n",
              "         [ 0.4112, -1.0683],\n",
              "         [ 0.4112, -1.0683],\n",
              "         [ 0.4112, -1.0683],\n",
              "         [ 1.4103, -1.0646],\n",
              "         [ 0.4112, -1.0683],\n",
              "         [ 0.4112, -1.0683],\n",
              "         [ 0.4112, -1.0683],\n",
              "         [-1.7456, -1.3379],\n",
              "         [ 0.0158,  0.2572],\n",
              "         [ 1.4103, -1.0646],\n",
              "         [-0.8964,  0.5800],\n",
              "         [ 0.2359,  0.3113],\n",
              "         [ 0.7130,  0.3540],\n",
              "         [ 0.4112, -1.0683],\n",
              "         [ 0.4112, -1.0683],\n",
              "         [ 0.4112, -1.0683],\n",
              "         [ 0.0158,  0.2572],\n",
              "         [ 0.3540,  1.0820],\n",
              "         [-1.5061, -0.7867],\n",
              "         [ 0.2186,  1.1205]]),\n",
              " tensor([[ 0.4112, -1.0683],\n",
              "         [ 0.4112, -1.0683],\n",
              "         [ 0.2359,  0.3113],\n",
              "         [ 0.9516,  0.5553],\n",
              "         [ 0.9516,  0.5553],\n",
              "         [ 0.4112, -1.0683],\n",
              "         [ 0.4112, -1.0683],\n",
              "         [ 0.3540,  1.0820],\n",
              "         [ 0.7130,  0.3540],\n",
              "         [-1.7456, -1.3379],\n",
              "         [-0.4660, -0.0138],\n",
              "         [-1.7456, -1.3379],\n",
              "         [ 0.4112, -1.0683],\n",
              "         [ 0.4112, -1.0683],\n",
              "         [ 1.4103, -1.0646],\n",
              "         [-0.4660, -0.0138],\n",
              "         [ 0.4112, -1.0683],\n",
              "         [ 0.4112, -1.0683],\n",
              "         [-1.7456, -1.3379],\n",
              "         [ 0.0158,  0.2572],\n",
              "         [ 1.4103, -1.0646],\n",
              "         [-0.8964,  0.5800],\n",
              "         [ 0.2359,  0.3113],\n",
              "         [ 0.7130,  0.3540],\n",
              "         [ 0.7130,  0.3540],\n",
              "         [ 0.4112, -1.0683],\n",
              "         [ 0.4112, -1.0683],\n",
              "         [ 0.0158,  0.2572],\n",
              "         [ 0.3540,  1.0820],\n",
              "         [-1.5061, -0.7867],\n",
              "         [ 0.2186,  1.1205],\n",
              "         [-1.7456, -1.3379]]),\n",
              " tensor([[ 0.4112, -1.0683],\n",
              "         [ 0.2359,  0.3113],\n",
              "         [ 0.9516,  0.5553],\n",
              "         [ 0.9516,  0.5553],\n",
              "         [ 1.4103, -1.0646],\n",
              "         [ 0.4112, -1.0683],\n",
              "         [ 0.3540,  1.0820],\n",
              "         [ 0.7130,  0.3540],\n",
              "         [-1.7456, -1.3379],\n",
              "         [-0.4660, -0.0138],\n",
              "         [-1.7456, -1.3379],\n",
              "         [ 1.4103, -1.0646],\n",
              "         [ 0.4112, -1.0683],\n",
              "         [ 1.4103, -1.0646],\n",
              "         [-0.4660, -0.0138],\n",
              "         [ 1.4103, -1.0646],\n",
              "         [ 0.4112, -1.0683],\n",
              "         [-1.7456, -1.3379],\n",
              "         [ 0.0158,  0.2572],\n",
              "         [ 1.4103, -1.0646],\n",
              "         [-0.8964,  0.5800],\n",
              "         [ 0.2359,  0.3113],\n",
              "         [ 0.7130,  0.3540],\n",
              "         [ 0.7130,  0.3540],\n",
              "         [ 1.4103, -1.0646],\n",
              "         [ 0.4112, -1.0683],\n",
              "         [ 0.0158,  0.2572],\n",
              "         [ 0.3540,  1.0820],\n",
              "         [-1.5061, -0.7867],\n",
              "         [ 0.2186,  1.1205],\n",
              "         [-1.7456, -1.3379],\n",
              "         [ 1.4103, -1.0646]]))"
            ]
          },
          "metadata": {},
          "execution_count": 92
        }
      ]
    },
    {
      "cell_type": "markdown",
      "source": [
        "Both are equivalent:\n",
        "- torch.unbind(emb, 1)\n",
        "- [emb[:, 0, :], emb[:, 1, :], emb[:, 2, :]]"
      ],
      "metadata": {
        "id": "1fVs97gl7Yap"
      }
    },
    {
      "cell_type": "markdown",
      "source": [
        "Let's concatenate now"
      ],
      "metadata": {
        "id": "LscKRHej7fyS"
      }
    },
    {
      "cell_type": "code",
      "source": [
        "torch.cat(torch.unbind(emb, 1), 1).shape"
      ],
      "metadata": {
        "colab": {
          "base_uri": "https://localhost:8080/"
        },
        "id": "cwgErrdP6uXK",
        "outputId": "e7768fc5-222f-467c-9d77-4054510e10d9"
      },
      "execution_count": 93,
      "outputs": [
        {
          "output_type": "execute_result",
          "data": {
            "text/plain": [
              "torch.Size([32, 6])"
            ]
          },
          "metadata": {},
          "execution_count": 93
        }
      ]
    },
    {
      "cell_type": "markdown",
      "source": [
        "## Further Optimize"
      ],
      "metadata": {
        "id": "nLIFnEfx982a"
      }
    },
    {
      "cell_type": "markdown",
      "source": [
        "Because concatenate is waste of storage, further reading\n",
        "\n",
        "Use \"view\""
      ],
      "metadata": {
        "id": "i7XwmU4f-MGp"
      }
    },
    {
      "cell_type": "code",
      "source": [
        "emb.view(32, 6)"
      ],
      "metadata": {
        "colab": {
          "base_uri": "https://localhost:8080/"
        },
        "id": "WZvO53sh7ljs",
        "outputId": "51d01e92-bab3-4520-ce25-20974af0191b"
      },
      "execution_count": 94,
      "outputs": [
        {
          "output_type": "execute_result",
          "data": {
            "text/plain": [
              "tensor([[ 0.4112, -1.0683,  0.4112, -1.0683,  0.4112, -1.0683],\n",
              "        [ 0.4112, -1.0683,  0.4112, -1.0683,  0.2359,  0.3113],\n",
              "        [ 0.4112, -1.0683,  0.2359,  0.3113,  0.9516,  0.5553],\n",
              "        [ 0.2359,  0.3113,  0.9516,  0.5553,  0.9516,  0.5553],\n",
              "        [ 0.9516,  0.5553,  0.9516,  0.5553,  1.4103, -1.0646],\n",
              "        [ 0.4112, -1.0683,  0.4112, -1.0683,  0.4112, -1.0683],\n",
              "        [ 0.4112, -1.0683,  0.4112, -1.0683,  0.3540,  1.0820],\n",
              "        [ 0.4112, -1.0683,  0.3540,  1.0820,  0.7130,  0.3540],\n",
              "        [ 0.3540,  1.0820,  0.7130,  0.3540, -1.7456, -1.3379],\n",
              "        [ 0.7130,  0.3540, -1.7456, -1.3379, -0.4660, -0.0138],\n",
              "        [-1.7456, -1.3379, -0.4660, -0.0138, -1.7456, -1.3379],\n",
              "        [-0.4660, -0.0138, -1.7456, -1.3379,  1.4103, -1.0646],\n",
              "        [ 0.4112, -1.0683,  0.4112, -1.0683,  0.4112, -1.0683],\n",
              "        [ 0.4112, -1.0683,  0.4112, -1.0683,  1.4103, -1.0646],\n",
              "        [ 0.4112, -1.0683,  1.4103, -1.0646, -0.4660, -0.0138],\n",
              "        [ 1.4103, -1.0646, -0.4660, -0.0138,  1.4103, -1.0646],\n",
              "        [ 0.4112, -1.0683,  0.4112, -1.0683,  0.4112, -1.0683],\n",
              "        [ 0.4112, -1.0683,  0.4112, -1.0683, -1.7456, -1.3379],\n",
              "        [ 0.4112, -1.0683, -1.7456, -1.3379,  0.0158,  0.2572],\n",
              "        [-1.7456, -1.3379,  0.0158,  0.2572,  1.4103, -1.0646],\n",
              "        [ 0.0158,  0.2572,  1.4103, -1.0646, -0.8964,  0.5800],\n",
              "        [ 1.4103, -1.0646, -0.8964,  0.5800,  0.2359,  0.3113],\n",
              "        [-0.8964,  0.5800,  0.2359,  0.3113,  0.7130,  0.3540],\n",
              "        [ 0.2359,  0.3113,  0.7130,  0.3540,  0.7130,  0.3540],\n",
              "        [ 0.7130,  0.3540,  0.7130,  0.3540,  1.4103, -1.0646],\n",
              "        [ 0.4112, -1.0683,  0.4112, -1.0683,  0.4112, -1.0683],\n",
              "        [ 0.4112, -1.0683,  0.4112, -1.0683,  0.0158,  0.2572],\n",
              "        [ 0.4112, -1.0683,  0.0158,  0.2572,  0.3540,  1.0820],\n",
              "        [ 0.0158,  0.2572,  0.3540,  1.0820, -1.5061, -0.7867],\n",
              "        [ 0.3540,  1.0820, -1.5061, -0.7867,  0.2186,  1.1205],\n",
              "        [-1.5061, -0.7867,  0.2186,  1.1205, -1.7456, -1.3379],\n",
              "        [ 0.2186,  1.1205, -1.7456, -1.3379,  1.4103, -1.0646]])"
            ]
          },
          "metadata": {},
          "execution_count": 94
        }
      ]
    },
    {
      "cell_type": "markdown",
      "source": [
        "Verify"
      ],
      "metadata": {
        "id": "wCf7dbm1-OSZ"
      }
    },
    {
      "cell_type": "code",
      "source": [
        "emb.view(32, 6) == torch.cat(torch.unbind(emb, 1), 1)"
      ],
      "metadata": {
        "colab": {
          "base_uri": "https://localhost:8080/"
        },
        "id": "OL841goW-EOn",
        "outputId": "de59a46d-b261-4cd3-db84-508f8002ae7f"
      },
      "execution_count": 95,
      "outputs": [
        {
          "output_type": "execute_result",
          "data": {
            "text/plain": [
              "tensor([[True, True, True, True, True, True],\n",
              "        [True, True, True, True, True, True],\n",
              "        [True, True, True, True, True, True],\n",
              "        [True, True, True, True, True, True],\n",
              "        [True, True, True, True, True, True],\n",
              "        [True, True, True, True, True, True],\n",
              "        [True, True, True, True, True, True],\n",
              "        [True, True, True, True, True, True],\n",
              "        [True, True, True, True, True, True],\n",
              "        [True, True, True, True, True, True],\n",
              "        [True, True, True, True, True, True],\n",
              "        [True, True, True, True, True, True],\n",
              "        [True, True, True, True, True, True],\n",
              "        [True, True, True, True, True, True],\n",
              "        [True, True, True, True, True, True],\n",
              "        [True, True, True, True, True, True],\n",
              "        [True, True, True, True, True, True],\n",
              "        [True, True, True, True, True, True],\n",
              "        [True, True, True, True, True, True],\n",
              "        [True, True, True, True, True, True],\n",
              "        [True, True, True, True, True, True],\n",
              "        [True, True, True, True, True, True],\n",
              "        [True, True, True, True, True, True],\n",
              "        [True, True, True, True, True, True],\n",
              "        [True, True, True, True, True, True],\n",
              "        [True, True, True, True, True, True],\n",
              "        [True, True, True, True, True, True],\n",
              "        [True, True, True, True, True, True],\n",
              "        [True, True, True, True, True, True],\n",
              "        [True, True, True, True, True, True],\n",
              "        [True, True, True, True, True, True],\n",
              "        [True, True, True, True, True, True]])"
            ]
          },
          "metadata": {},
          "execution_count": 95
        }
      ]
    },
    {
      "cell_type": "markdown",
      "source": [
        "Back to our concept of multiplying"
      ],
      "metadata": {
        "id": "ouNn-BDH-Y9x"
      }
    },
    {
      "cell_type": "code",
      "source": [
        "# emb @ W1 + b1\n",
        "h = emb.view(32, 6) @ W1 + b1"
      ],
      "metadata": {
        "id": "L9gNFeQE-Rk8"
      },
      "execution_count": 96,
      "outputs": []
    },
    {
      "cell_type": "markdown",
      "source": [
        "Add a Tanh"
      ],
      "metadata": {
        "id": "2dTkZVNe_JrA"
      }
    },
    {
      "cell_type": "code",
      "source": [
        "h = torch.tanh(emb.view(32, 6) @ W1 + b1)"
      ],
      "metadata": {
        "id": "zJjawIl4-f4T"
      },
      "execution_count": 97,
      "outputs": []
    },
    {
      "cell_type": "markdown",
      "source": [
        "To not Hard code the block"
      ],
      "metadata": {
        "id": "j0aHiL2Y_Q7Q"
      }
    },
    {
      "cell_type": "code",
      "source": [
        "h = torch.tanh(emb.view(-1, 6) @ W1 + b1)\n",
        "h.shape"
      ],
      "metadata": {
        "colab": {
          "base_uri": "https://localhost:8080/"
        },
        "id": "PbHbmti7_Nly",
        "outputId": "ee231d17-49a6-471f-93c8-03ac4906af75"
      },
      "execution_count": 98,
      "outputs": [
        {
          "output_type": "execute_result",
          "data": {
            "text/plain": [
              "torch.Size([32, 100])"
            ]
          },
          "metadata": {},
          "execution_count": 98
        }
      ]
    },
    {
      "cell_type": "markdown",
      "source": [
        "# Implement SoftMax"
      ],
      "metadata": {
        "id": "VpwJptZX_n5x"
      }
    },
    {
      "cell_type": "code",
      "source": [
        "W2 = torch.randn((100, 27))\n",
        "b2 = torch.randn(27)"
      ],
      "metadata": {
        "id": "J2cfcEu6_TWP"
      },
      "execution_count": 99,
      "outputs": []
    },
    {
      "cell_type": "code",
      "source": [
        "logits = h @ W2 + b2"
      ],
      "metadata": {
        "id": "Z4RkIdbCOMWG"
      },
      "execution_count": 100,
      "outputs": []
    },
    {
      "cell_type": "code",
      "source": [
        "logits.shape"
      ],
      "metadata": {
        "colab": {
          "base_uri": "https://localhost:8080/"
        },
        "id": "ZGkg2XIgOXDC",
        "outputId": "ecc24f3c-b480-4795-ee67-7e82f000eb1a"
      },
      "execution_count": 101,
      "outputs": [
        {
          "output_type": "execute_result",
          "data": {
            "text/plain": [
              "torch.Size([32, 27])"
            ]
          },
          "metadata": {},
          "execution_count": 101
        }
      ]
    },
    {
      "cell_type": "markdown",
      "source": [
        "## Loss"
      ],
      "metadata": {
        "id": "Gdb2oGs4Oa_t"
      }
    },
    {
      "cell_type": "code",
      "source": [
        "counts = logits.exp()\n",
        "prob = counts / counts.sum(1, keepdims=True)\n",
        "prob.shape"
      ],
      "metadata": {
        "colab": {
          "base_uri": "https://localhost:8080/"
        },
        "id": "gC9tZ-mzOX4i",
        "outputId": "861ce8e0-7262-4527-f707-9eaa95608bd2"
      },
      "execution_count": 104,
      "outputs": [
        {
          "output_type": "execute_result",
          "data": {
            "text/plain": [
              "torch.Size([32, 27])"
            ]
          },
          "metadata": {},
          "execution_count": 104
        }
      ]
    },
    {
      "cell_type": "code",
      "source": [
        "loss = -prob[torch.arange(32), Y].log().mean()\n",
        "loss"
      ],
      "metadata": {
        "colab": {
          "base_uri": "https://localhost:8080/"
        },
        "id": "Lt6ndeaxOeu5",
        "outputId": "a6a5e858-2503-4b15-a5f9-c94e8d05a458"
      },
      "execution_count": 105,
      "outputs": [
        {
          "output_type": "execute_result",
          "data": {
            "text/plain": [
              "tensor(14.5687)"
            ]
          },
          "metadata": {},
          "execution_count": 105
        }
      ]
    },
    {
      "cell_type": "markdown",
      "source": [
        "# Quick Summary"
      ],
      "metadata": {
        "id": "l50j92TVPE2l"
      }
    },
    {
      "cell_type": "markdown",
      "source": [
        "## F.cross_entropy"
      ],
      "metadata": {
        "id": "l5QTSdB1P5qk"
      }
    },
    {
      "cell_type": "code",
      "source": [
        "# ------------ now made respectable :) ---------------"
      ],
      "metadata": {
        "id": "8YrG1foxOjqz"
      },
      "execution_count": 106,
      "outputs": []
    },
    {
      "cell_type": "code",
      "source": [
        "X.shape, Y.shape # dataset"
      ],
      "metadata": {
        "colab": {
          "base_uri": "https://localhost:8080/"
        },
        "id": "v_Ip896AOoCR",
        "outputId": "3ec6592c-98dc-4097-c799-8ce34f61b903"
      },
      "execution_count": 107,
      "outputs": [
        {
          "output_type": "execute_result",
          "data": {
            "text/plain": [
              "(torch.Size([32, 3]), torch.Size([32]))"
            ]
          },
          "metadata": {},
          "execution_count": 107
        }
      ]
    },
    {
      "cell_type": "code",
      "source": [
        "g = torch.Generator().manual_seed(2147483647) # for reproducibility\n",
        "C = torch.randn((27, 2), generator=g)\n",
        "W1 = torch.randn((6, 100), generator=g)\n",
        "b1 = torch.randn(100, generator=g)\n",
        "W2 = torch.randn((100, 27), generator=g)\n",
        "b2 = torch.randn(27, generator=g)\n",
        "parameters = [C, W1, b1, W2, b2]"
      ],
      "metadata": {
        "id": "1eoO6WEEOubJ"
      },
      "execution_count": 109,
      "outputs": []
    },
    {
      "cell_type": "code",
      "source": [
        "sum(p.nelement() for p in parameters) # number of parameters in total"
      ],
      "metadata": {
        "colab": {
          "base_uri": "https://localhost:8080/"
        },
        "id": "cuV9Nl85Pnb1",
        "outputId": "56daf4be-0363-449f-eaed-318f2340f792"
      },
      "execution_count": 110,
      "outputs": [
        {
          "output_type": "execute_result",
          "data": {
            "text/plain": [
              "3481"
            ]
          },
          "metadata": {},
          "execution_count": 110
        }
      ]
    },
    {
      "cell_type": "code",
      "source": [
        "emb = C[X] # (32, 3, 2)\n",
        "h = torch.tanh(emb.view(-1, 6) @ W1 + b1) # (32, 100)\n",
        "logits = h @ W2 + b2 # (32, 27)\n",
        "# ---------------------------------------------\n",
        "# counts = logits.exp()\n",
        "# prob = counts / counts.sum(1, keepdims=True)\n",
        "# prob.shape\n",
        "# --------------------------------------------- To unefficient, we will not use this typically\n",
        "loss = F.cross_entropy(logits, Y)\n",
        "loss"
      ],
      "metadata": {
        "colab": {
          "base_uri": "https://localhost:8080/"
        },
        "id": "c41E2Ma4Ouj0",
        "outputId": "58546d01-cca9-4d22-ac52-5814b93bf92c"
      },
      "execution_count": 111,
      "outputs": [
        {
          "output_type": "execute_result",
          "data": {
            "text/plain": [
              "tensor(17.7697)"
            ]
          },
          "metadata": {},
          "execution_count": 111
        }
      ]
    },
    {
      "cell_type": "markdown",
      "source": [
        "## Why cross_entropy?"
      ],
      "metadata": {
        "id": "8YXsEWH6QotN"
      }
    },
    {
      "cell_type": "markdown",
      "source": [
        "Reason 1: Forward pass is much more efficient\n",
        "\n",
        "Reason 2: Backward pass is much more efficient\n",
        "\n",
        "Reason 3: Things can be much more numerical much behave (exponential case)"
      ],
      "metadata": {
        "id": "1nRSTlThQrkt"
      }
    },
    {
      "cell_type": "code",
      "source": [
        "# Exercises Prove these"
      ],
      "metadata": {
        "id": "C3YXOMfwPnoP"
      },
      "execution_count": 112,
      "outputs": []
    },
    {
      "cell_type": "markdown",
      "source": [
        "# Train"
      ],
      "metadata": {
        "id": "mKG8nEG7UpnN"
      }
    },
    {
      "cell_type": "code",
      "source": [
        "# Set requires_grad to True\n",
        "for p in parameters:\n",
        "  p.requires_grad = True"
      ],
      "metadata": {
        "id": "KrbCGorEQ8w4"
      },
      "execution_count": 113,
      "outputs": []
    },
    {
      "cell_type": "code",
      "source": [
        "for i in range(100):\n",
        "\n",
        "  # forward pass\n",
        "  emb = C[X] # (32, 3, 10)\n",
        "  h = torch.tanh(emb.view(-1, 6) @ W1 + b1) # (32, 100)\n",
        "  logits = h @ W2 + b2 # (32, 27)\n",
        "  loss = F.cross_entropy(logits, Y)\n",
        "  print(loss.item())\n",
        "\n",
        "  # backward pass\n",
        "  for p in parameters:\n",
        "    p.grad = None\n",
        "  loss.backward()\n",
        "\n",
        "  # update\n",
        "  for p in parameters:\n",
        "    p.data += -0.1 * p.grad"
      ],
      "metadata": {
        "colab": {
          "base_uri": "https://localhost:8080/"
        },
        "id": "OOyuB-6TUq5a",
        "outputId": "3cf14346-b041-46cb-ce51-52a3a698b15e"
      },
      "execution_count": 115,
      "outputs": [
        {
          "output_type": "stream",
          "name": "stdout",
          "text": [
            "0.25360995531082153\n",
            "0.253610759973526\n",
            "0.25360769033432007\n",
            "0.2536084055900574\n",
            "0.25360536575317383\n",
            "0.25360608100891113\n",
            "0.2536030411720276\n",
            "0.2536037862300873\n",
            "0.25360071659088135\n",
            "0.2536014914512634\n",
            "0.2535983622074127\n",
            "0.2535991668701172\n",
            "0.25359606742858887\n",
            "0.25359678268432617\n",
            "0.2535938024520874\n",
            "0.2535945177078247\n",
            "0.2535914480686188\n",
            "0.25359222292900085\n",
            "0.2535891532897949\n",
            "0.253589928150177\n",
            "0.25358685851097107\n",
            "0.25358766317367554\n",
            "0.2535845935344696\n",
            "0.2535853385925293\n",
            "0.2535823583602905\n",
            "0.25358307361602783\n",
            "0.25358009338378906\n",
            "0.253580778837204\n",
            "0.2535777986049652\n",
            "0.2535785436630249\n",
            "0.25357556343078613\n",
            "0.25357627868652344\n",
            "0.25357329845428467\n",
            "0.253574013710022\n",
            "0.2535710632801056\n",
            "0.2535717487335205\n",
            "0.2535687983036041\n",
            "0.2535695433616638\n",
            "0.25356656312942505\n",
            "0.25356727838516235\n",
            "0.25356432795524597\n",
            "0.2535650134086609\n",
            "0.2535620629787445\n",
            "0.2535628080368042\n",
            "0.2535598874092102\n",
            "0.2535606026649475\n",
            "0.25355765223503113\n",
            "0.25355833768844604\n",
            "0.25355544686317444\n",
            "0.25355613231658936\n",
            "0.253553181886673\n",
            "0.25355392694473267\n",
            "0.25355103611946106\n",
            "0.253551721572876\n",
            "0.253548800945282\n",
            "0.2535495162010193\n",
            "0.2535466253757477\n",
            "0.2535473108291626\n",
            "0.2535444498062134\n",
            "0.2535451054573059\n",
            "0.2535422444343567\n",
            "0.2535429000854492\n",
            "0.2535400390625\n",
            "0.2535407841205597\n",
            "0.2535378932952881\n",
            "0.253538578748703\n",
            "0.253535658121109\n",
            "0.2535364031791687\n",
            "0.2535335421562195\n",
            "0.253534197807312\n",
            "0.25353139638900757\n",
            "0.2535320520401001\n",
            "0.2535291910171509\n",
            "0.2535299062728882\n",
            "0.25352704524993896\n",
            "0.2535277009010315\n",
            "0.25352492928504944\n",
            "0.25352561473846436\n",
            "0.25352275371551514\n",
            "0.25352343916893005\n",
            "0.2535206377506256\n",
            "0.25352129340171814\n",
            "0.2535184919834137\n",
            "0.2535191774368286\n",
            "0.2535163462162018\n",
            "0.2535170018672943\n",
            "0.25351426005363464\n",
            "0.2535148859024048\n",
            "0.25351211428642273\n",
            "0.25351274013519287\n",
            "0.2535099685192108\n",
            "0.25351062417030334\n",
            "0.2535078525543213\n",
            "0.25350847840309143\n",
            "0.2535057067871094\n",
            "0.2535063624382019\n",
            "0.25350359082221985\n",
            "0.25350427627563477\n",
            "0.2535015344619751\n",
            "0.25350216031074524\n"
          ]
        }
      ]
    },
    {
      "cell_type": "markdown",
      "source": [
        "## Something Weird"
      ],
      "metadata": {
        "id": "HVv1hpaGVLv1"
      }
    },
    {
      "cell_type": "markdown",
      "source": [
        "Our loss stuck at 0.25, this is because due to our dataset, we are not able to completely overfit"
      ],
      "metadata": {
        "id": "2yeLezn8VOPd"
      }
    },
    {
      "cell_type": "markdown",
      "source": [
        "![image.png](data:image/png;base64,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)"
      ],
      "metadata": {
        "id": "g7Z_pSL4VzBW"
      }
    },
    {
      "cell_type": "markdown",
      "source": [
        "What we need to know is just that its normal if our loss can never go down until a point."
      ],
      "metadata": {
        "id": "tGSjupwMWDeW"
      }
    },
    {
      "cell_type": "markdown",
      "source": [
        "## Batch Problem"
      ],
      "metadata": {
        "id": "G4vtAtZ2WK3s"
      }
    },
    {
      "cell_type": "markdown",
      "source": [
        "Let's load all of our names as Dataset"
      ],
      "metadata": {
        "id": "gUN9HmZ_XCR7"
      }
    },
    {
      "cell_type": "code",
      "source": [
        "# build the dataset\n",
        "\n",
        "block_size = 3 # context length: how many characters do we take to predict the next one?\n",
        "X, Y = [], []\n",
        "for w in words: # <------------ Loading all names\n",
        "\n",
        "  #print(w)\n",
        "  context = [0] * block_size\n",
        "  for ch in w + '.':\n",
        "    ix = stoi[ch]\n",
        "    X.append(context)\n",
        "    Y.append(ix)\n",
        "    #print(''.join(itos[i] for i in context), '--->', itos[ix])\n",
        "    context = context[1:] + [ix] # crop and append\n",
        "\n",
        "X = torch.tensor(X)\n",
        "Y = torch.tensor(Y)"
      ],
      "metadata": {
        "id": "bM2jsNU7U_OR"
      },
      "execution_count": 119,
      "outputs": []
    },
    {
      "cell_type": "code",
      "source": [
        "X.shape, X.dtype, Y.shape, Y.dtype"
      ],
      "metadata": {
        "colab": {
          "base_uri": "https://localhost:8080/"
        },
        "id": "PsNNWHFhWbbq",
        "outputId": "da4d10c2-34d9-493d-bf5c-fbd16407503f"
      },
      "execution_count": 120,
      "outputs": [
        {
          "output_type": "execute_result",
          "data": {
            "text/plain": [
              "(torch.Size([228146, 3]), torch.int64, torch.Size([228146]), torch.int64)"
            ]
          },
          "metadata": {},
          "execution_count": 120
        }
      ]
    },
    {
      "cell_type": "code",
      "source": [
        "g = torch.Generator().manual_seed(2147483647) # for reproducibility\n",
        "C = torch.randn((27, 2), generator=g)\n",
        "W1 = torch.randn((6, 100), generator=g)\n",
        "b1 = torch.randn(100, generator=g)\n",
        "W2 = torch.randn((100, 27), generator=g)\n",
        "b2 = torch.randn(27, generator=g)\n",
        "parameters = [C, W1, b1, W2, b2]"
      ],
      "metadata": {
        "id": "dawWWEcrW2zp"
      },
      "execution_count": 121,
      "outputs": []
    },
    {
      "cell_type": "code",
      "source": [
        "sum(p.nelement() for p in parameters) # number of parameters in total"
      ],
      "metadata": {
        "colab": {
          "base_uri": "https://localhost:8080/"
        },
        "outputId": "81dc2978-670a-480e-cb2f-95db42b1c8c7",
        "id": "H3H-ezNdW2zq"
      },
      "execution_count": 122,
      "outputs": [
        {
          "output_type": "execute_result",
          "data": {
            "text/plain": [
              "3481"
            ]
          },
          "metadata": {},
          "execution_count": 122
        }
      ]
    },
    {
      "cell_type": "code",
      "source": [
        "emb = C[X] # (32, 3, 2)\n",
        "h = torch.tanh(emb.view(-1, 6) @ W1 + b1) # (32, 100)\n",
        "logits = h @ W2 + b2 # (32, 27)\n",
        "# ---------------------------------------------\n",
        "# counts = logits.exp()\n",
        "# prob = counts / counts.sum(1, keepdims=True)\n",
        "# prob.shape\n",
        "# --------------------------------------------- To unefficient, we will not use this typically\n",
        "loss = F.cross_entropy(logits, Y)\n",
        "loss"
      ],
      "metadata": {
        "colab": {
          "base_uri": "https://localhost:8080/"
        },
        "outputId": "9bbbe10e-dbf3-4bac-b650-2aefe3a5b8df",
        "id": "gp_o_2fKW2zr"
      },
      "execution_count": 123,
      "outputs": [
        {
          "output_type": "execute_result",
          "data": {
            "text/plain": [
              "tensor(19.5052)"
            ]
          },
          "metadata": {},
          "execution_count": 123
        }
      ]
    },
    {
      "cell_type": "markdown",
      "source": [
        "Train"
      ],
      "metadata": {
        "id": "Ai-RSGl_XKqj"
      }
    },
    {
      "cell_type": "code",
      "source": [
        "# Set requires_grad to True\n",
        "for p in parameters:\n",
        "  p.requires_grad = True"
      ],
      "metadata": {
        "id": "hvRG6PoSW7tD"
      },
      "execution_count": 124,
      "outputs": []
    },
    {
      "cell_type": "markdown",
      "source": [
        "If you run the below code, you will see that the training is slow, because we haven't batch them."
      ],
      "metadata": {
        "id": "tPWBpPtmXLjM"
      }
    },
    {
      "cell_type": "code",
      "source": [
        "for i in range(100):\n",
        "\n",
        "  # forward pass\n",
        "  emb = C[X] # (32, 3, 10)\n",
        "  h = torch.tanh(emb.view(-1, 6) @ W1 + b1) # (32, 100)\n",
        "  logits = h @ W2 + b2 # (32, 27)\n",
        "  loss = F.cross_entropy(logits, Y)\n",
        "  print(loss.item())\n",
        "\n",
        "  # backward pass\n",
        "  for p in parameters:\n",
        "    p.grad = None\n",
        "  loss.backward()\n",
        "\n",
        "  # update\n",
        "  for p in parameters:\n",
        "    p.data += -0.1 * p.grad"
      ],
      "metadata": {
        "colab": {
          "base_uri": "https://localhost:8080/"
        },
        "outputId": "3dac6902-424e-4e20-8116-ea7dee860da5",
        "id": "mQMaE-PTW7tE"
      },
      "execution_count": 125,
      "outputs": [
        {
          "output_type": "stream",
          "name": "stdout",
          "text": [
            "19.505226135253906\n",
            "17.08449363708496\n",
            "15.776531219482422\n",
            "14.833340644836426\n",
            "14.002603530883789\n",
            "13.253260612487793\n",
            "12.57991886138916\n",
            "11.983101844787598\n",
            "11.47049331665039\n",
            "11.051856994628906\n",
            "10.709586143493652\n",
            "10.407632827758789\n",
            "10.127808570861816\n",
            "9.864365577697754\n",
            "9.61450481414795\n",
            "9.376440048217773\n",
            "9.148944854736328\n",
            "8.931111335754395\n",
            "8.722230911254883\n",
            "8.521749496459961\n",
            "8.329227447509766\n",
            "8.144326210021973\n",
            "7.966792106628418\n",
            "7.796451091766357\n",
            "7.633185863494873\n",
            "7.476908206939697\n",
            "7.327521800994873\n",
            "7.1848859786987305\n",
            "7.048791885375977\n",
            "6.918952465057373\n",
            "6.795018196105957\n",
            "6.6766037940979\n",
            "6.563317775726318\n",
            "6.454789161682129\n",
            "6.350668907165527\n",
            "6.250643253326416\n",
            "6.1544318199157715\n",
            "6.061785697937012\n",
            "5.972482204437256\n",
            "5.886328220367432\n",
            "5.803146839141846\n",
            "5.722784519195557\n",
            "5.645094394683838\n",
            "5.5699462890625\n",
            "5.497213363647461\n",
            "5.4267802238464355\n",
            "5.3585357666015625\n",
            "5.2923760414123535\n",
            "5.228203773498535\n",
            "5.165928363800049\n",
            "5.105468273162842\n",
            "5.046748161315918\n",
            "4.98969841003418\n",
            "4.934261322021484\n",
            "4.880379676818848\n",
            "4.828005790710449\n",
            "4.777095794677734\n",
            "4.727609157562256\n",
            "4.679513931274414\n",
            "4.632779121398926\n",
            "4.587378025054932\n",
            "4.543288707733154\n",
            "4.500490665435791\n",
            "4.4589667320251465\n",
            "4.418700218200684\n",
            "4.379675388336182\n",
            "4.3418779373168945\n",
            "4.305292129516602\n",
            "4.269898414611816\n",
            "4.235680103302002\n",
            "4.202611923217773\n",
            "4.170670032501221\n",
            "4.139823913574219\n",
            "4.110044002532959\n",
            "4.081292152404785\n",
            "4.053531169891357\n",
            "4.02672004699707\n",
            "4.00081729888916\n",
            "3.9757795333862305\n",
            "3.951563596725464\n",
            "3.9281277656555176\n",
            "3.905430793762207\n",
            "3.8834328651428223\n",
            "3.862098217010498\n",
            "3.84139084815979\n",
            "3.821279764175415\n",
            "3.8017332553863525\n",
            "3.782726287841797\n",
            "3.764232635498047\n",
            "3.746229410171509\n",
            "3.7286949157714844\n",
            "3.7116103172302246\n",
            "3.6949586868286133\n",
            "3.6787221431732178\n",
            "3.662886142730713\n",
            "3.64743709564209\n",
            "3.6323606967926025\n",
            "3.617644786834717\n",
            "3.6032779216766357\n",
            "3.5892493724823\n"
          ]
        }
      ]
    },
    {
      "cell_type": "markdown",
      "source": [
        "## Batch Solution"
      ],
      "metadata": {
        "id": "zanMwylRXeBE"
      }
    },
    {
      "cell_type": "code",
      "source": [
        "# torch.randint(0, 5, (32,))\n",
        "# Generate number from 0 to 5, total counts 32\n",
        "\n",
        "torch.randint(0, X.shape[0], (32,))"
      ],
      "metadata": {
        "colab": {
          "base_uri": "https://localhost:8080/"
        },
        "id": "hmZoihgiXAgb",
        "outputId": "cbed665e-d58f-42bf-821c-f9d824f87ac2"
      },
      "execution_count": 126,
      "outputs": [
        {
          "output_type": "execute_result",
          "data": {
            "text/plain": [
              "tensor([227531,  52358,  60257,  43121, 184925, 191370, 203600, 182109, 182073,\n",
              "        179385, 226779, 219725,  46755, 150242, 100309,  17162, 215153, 208577,\n",
              "        210048, 179421,  81168, 186188, 205610,  15037,  77358,   1596,  66873,\n",
              "        176715,  69932, 122499,  49358, 164346])"
            ]
          },
          "metadata": {},
          "execution_count": 126
        }
      ]
    },
    {
      "cell_type": "markdown",
      "source": [
        "Implement Batch while Training"
      ],
      "metadata": {
        "id": "n3qO4Q0QYRCd"
      }
    },
    {
      "cell_type": "code",
      "source": [
        "for i in range(100):\n",
        "  ix = torch.randint(0, X.shape[0], (32,))\n",
        "\n",
        "  # forward pass\n",
        "  emb = C[X[ix]] # (32, 3, 10)\n",
        "  h = torch.tanh(emb.view(-1, 6) @ W1 + b1) # (32, 100)\n",
        "  logits = h @ W2 + b2 # (32, 27)\n",
        "  loss = F.cross_entropy(logits, Y[ix])\n",
        "  print(loss.item())\n",
        "\n",
        "  # backward pass\n",
        "  for p in parameters:\n",
        "    p.grad = None\n",
        "  loss.backward()\n",
        "\n",
        "  # update\n",
        "  for p in parameters:\n",
        "    p.data += -0.1 * p.grad"
      ],
      "metadata": {
        "colab": {
          "base_uri": "https://localhost:8080/"
        },
        "id": "Xz1FXtXAX5EA",
        "outputId": "1333335d-09ba-48a0-90f2-ade87781bf3b"
      },
      "execution_count": 127,
      "outputs": [
        {
          "output_type": "stream",
          "name": "stdout",
          "text": [
            "3.5509066581726074\n",
            "3.869478702545166\n",
            "3.5586676597595215\n",
            "3.5341084003448486\n",
            "2.899401903152466\n",
            "4.367391586303711\n",
            "2.634936571121216\n",
            "3.6948227882385254\n",
            "4.003003120422363\n",
            "3.8328652381896973\n",
            "3.641920566558838\n",
            "3.394965648651123\n",
            "3.0541393756866455\n",
            "3.6658856868743896\n",
            "3.7613956928253174\n",
            "3.994630813598633\n",
            "4.195417881011963\n",
            "4.278409481048584\n",
            "3.7814524173736572\n",
            "3.215852975845337\n",
            "4.106485843658447\n",
            "2.9105050563812256\n",
            "3.4624557495117188\n",
            "3.0041086673736572\n",
            "3.4655497074127197\n",
            "3.129237174987793\n",
            "4.088265895843506\n",
            "3.1091506481170654\n",
            "4.028305530548096\n",
            "2.9234416484832764\n",
            "3.5332205295562744\n",
            "3.3787660598754883\n",
            "3.920553684234619\n",
            "3.476867198944092\n",
            "3.0350403785705566\n",
            "3.3098416328430176\n",
            "4.0733232498168945\n",
            "3.519693613052368\n",
            "3.1285171508789062\n",
            "3.067735433578491\n",
            "3.0917301177978516\n",
            "3.8729326725006104\n",
            "3.5887956619262695\n",
            "3.130911350250244\n",
            "2.5745084285736084\n",
            "3.5350496768951416\n",
            "2.530874729156494\n",
            "2.8943891525268555\n",
            "3.3730626106262207\n",
            "3.8967580795288086\n",
            "3.239254951477051\n",
            "2.675168752670288\n",
            "3.1426708698272705\n",
            "3.25988507270813\n",
            "4.022451400756836\n",
            "2.977969169616699\n",
            "4.239043712615967\n",
            "3.2257864475250244\n",
            "3.949629545211792\n",
            "3.56302809715271\n",
            "2.9583966732025146\n",
            "2.847071647644043\n",
            "3.2065107822418213\n",
            "2.8854401111602783\n",
            "2.829294204711914\n",
            "3.2710797786712646\n",
            "3.037935495376587\n",
            "3.1708085536956787\n",
            "2.9358155727386475\n",
            "3.1121838092803955\n",
            "3.336395740509033\n",
            "2.7896432876586914\n",
            "3.7768845558166504\n",
            "3.086469888687134\n",
            "3.704353094100952\n",
            "3.2766506671905518\n",
            "3.40459942817688\n",
            "2.9647231101989746\n",
            "3.1296606063842773\n",
            "2.714750051498413\n",
            "2.8226678371429443\n",
            "3.3999786376953125\n",
            "3.367859363555908\n",
            "3.008174419403076\n",
            "3.2164957523345947\n",
            "2.5019443035125732\n",
            "3.10141921043396\n",
            "3.262476921081543\n",
            "2.94159197807312\n",
            "3.429929256439209\n",
            "3.036752700805664\n",
            "3.057382822036743\n",
            "2.892082929611206\n",
            "3.2532639503479004\n",
            "3.085127115249634\n",
            "4.200191020965576\n",
            "3.110877275466919\n",
            "2.826939821243286\n",
            "3.591353178024292\n",
            "3.366848945617676\n"
          ]
        }
      ]
    },
    {
      "cell_type": "markdown",
      "source": [
        "# Mini-Batch Loss vs No-Batch Loss"
      ],
      "metadata": {
        "id": "jAOuVsOjY1b0"
      }
    },
    {
      "cell_type": "markdown",
      "source": [
        "bla bla bla, exercises, why"
      ],
      "metadata": {
        "id": "Y9TG8s6RZ1kv"
      }
    },
    {
      "cell_type": "markdown",
      "source": [
        "## Mini-Batch Loss"
      ],
      "metadata": {
        "id": "xxGmCzbSZuLl"
      }
    },
    {
      "cell_type": "code",
      "source": [
        "for i in range(100):\n",
        "  ix = torch.randint(0, X.shape[0], (32,))\n",
        "\n",
        "  # forward pass\n",
        "  emb = C[X[ix]] # (32, 3, 10)\n",
        "  h = torch.tanh(emb.view(-1, 6) @ W1 + b1) # (32, 100)\n",
        "  logits = h @ W2 + b2 # (32, 27)\n",
        "  loss = F.cross_entropy(logits, Y[ix])\n",
        "  # print(loss.item())\n",
        "\n",
        "  # backward pass\n",
        "  for p in parameters:\n",
        "    p.grad = None\n",
        "  loss.backward()\n",
        "\n",
        "  # update\n",
        "  for p in parameters:\n",
        "    p.data += -0.1 * p.grad\n",
        "\n",
        "print(loss.item())"
      ],
      "metadata": {
        "colab": {
          "base_uri": "https://localhost:8080/"
        },
        "id": "1imQIPygYcsk",
        "outputId": "0a437ad3-da7b-42e0-9cce-2c459141904a"
      },
      "execution_count": 132,
      "outputs": [
        {
          "output_type": "stream",
          "name": "stdout",
          "text": [
            "2.754147529602051\n"
          ]
        }
      ]
    },
    {
      "cell_type": "markdown",
      "source": [
        "## No-Batch Loss (Val loss)"
      ],
      "metadata": {
        "id": "GRcYOwI-ZxIc"
      }
    },
    {
      "cell_type": "code",
      "source": [
        "emb = C[X] # (32, 3, 2)\n",
        "h = torch.tanh(emb.view(-1, 6) @ W1 + b1) # (32, 100)\n",
        "logits = h @ W2 + b2 # (32, 27)\n",
        "loss = F.cross_entropy(logits, Y)\n",
        "loss"
      ],
      "metadata": {
        "colab": {
          "base_uri": "https://localhost:8080/"
        },
        "id": "bwDRZA9uY04a",
        "outputId": "1199d8fb-8b7f-47c7-b46a-3aaa740605e0"
      },
      "execution_count": 133,
      "outputs": [
        {
          "output_type": "execute_result",
          "data": {
            "text/plain": [
              "tensor(2.7646, grad_fn=<NllLossBackward0>)"
            ]
          },
          "metadata": {},
          "execution_count": 133
        }
      ]
    },
    {
      "cell_type": "markdown",
      "source": [
        "# Finding a good Loss function"
      ],
      "metadata": {
        "id": "qaZxtuLPfEni"
      }
    },
    {
      "cell_type": "markdown",
      "source": [
        "## Solution 1"
      ],
      "metadata": {
        "id": "N_Wguorgj25l"
      }
    },
    {
      "cell_type": "code",
      "source": [
        "g = torch.Generator().manual_seed(2147483647) # for reproducibility\n",
        "C = torch.randn((27, 2), generator=g)\n",
        "W1 = torch.randn((6, 100), generator=g)\n",
        "b1 = torch.randn(100, generator=g)\n",
        "W2 = torch.randn((100, 27), generator=g)\n",
        "b2 = torch.randn(27, generator=g)\n",
        "parameters = [C, W1, b1, W2, b2]"
      ],
      "metadata": {
        "id": "M3QImw1RjAh7"
      },
      "execution_count": 165,
      "outputs": []
    },
    {
      "cell_type": "code",
      "source": [
        "sum(p.nelement() for p in parameters) # number of parameters in total"
      ],
      "metadata": {
        "colab": {
          "base_uri": "https://localhost:8080/"
        },
        "outputId": "a8b7e35c-265a-4a41-d8fe-8ef028924805",
        "id": "vZ65ljJUjQOD"
      },
      "execution_count": 166,
      "outputs": [
        {
          "output_type": "execute_result",
          "data": {
            "text/plain": [
              "3481"
            ]
          },
          "metadata": {},
          "execution_count": 166
        }
      ]
    },
    {
      "cell_type": "code",
      "source": [
        "# Set requires_grad to True\n",
        "for p in parameters:\n",
        "  p.requires_grad = True"
      ],
      "metadata": {
        "id": "qAXdrZXDjQOF"
      },
      "execution_count": 167,
      "outputs": []
    },
    {
      "cell_type": "code",
      "source": [
        "lre = torch.linspace(-3, 0, 1000)\n",
        "lrs = 10**lre"
      ],
      "metadata": {
        "id": "7heJK-VaZZhr"
      },
      "execution_count": 168,
      "outputs": []
    },
    {
      "cell_type": "code",
      "source": [
        "lri = []\n",
        "lossi = []\n",
        "\n",
        "for i in range(1000):\n",
        "\n",
        "  # minibatch construct\n",
        "  ix = torch.randint(0, X.shape[0], (32,))\n",
        "\n",
        "  # forward pass\n",
        "  emb = C[X[ix]] # (32, 3, 10)\n",
        "  h = torch.tanh(emb.view(-1, 6) @ W1 + b1) # (32, 200)\n",
        "  logits = h @ W2 + b2 # (32, 27)\n",
        "  loss = F.cross_entropy(logits, Y[ix])\n",
        "  print(loss.item())\n",
        "\n",
        "  # backward pass\n",
        "  for p in parameters:\n",
        "    p.grad = None\n",
        "  loss.backward()\n",
        "\n",
        "  # update\n",
        "  lr = lrs[i]\n",
        "  for p in parameters:\n",
        "    p.data += -lr * p.grad\n",
        "\n",
        "  # track stats\n",
        "  # lri.append(lr)\n",
        "  lri.append(lre[i])\n",
        "  lossi.append(loss.item())\n",
        "\n",
        "#print(loss.item())"
      ],
      "metadata": {
        "colab": {
          "base_uri": "https://localhost:8080/"
        },
        "id": "thvQhxwdfHBG",
        "outputId": "6d66b44b-fac0-4add-a69a-d33daef006f3"
      },
      "execution_count": 163,
      "outputs": [
        {
          "output_type": "stream",
          "name": "stdout",
          "text": [
            "16.69601058959961\n",
            "17.408048629760742\n",
            "17.835433959960938\n",
            "21.31981658935547\n",
            "17.36431121826172\n",
            "21.910966873168945\n",
            "20.93611717224121\n",
            "19.390419006347656\n",
            "17.57517433166504\n",
            "17.611352920532227\n",
            "18.827882766723633\n",
            "20.435531616210938\n",
            "18.892545700073242\n",
            "15.520240783691406\n",
            "19.581253051757812\n",
            "17.797786712646484\n",
            "17.757661819458008\n",
            "21.352489471435547\n",
            "17.840513229370117\n",
            "18.221111297607422\n",
            "15.797321319580078\n",
            "20.805782318115234\n",
            "20.289199829101562\n",
            "19.548236846923828\n",
            "20.0897159576416\n",
            "20.203699111938477\n",
            "19.79604721069336\n",
            "18.82164764404297\n",
            "17.803298950195312\n",
            "15.848441123962402\n",
            "15.88028335571289\n",
            "16.389957427978516\n",
            "20.49155616760254\n",
            "22.603025436401367\n",
            "21.040241241455078\n",
            "17.356189727783203\n",
            "17.293861389160156\n",
            "19.027217864990234\n",
            "17.304811477661133\n",
            "16.826663970947266\n",
            "18.84085464477539\n",
            "16.341609954833984\n",
            "18.196897506713867\n",
            "17.168766021728516\n",
            "19.251846313476562\n",
            "22.432239532470703\n",
            "20.12534523010254\n",
            "18.61842155456543\n",
            "20.234895706176758\n",
            "16.69883155822754\n",
            "18.96772575378418\n",
            "15.991623878479004\n",
            "17.870473861694336\n",
            "18.993392944335938\n",
            "17.99836540222168\n",
            "19.102293014526367\n",
            "17.088891983032227\n",
            "18.78035545349121\n",
            "17.32144546508789\n",
            "19.584579467773438\n",
            "18.14613151550293\n",
            "19.95936393737793\n",
            "15.628768920898438\n",
            "17.01869010925293\n",
            "16.137989044189453\n",
            "19.398361206054688\n",
            "17.051700592041016\n",
            "19.646297454833984\n",
            "15.53768539428711\n",
            "16.909923553466797\n",
            "17.30545425415039\n",
            "17.761119842529297\n",
            "16.62446403503418\n",
            "19.13429069519043\n",
            "17.052412033081055\n",
            "17.90531349182129\n",
            "15.96944522857666\n",
            "14.73180866241455\n",
            "15.997462272644043\n",
            "16.918380737304688\n",
            "16.162395477294922\n",
            "18.751564025878906\n",
            "15.64087200164795\n",
            "17.045631408691406\n",
            "17.265697479248047\n",
            "16.46900749206543\n",
            "18.910221099853516\n",
            "14.942736625671387\n",
            "16.60222625732422\n",
            "16.999116897583008\n",
            "16.84990119934082\n",
            "16.49736976623535\n",
            "17.329368591308594\n",
            "14.611832618713379\n",
            "20.691314697265625\n",
            "15.542622566223145\n",
            "19.87905502319336\n",
            "18.97337532043457\n",
            "16.176984786987305\n",
            "15.681767463684082\n",
            "16.462724685668945\n",
            "17.051029205322266\n",
            "15.232257843017578\n",
            "15.985306739807129\n",
            "15.033960342407227\n",
            "14.83375072479248\n",
            "14.995099067687988\n",
            "13.519865036010742\n",
            "13.185831069946289\n",
            "16.686681747436523\n",
            "15.205244064331055\n",
            "13.4458646774292\n",
            "17.569210052490234\n",
            "14.466893196105957\n",
            "15.51369857788086\n",
            "18.057207107543945\n",
            "14.192265510559082\n",
            "17.474401473999023\n",
            "17.329906463623047\n",
            "16.79180145263672\n",
            "16.883033752441406\n",
            "15.366633415222168\n",
            "13.54074764251709\n",
            "15.911797523498535\n",
            "17.215208053588867\n",
            "15.656171798706055\n",
            "17.74154281616211\n",
            "17.64763069152832\n",
            "11.956335067749023\n",
            "18.139135360717773\n",
            "16.154842376708984\n",
            "18.761524200439453\n",
            "17.091753005981445\n",
            "15.273219108581543\n",
            "14.124212265014648\n",
            "16.5611515045166\n",
            "19.478538513183594\n",
            "17.60952377319336\n",
            "16.047321319580078\n",
            "15.20111083984375\n",
            "16.017637252807617\n",
            "17.359119415283203\n",
            "18.9528865814209\n",
            "15.664406776428223\n",
            "15.201695442199707\n",
            "12.490384101867676\n",
            "14.141969680786133\n",
            "15.756759643554688\n",
            "17.04697036743164\n",
            "16.58878517150879\n",
            "16.92717742919922\n",
            "14.383776664733887\n",
            "15.653484344482422\n",
            "16.056941986083984\n",
            "14.713354110717773\n",
            "16.408327102661133\n",
            "12.875907897949219\n",
            "16.369792938232422\n",
            "13.743221282958984\n",
            "14.957633972167969\n",
            "16.485280990600586\n",
            "14.755149841308594\n",
            "13.708146095275879\n",
            "16.755102157592773\n",
            "15.1148099899292\n",
            "15.244221687316895\n",
            "15.245213508605957\n",
            "18.973527908325195\n",
            "17.17095184326172\n",
            "15.232324600219727\n",
            "13.272689819335938\n",
            "13.137800216674805\n",
            "17.096891403198242\n",
            "17.339717864990234\n",
            "14.162317276000977\n",
            "13.309931755065918\n",
            "16.463247299194336\n",
            "13.669384956359863\n",
            "17.59050750732422\n",
            "14.520105361938477\n",
            "12.964662551879883\n",
            "16.09168815612793\n",
            "15.7251558303833\n",
            "15.424728393554688\n",
            "11.526690483093262\n",
            "13.74914264678955\n",
            "14.308610916137695\n",
            "14.473291397094727\n",
            "15.502768516540527\n",
            "10.944164276123047\n",
            "16.17211151123047\n",
            "14.38331127166748\n",
            "15.824166297912598\n",
            "12.316302299499512\n",
            "15.91059684753418\n",
            "14.122840881347656\n",
            "13.007777214050293\n",
            "13.966401100158691\n",
            "12.162883758544922\n",
            "12.648975372314453\n",
            "14.618430137634277\n",
            "14.739840507507324\n",
            "12.732852935791016\n",
            "15.431095123291016\n",
            "12.685405731201172\n",
            "14.21664810180664\n",
            "14.075167655944824\n",
            "14.54118537902832\n",
            "13.504534721374512\n",
            "11.322498321533203\n",
            "14.649534225463867\n",
            "15.074141502380371\n",
            "12.59067440032959\n",
            "10.50759220123291\n",
            "11.921300888061523\n",
            "13.25104808807373\n",
            "12.766777038574219\n",
            "12.487534523010254\n",
            "12.975502014160156\n",
            "10.84477710723877\n",
            "17.591386795043945\n",
            "12.765216827392578\n",
            "10.89796257019043\n",
            "11.0741548538208\n",
            "13.562424659729004\n",
            "12.407748222351074\n",
            "14.651342391967773\n",
            "14.568059921264648\n",
            "14.387693405151367\n",
            "12.991312026977539\n",
            "14.152374267578125\n",
            "11.438119888305664\n",
            "15.478513717651367\n",
            "12.623982429504395\n",
            "12.029860496520996\n",
            "13.847586631774902\n",
            "13.806042671203613\n",
            "10.257553100585938\n",
            "14.206636428833008\n",
            "9.599810600280762\n",
            "9.81865406036377\n",
            "13.17613697052002\n",
            "13.177689552307129\n",
            "13.286784172058105\n",
            "12.491424560546875\n",
            "9.886351585388184\n",
            "11.47999382019043\n",
            "11.7150297164917\n",
            "13.999897956848145\n",
            "12.267085075378418\n",
            "14.005064010620117\n",
            "14.410204887390137\n",
            "14.175983428955078\n",
            "10.369421005249023\n",
            "12.918339729309082\n",
            "10.816154479980469\n",
            "12.418710708618164\n",
            "9.053595542907715\n",
            "13.632340431213379\n",
            "12.816656112670898\n",
            "11.368966102600098\n",
            "11.768707275390625\n",
            "12.319308280944824\n",
            "11.420412063598633\n",
            "10.24816608428955\n",
            "9.19522476196289\n",
            "11.468047142028809\n",
            "14.440567016601562\n",
            "12.31707763671875\n",
            "14.542719841003418\n",
            "11.295214653015137\n",
            "11.363131523132324\n",
            "11.758136749267578\n",
            "11.397754669189453\n",
            "11.118569374084473\n",
            "11.596717834472656\n",
            "12.01065444946289\n",
            "13.932498931884766\n",
            "11.099383354187012\n",
            "12.315823554992676\n",
            "9.839690208435059\n",
            "11.305672645568848\n",
            "10.449525833129883\n",
            "12.418482780456543\n",
            "12.282896995544434\n",
            "11.528542518615723\n",
            "11.488598823547363\n",
            "12.35207462310791\n",
            "11.76485824584961\n",
            "9.985090255737305\n",
            "12.600234031677246\n",
            "9.947741508483887\n",
            "11.974194526672363\n",
            "9.745729446411133\n",
            "12.57742691040039\n",
            "10.49489688873291\n",
            "12.721612930297852\n",
            "10.985941886901855\n",
            "9.502562522888184\n",
            "8.874136924743652\n",
            "8.079343795776367\n",
            "13.946995735168457\n",
            "12.94470500946045\n",
            "11.1561861038208\n",
            "12.015785217285156\n",
            "11.6879243850708\n",
            "10.118633270263672\n",
            "8.827695846557617\n",
            "10.109713554382324\n",
            "12.608833312988281\n",
            "9.465231895446777\n",
            "9.870266914367676\n",
            "10.41793155670166\n",
            "8.715216636657715\n",
            "12.849632263183594\n",
            "10.480996131896973\n",
            "9.229016304016113\n",
            "10.813421249389648\n",
            "9.445878028869629\n",
            "12.293946266174316\n",
            "9.947549819946289\n",
            "9.049570083618164\n",
            "8.390552520751953\n",
            "11.04361343383789\n",
            "11.713761329650879\n",
            "8.837282180786133\n",
            "9.075784683227539\n",
            "10.262218475341797\n",
            "10.318574905395508\n",
            "10.968951225280762\n",
            "7.795923709869385\n",
            "8.211268424987793\n",
            "9.586865425109863\n",
            "9.136055946350098\n",
            "8.582191467285156\n",
            "10.094161033630371\n",
            "8.919270515441895\n",
            "9.785602569580078\n",
            "9.208946228027344\n",
            "8.59511947631836\n",
            "9.55334758758545\n",
            "9.525486946105957\n",
            "9.526628494262695\n",
            "11.369293212890625\n",
            "9.728304862976074\n",
            "7.996018409729004\n",
            "8.466350555419922\n",
            "10.03129768371582\n",
            "9.710375785827637\n",
            "9.918058395385742\n",
            "9.477743148803711\n",
            "10.151213645935059\n",
            "13.424123764038086\n",
            "9.319897651672363\n",
            "12.505361557006836\n",
            "9.077202796936035\n",
            "8.091201782226562\n",
            "8.373881340026855\n",
            "9.096565246582031\n",
            "9.186456680297852\n",
            "9.882988929748535\n",
            "10.551539421081543\n",
            "8.085380554199219\n",
            "9.320621490478516\n",
            "8.106125831604004\n",
            "8.551502227783203\n",
            "8.116159439086914\n",
            "10.28796672821045\n",
            "7.957082748413086\n",
            "8.12001895904541\n",
            "9.599410057067871\n",
            "7.986205101013184\n",
            "9.234931945800781\n",
            "7.784369468688965\n",
            "10.292417526245117\n",
            "9.720834732055664\n",
            "7.524280548095703\n",
            "10.029040336608887\n",
            "6.501063823699951\n",
            "9.110865592956543\n",
            "10.688985824584961\n",
            "8.095364570617676\n",
            "8.154426574707031\n",
            "10.896113395690918\n",
            "8.702264785766602\n",
            "7.572998046875\n",
            "9.285065650939941\n",
            "8.198005676269531\n",
            "8.208520889282227\n",
            "8.733929634094238\n",
            "8.938729286193848\n",
            "7.949831962585449\n",
            "7.560841083526611\n",
            "6.939444065093994\n",
            "7.506446838378906\n",
            "6.7508039474487305\n",
            "5.9705328941345215\n",
            "9.73951244354248\n",
            "7.165277004241943\n",
            "9.120019912719727\n",
            "8.922820091247559\n",
            "8.635086059570312\n",
            "8.560027122497559\n",
            "10.443896293640137\n",
            "7.581368923187256\n",
            "8.375689506530762\n",
            "8.704273223876953\n",
            "7.009418964385986\n",
            "8.72746753692627\n",
            "7.475766181945801\n",
            "7.752699851989746\n",
            "6.799950122833252\n",
            "8.237873077392578\n",
            "6.012906551361084\n",
            "5.297936916351318\n",
            "9.59476089477539\n",
            "6.765293121337891\n",
            "8.60047435760498\n",
            "6.500556945800781\n",
            "6.008934497833252\n",
            "6.220134258270264\n",
            "7.4545488357543945\n",
            "7.818281173706055\n",
            "5.868550777435303\n",
            "7.131930828094482\n",
            "6.326117992401123\n",
            "6.977912902832031\n",
            "6.371049404144287\n",
            "8.181639671325684\n",
            "5.772805213928223\n",
            "9.348318099975586\n",
            "7.523785591125488\n",
            "6.96951150894165\n",
            "7.026670455932617\n",
            "7.492460250854492\n",
            "6.94974422454834\n",
            "6.844641208648682\n",
            "8.038482666015625\n",
            "7.623208522796631\n",
            "7.815536022186279\n",
            "8.166396141052246\n",
            "8.32459545135498\n",
            "7.087212562561035\n",
            "6.750943660736084\n",
            "5.256577491760254\n",
            "7.82939338684082\n",
            "7.104583263397217\n",
            "7.35902738571167\n",
            "5.4608845710754395\n",
            "6.000313758850098\n",
            "6.493663787841797\n",
            "6.516568660736084\n",
            "6.436302185058594\n",
            "7.342248916625977\n",
            "6.21531867980957\n",
            "6.529673099517822\n",
            "5.191229343414307\n",
            "6.199085712432861\n",
            "6.468915939331055\n",
            "4.634246826171875\n",
            "5.8737568855285645\n",
            "7.744682312011719\n",
            "7.458572864532471\n",
            "7.293581485748291\n",
            "6.515577793121338\n",
            "8.706367492675781\n",
            "6.89288854598999\n",
            "4.852789878845215\n",
            "7.133315086364746\n",
            "4.909555435180664\n",
            "5.598690032958984\n",
            "8.090450286865234\n",
            "6.202101707458496\n",
            "4.6547160148620605\n",
            "5.059412956237793\n",
            "5.985416412353516\n",
            "6.348658084869385\n",
            "5.054862976074219\n",
            "6.4516401290893555\n",
            "6.386308670043945\n",
            "4.655888557434082\n",
            "6.650245189666748\n",
            "5.967805862426758\n",
            "5.708573818206787\n",
            "7.0865960121154785\n",
            "6.191079139709473\n",
            "4.784267425537109\n",
            "4.368125915527344\n",
            "4.482503414154053\n",
            "5.487207412719727\n",
            "5.367640495300293\n",
            "5.765624046325684\n",
            "5.339738368988037\n",
            "6.747297286987305\n",
            "5.682041168212891\n",
            "4.649065971374512\n",
            "5.769711494445801\n",
            "5.250880718231201\n",
            "5.496574401855469\n",
            "5.118553161621094\n",
            "5.078203201293945\n",
            "5.515772819519043\n",
            "5.058976650238037\n",
            "4.92137336730957\n",
            "4.072876453399658\n",
            "6.2908735275268555\n",
            "6.228723526000977\n",
            "5.649049282073975\n",
            "6.091816425323486\n",
            "4.171625137329102\n",
            "6.020934581756592\n",
            "7.237600803375244\n",
            "4.976686954498291\n",
            "4.620479106903076\n",
            "4.259472846984863\n",
            "4.744889736175537\n",
            "5.389102935791016\n",
            "5.589852333068848\n",
            "3.810978412628174\n",
            "4.106965065002441\n",
            "5.557730197906494\n",
            "5.698491096496582\n",
            "5.885418891906738\n",
            "5.068284511566162\n",
            "5.300877094268799\n",
            "4.398129463195801\n",
            "4.918467998504639\n",
            "5.867528915405273\n",
            "3.4654955863952637\n",
            "5.217696189880371\n",
            "6.0470428466796875\n",
            "3.941523313522339\n",
            "4.383787631988525\n",
            "4.553166389465332\n",
            "4.7509331703186035\n",
            "4.00058650970459\n",
            "5.068577289581299\n",
            "4.754482269287109\n",
            "4.508141040802002\n",
            "4.41377592086792\n",
            "4.930005073547363\n",
            "4.5774126052856445\n",
            "4.344367980957031\n",
            "5.625615119934082\n",
            "4.635860919952393\n",
            "5.096752166748047\n",
            "4.724845886230469\n",
            "4.1358256340026855\n",
            "3.8303563594818115\n",
            "4.121100425720215\n",
            "4.073156356811523\n",
            "4.263321399688721\n",
            "4.10880184173584\n",
            "4.423051834106445\n",
            "3.4914255142211914\n",
            "5.199023723602295\n",
            "4.5373687744140625\n",
            "3.521860122680664\n",
            "4.308968544006348\n",
            "5.292089462280273\n",
            "4.489983081817627\n",
            "4.5038652420043945\n",
            "4.132629871368408\n",
            "5.056757926940918\n",
            "3.912640333175659\n",
            "4.763455390930176\n",
            "4.816806793212891\n",
            "4.99023962020874\n",
            "4.0385422706604\n",
            "4.095116138458252\n",
            "4.713745594024658\n",
            "4.42564582824707\n",
            "4.207383155822754\n",
            "3.216081142425537\n",
            "4.827756881713867\n",
            "4.283988952636719\n",
            "4.3589301109313965\n",
            "4.4716105461120605\n",
            "4.018815040588379\n",
            "3.6994009017944336\n",
            "3.600067615509033\n",
            "3.230001449584961\n",
            "4.605690956115723\n",
            "3.94453763961792\n",
            "3.938126564025879\n",
            "3.633171319961548\n",
            "3.7425661087036133\n",
            "3.3213417530059814\n",
            "4.77359676361084\n",
            "3.9810118675231934\n",
            "3.7658867835998535\n",
            "3.7199559211730957\n",
            "4.245891094207764\n",
            "3.6871259212493896\n",
            "4.728278636932373\n",
            "3.6118812561035156\n",
            "2.9599621295928955\n",
            "3.1509084701538086\n",
            "3.6872012615203857\n",
            "4.101912021636963\n",
            "3.895387887954712\n",
            "3.8200836181640625\n",
            "3.525164842605591\n",
            "3.682642698287964\n",
            "3.81443190574646\n",
            "3.015209674835205\n",
            "3.215306282043457\n",
            "3.742048501968384\n",
            "3.740490674972534\n",
            "4.337953090667725\n",
            "3.477522373199463\n",
            "2.642449140548706\n",
            "3.9497737884521484\n",
            "3.58575439453125\n",
            "3.250235080718994\n",
            "3.9314024448394775\n",
            "3.695614814758301\n",
            "3.2739694118499756\n",
            "3.8383915424346924\n",
            "3.9362382888793945\n",
            "3.8415791988372803\n",
            "3.686786651611328\n",
            "4.717472553253174\n",
            "3.5178751945495605\n",
            "3.719442129135132\n",
            "3.4818475246429443\n",
            "3.6825950145721436\n",
            "3.267669916152954\n",
            "3.034716844558716\n",
            "2.9247665405273438\n",
            "3.5507161617279053\n",
            "3.1308915615081787\n",
            "3.316941261291504\n",
            "3.178300380706787\n",
            "3.9724371433258057\n",
            "3.9669995307922363\n",
            "3.5986320972442627\n",
            "2.792908191680908\n",
            "4.0323486328125\n",
            "3.3548543453216553\n",
            "3.3979387283325195\n",
            "3.509953022003174\n",
            "4.212584495544434\n",
            "3.610234498977661\n",
            "3.1078758239746094\n",
            "4.11548376083374\n",
            "3.4882795810699463\n",
            "3.439762830734253\n",
            "3.157459020614624\n",
            "3.4322664737701416\n",
            "3.8366169929504395\n",
            "2.6836817264556885\n",
            "3.1136929988861084\n",
            "3.352631092071533\n",
            "3.0435404777526855\n",
            "3.8498411178588867\n",
            "3.0124101638793945\n",
            "2.892665386199951\n",
            "3.77620005607605\n",
            "3.5278234481811523\n",
            "2.951221227645874\n",
            "3.1774163246154785\n",
            "2.947340250015259\n",
            "4.046229839324951\n",
            "2.98203706741333\n",
            "2.819584846496582\n",
            "3.3126935958862305\n",
            "3.563344717025757\n",
            "3.5539093017578125\n",
            "3.8788459300994873\n",
            "3.8515748977661133\n",
            "3.155257225036621\n",
            "3.2887392044067383\n",
            "3.4343960285186768\n",
            "3.370746374130249\n",
            "3.453636884689331\n",
            "4.67863130569458\n",
            "2.7828071117401123\n",
            "3.4151041507720947\n",
            "3.4658539295196533\n",
            "3.6171889305114746\n",
            "3.0699105262756348\n",
            "3.1731834411621094\n",
            "3.1582653522491455\n",
            "3.4202609062194824\n",
            "3.1922667026519775\n",
            "3.4767210483551025\n",
            "3.3092422485351562\n",
            "3.0156092643737793\n",
            "2.844011068344116\n",
            "3.181684732437134\n",
            "3.31254243850708\n",
            "3.5057404041290283\n",
            "3.120203733444214\n",
            "3.333956480026245\n",
            "3.175960063934326\n",
            "2.6155641078948975\n",
            "2.67032527923584\n",
            "2.8199548721313477\n",
            "3.253455400466919\n",
            "3.2175135612487793\n",
            "2.9960687160491943\n",
            "2.7824158668518066\n",
            "2.8311147689819336\n",
            "3.3227267265319824\n",
            "3.0845489501953125\n",
            "2.754944324493408\n",
            "4.1327900886535645\n",
            "2.908360719680786\n",
            "2.7329447269439697\n",
            "3.910731792449951\n",
            "2.8044774532318115\n",
            "3.4760239124298096\n",
            "3.199803590774536\n",
            "3.2993998527526855\n",
            "3.315516233444214\n",
            "3.8256072998046875\n",
            "2.8400518894195557\n",
            "3.692988395690918\n",
            "3.0202982425689697\n",
            "3.1407952308654785\n",
            "2.961021661758423\n",
            "2.3867027759552\n",
            "3.2897353172302246\n",
            "3.275047779083252\n",
            "2.8256452083587646\n",
            "3.3894336223602295\n",
            "3.645965337753296\n",
            "2.844331741333008\n",
            "2.8227293491363525\n",
            "3.805436134338379\n",
            "2.8170456886291504\n",
            "3.4510982036590576\n",
            "2.9993512630462646\n",
            "3.3030879497528076\n",
            "4.679528713226318\n",
            "3.744286060333252\n",
            "3.3020174503326416\n",
            "3.2964630126953125\n",
            "3.3435614109039307\n",
            "2.5904786586761475\n",
            "2.8943443298339844\n",
            "2.8336191177368164\n",
            "3.2181949615478516\n",
            "2.7931454181671143\n",
            "3.235208749771118\n",
            "3.078083038330078\n",
            "2.877589225769043\n",
            "3.182095766067505\n",
            "3.222980499267578\n",
            "3.2596001625061035\n",
            "2.918989419937134\n",
            "3.3046491146087646\n",
            "3.8081414699554443\n",
            "3.358717441558838\n",
            "2.60931658744812\n",
            "2.845648765563965\n",
            "2.575777530670166\n",
            "3.505221128463745\n",
            "3.127660036087036\n",
            "3.4764223098754883\n",
            "3.2601206302642822\n",
            "3.200936794281006\n",
            "3.4950408935546875\n",
            "3.2419583797454834\n",
            "2.8470845222473145\n",
            "3.3472447395324707\n",
            "3.2572083473205566\n",
            "2.9005162715911865\n",
            "2.572472095489502\n",
            "3.183537006378174\n",
            "2.996469259262085\n",
            "2.745074510574341\n",
            "3.8786849975585938\n",
            "3.1298649311065674\n",
            "3.2794177532196045\n",
            "2.8814306259155273\n",
            "2.4546828269958496\n",
            "3.351807117462158\n",
            "2.471006155014038\n",
            "3.4170005321502686\n",
            "3.419315814971924\n",
            "3.4667296409606934\n",
            "3.239629030227661\n",
            "2.960855484008789\n",
            "3.4519217014312744\n",
            "2.784318208694458\n",
            "3.8255138397216797\n",
            "3.024332046508789\n",
            "4.1015238761901855\n",
            "3.43335223197937\n",
            "3.8723530769348145\n",
            "2.8052940368652344\n",
            "2.759032726287842\n",
            "3.360170841217041\n",
            "2.9116640090942383\n",
            "3.276181697845459\n",
            "3.005505084991455\n",
            "3.2460267543792725\n",
            "3.092850923538208\n",
            "3.852540969848633\n",
            "3.537959337234497\n",
            "3.4682297706604004\n",
            "3.3219568729400635\n",
            "2.779200553894043\n",
            "3.0945703983306885\n",
            "3.218705654144287\n",
            "3.2696685791015625\n",
            "3.420158624649048\n",
            "2.9663383960723877\n",
            "3.206657648086548\n",
            "3.0785510540008545\n",
            "2.9548707008361816\n",
            "4.066583156585693\n",
            "3.5282299518585205\n",
            "3.1530964374542236\n",
            "3.4669477939605713\n",
            "4.067598342895508\n",
            "3.296060085296631\n",
            "2.8836164474487305\n",
            "2.6124918460845947\n",
            "2.8796818256378174\n",
            "3.3824622631073\n",
            "3.1607136726379395\n",
            "3.601522445678711\n",
            "3.6207995414733887\n",
            "3.4906105995178223\n",
            "3.737999677658081\n",
            "3.9865851402282715\n",
            "3.5446178913116455\n",
            "3.2408108711242676\n",
            "3.288609266281128\n",
            "4.161531448364258\n",
            "4.106513977050781\n",
            "4.329404830932617\n",
            "3.0439109802246094\n",
            "3.024404525756836\n",
            "3.0469985008239746\n",
            "3.5210509300231934\n",
            "3.9597368240356445\n",
            "4.109079360961914\n",
            "4.052538871765137\n",
            "3.437436103820801\n",
            "2.8173272609710693\n",
            "3.536268949508667\n",
            "3.6448981761932373\n",
            "3.536980390548706\n",
            "4.012542724609375\n",
            "2.6523361206054688\n",
            "3.2975964546203613\n",
            "4.53952169418335\n",
            "4.234182357788086\n",
            "3.9271674156188965\n",
            "4.190982341766357\n",
            "3.9957475662231445\n",
            "3.6415576934814453\n",
            "4.32257080078125\n",
            "3.685035467147827\n",
            "3.4742884635925293\n",
            "4.29673433303833\n",
            "4.502871990203857\n",
            "4.560226917266846\n",
            "3.8134114742279053\n",
            "4.162713050842285\n",
            "3.484039306640625\n",
            "5.257229328155518\n",
            "3.144080638885498\n",
            "3.3897690773010254\n",
            "3.6546366214752197\n",
            "3.708789348602295\n",
            "4.115800380706787\n",
            "3.741269588470459\n",
            "3.3346474170684814\n",
            "3.8085975646972656\n",
            "3.8982510566711426\n",
            "3.87031626701355\n",
            "4.011377334594727\n",
            "4.719949245452881\n",
            "4.380985260009766\n",
            "4.023253440856934\n",
            "4.934768199920654\n",
            "3.72615122795105\n",
            "4.83655309677124\n",
            "3.4620609283447266\n",
            "4.580184459686279\n",
            "5.531830310821533\n",
            "5.2689738273620605\n",
            "5.396409034729004\n",
            "4.91784143447876\n",
            "4.711250305175781\n",
            "4.318233489990234\n",
            "3.332810401916504\n",
            "5.017680644989014\n",
            "4.9820661544799805\n",
            "3.7438578605651855\n",
            "4.736044406890869\n",
            "4.784551620483398\n",
            "6.105182647705078\n",
            "6.1755452156066895\n",
            "6.658498287200928\n",
            "4.187864780426025\n",
            "4.66975736618042\n",
            "6.00221061706543\n",
            "6.164481163024902\n",
            "5.755447864532471\n",
            "3.949165105819702\n",
            "4.4398932456970215\n",
            "3.6087374687194824\n",
            "4.4969401359558105\n",
            "4.142405986785889\n",
            "5.187389850616455\n",
            "4.938660621643066\n",
            "5.5395050048828125\n",
            "4.9831342697143555\n",
            "5.750256061553955\n",
            "4.130736351013184\n",
            "4.065969467163086\n",
            "4.9051289558410645\n",
            "5.952958106994629\n",
            "5.778254985809326\n",
            "4.271902084350586\n",
            "4.529330730438232\n",
            "6.639079570770264\n",
            "4.5473761558532715\n",
            "4.342504978179932\n",
            "6.042229652404785\n",
            "4.350111961364746\n",
            "5.749048709869385\n",
            "5.734235763549805\n",
            "4.9098219871521\n",
            "4.393379211425781\n",
            "5.413056373596191\n",
            "4.954033374786377\n",
            "6.958284854888916\n",
            "5.9023308753967285\n",
            "5.865908622741699\n",
            "5.480012893676758\n",
            "5.247636318206787\n",
            "5.245518684387207\n",
            "6.5616936683654785\n",
            "6.9864983558654785\n",
            "5.366711139678955\n",
            "5.724682807922363\n",
            "7.050724029541016\n",
            "6.142629623413086\n",
            "6.120832920074463\n",
            "5.088332176208496\n",
            "6.0610527992248535\n",
            "5.058575630187988\n",
            "7.538176536560059\n",
            "6.288804531097412\n",
            "5.487011432647705\n",
            "4.582041263580322\n",
            "5.303128719329834\n",
            "6.072708606719971\n",
            "6.279505729675293\n",
            "4.120334625244141\n",
            "5.889998435974121\n",
            "5.238011837005615\n",
            "5.331082820892334\n",
            "6.843224048614502\n",
            "5.816189289093018\n",
            "6.1534271240234375\n",
            "5.776979923248291\n",
            "7.497873306274414\n",
            "6.458939552307129\n",
            "6.928869724273682\n",
            "5.943375587463379\n",
            "5.437828063964844\n",
            "5.641639709472656\n",
            "6.599310874938965\n",
            "5.726416110992432\n",
            "4.859325408935547\n",
            "7.49709939956665\n",
            "5.852350234985352\n",
            "6.469293594360352\n",
            "8.616618156433105\n",
            "6.668723106384277\n",
            "5.896374225616455\n",
            "6.957818984985352\n",
            "7.664361953735352\n",
            "5.805624485015869\n",
            "4.494084358215332\n",
            "7.384926795959473\n",
            "9.582518577575684\n",
            "5.956904411315918\n",
            "6.352859020233154\n",
            "5.125753879547119\n",
            "6.220559597015381\n",
            "7.182821750640869\n",
            "7.012269020080566\n",
            "5.046815872192383\n",
            "7.372950077056885\n",
            "9.20175552368164\n",
            "8.893750190734863\n",
            "9.446477890014648\n",
            "7.44407844543457\n",
            "6.882025241851807\n",
            "7.620914936065674\n",
            "7.035471439361572\n"
          ]
        }
      ]
    },
    {
      "cell_type": "markdown",
      "source": [
        "Plot with lri"
      ],
      "metadata": {
        "id": "WfQhKgVsm37h"
      }
    },
    {
      "cell_type": "code",
      "source": [
        "# plt.plot(lri, lossi)"
      ],
      "metadata": {
        "colab": {
          "base_uri": "https://localhost:8080/",
          "height": 448
        },
        "id": "d-Qz8saSiiXi",
        "outputId": "57a9f3b4-18fc-4e45-ac47-562654fba86d"
      },
      "execution_count": 157,
      "outputs": [
        {
          "output_type": "execute_result",
          "data": {
            "text/plain": [
              "[<matplotlib.lines.Line2D at 0x7e6d95960760>]"
            ]
          },
          "metadata": {},
          "execution_count": 157
        },
        {
          "output_type": "display_data",
          "data": {
            "text/plain": [
              "<Figure size 640x480 with 1 Axes>"
            ],
            "image/png": "[encoded data removed]"
          },
          "metadata": {}
        }
      ]
    },
    {
      "cell_type": "markdown",
      "source": [
        "Plot with lre"
      ],
      "metadata": {
        "id": "HzUT0I9Bm5vZ"
      }
    },
    {
      "cell_type": "code",
      "source": [
        "plt.plot(lri, lossi)"
      ],
      "metadata": {
        "colab": {
          "base_uri": "https://localhost:8080/",
          "height": 448
        },
        "id": "AhxW8oD9jkzl",
        "outputId": "1fcbe8d9-16e4-4807-a7b2-5a0488ff8ccc"
      },
      "execution_count": 164,
      "outputs": [
        {
          "output_type": "execute_result",
          "data": {
            "text/plain": [
              "[<matplotlib.lines.Line2D at 0x7e6d9f9d7310>]"
            ]
          },
          "metadata": {},
          "execution_count": 164
        },
        {
          "output_type": "display_data",
          "data": {
            "text/plain": [
              "<Figure size 640x480 with 1 Axes>"
            ],
            "image/png": "[encoded data removed]"
          },
          "metadata": {}
        }
      ]
    },
    {
      "cell_type": "markdown",
      "source": [
        "From the above two graphs (They were both the same in parameters and loss, I ran the code two times for two graphs)\n",
        "\n",
        "We can see that the model performs well while its at around -0.1 as the exponent of the learning rate"
      ],
      "metadata": {
        "id": "lJAnZu99numC"
      }
    },
    {
      "cell_type": "markdown",
      "source": [
        "Reset Prameters, and Re-Train"
      ],
      "metadata": {
        "id": "NwuxqPiKqpdF"
      }
    },
    {
      "cell_type": "code",
      "source": [
        "for i in range(10000):\n",
        "\n",
        "  # minibatch construct\n",
        "  ix = torch.randint(0, X.shape[0], (32,))\n",
        "\n",
        "  # forward pass\n",
        "  emb = C[X[ix]] # (32, 3, 10)\n",
        "  h = torch.tanh(emb.view(-1, 6) @ W1 + b1) # (32, 200)\n",
        "  logits = h @ W2 + b2 # (32, 27)\n",
        "  loss = F.cross_entropy(logits, Y[ix])\n",
        "  # print(loss.item())\n",
        "\n",
        "  # backward pass\n",
        "  for p in parameters:\n",
        "    p.grad = None\n",
        "  loss.backward()\n",
        "\n",
        "  # update\n",
        "  # lr = lrs[i]\n",
        "  lr = 0.1\n",
        "  for p in parameters:\n",
        "    p.data += -lr * p.grad\n",
        "\n",
        "  # track stats\n",
        "  # lri.append(lr)\n",
        "  # lri.append(lre[i])\n",
        "  # lossi.append(loss.item())\n",
        "\n",
        "print(loss.item())"
      ],
      "metadata": {
        "colab": {
          "base_uri": "https://localhost:8080/"
        },
        "id": "QUXfrzk0m2je",
        "outputId": "59812709-795c-4dfc-cc07-c38e8c8ac37d"
      },
      "execution_count": 173,
      "outputs": [
        {
          "output_type": "stream",
          "name": "stdout",
          "text": [
            "2.2857863903045654\n"
          ]
        }
      ]
    },
    {
      "cell_type": "markdown",
      "source": [
        "# Train / Val / Test Split"
      ],
      "metadata": {
        "id": "PBc_zQEjrxu5"
      }
    },
    {
      "cell_type": "code",
      "source": [
        "# build the dataset\n",
        "block_size = 3 # context length: how many characters do we take to predict the next one?\n",
        "\n",
        "def build_dataset(words):\n",
        "  X, Y = [], []\n",
        "  for w in words:\n",
        "\n",
        "    #print(w)\n",
        "    context = [0] * block_size\n",
        "    for ch in w + '.':\n",
        "      ix = stoi[ch]\n",
        "      X.append(context)\n",
        "      Y.append(ix)\n",
        "      #print(''.join(itos[i] for i in context), '--->', itos[ix])\n",
        "      context = context[1:] + [ix] # crop and append\n",
        "\n",
        "  X = torch.tensor(X)\n",
        "  Y = torch.tensor(Y)\n",
        "  print(X.shape, Y.shape)\n",
        "  return X, Y\n",
        "\n",
        "import random\n",
        "random.seed(42)\n",
        "random.shuffle(words)\n",
        "n1 = int(0.8*len(words))\n",
        "n2 = int(0.9*len(words))\n",
        "\n",
        "Xtr, Ytr = build_dataset(words[:n1])\n",
        "Xdev, Ydev = build_dataset(words[n1:n2])\n",
        "Xte, Yte = build_dataset(words[n2:])"
      ],
      "metadata": {
        "colab": {
          "base_uri": "https://localhost:8080/"
        },
        "id": "JQLXJgYOqorD",
        "outputId": "47b8ad97-8dd6-4a5d-925e-9e0d83d42d43"
      },
      "execution_count": 174,
      "outputs": [
        {
          "output_type": "stream",
          "name": "stdout",
          "text": [
            "torch.Size([182625, 3]) torch.Size([182625])\n",
            "torch.Size([22655, 3]) torch.Size([22655])\n",
            "torch.Size([22866, 3]) torch.Size([22866])\n"
          ]
        }
      ]
    },
    {
      "cell_type": "markdown",
      "source": [
        "## Train"
      ],
      "metadata": {
        "id": "HY46ABWEsGsv"
      }
    },
    {
      "cell_type": "code",
      "source": [
        "Xtr.shape, Ytr.shape"
      ],
      "metadata": {
        "colab": {
          "base_uri": "https://localhost:8080/"
        },
        "id": "SPapD-IisTLm",
        "outputId": "9f549737-efda-4e6c-b490-af60e5c08e1f"
      },
      "execution_count": 175,
      "outputs": [
        {
          "output_type": "execute_result",
          "data": {
            "text/plain": [
              "(torch.Size([182625, 3]), torch.Size([182625]))"
            ]
          },
          "metadata": {},
          "execution_count": 175
        }
      ]
    },
    {
      "cell_type": "markdown",
      "source": [
        "Reset Network"
      ],
      "metadata": {
        "id": "Zc99y8O7sZXu"
      }
    },
    {
      "cell_type": "code",
      "source": [
        "g = torch.Generator().manual_seed(2147483647) # for reproducibility\n",
        "C = torch.randn((27, 2), generator=g)\n",
        "W1 = torch.randn((6, 100), generator=g)\n",
        "b1 = torch.randn(100, generator=g)\n",
        "W2 = torch.randn((100, 27), generator=g)\n",
        "b2 = torch.randn(27, generator=g)\n",
        "parameters = [C, W1, b1, W2, b2]"
      ],
      "metadata": {
        "id": "Go7sNELWsMV_"
      },
      "execution_count": 176,
      "outputs": []
    },
    {
      "cell_type": "code",
      "source": [
        "sum(p.nelement() for p in parameters) # number of parameters in total"
      ],
      "metadata": {
        "colab": {
          "base_uri": "https://localhost:8080/"
        },
        "outputId": "18131e79-3198-48db-d9dc-5b4fe6224728",
        "id": "TmV6AfJesMWA"
      },
      "execution_count": 177,
      "outputs": [
        {
          "output_type": "execute_result",
          "data": {
            "text/plain": [
              "3481"
            ]
          },
          "metadata": {},
          "execution_count": 177
        }
      ]
    },
    {
      "cell_type": "code",
      "source": [
        "# Set requires_grad to True\n",
        "for p in parameters:\n",
        "  p.requires_grad = True"
      ],
      "metadata": {
        "id": "vznalCOzsMWB"
      },
      "execution_count": 178,
      "outputs": []
    },
    {
      "cell_type": "code",
      "source": [
        "lre = torch.linspace(-3, 0, 1000)\n",
        "lrs = 10**lre"
      ],
      "metadata": {
        "id": "vwH-54uCsMWC"
      },
      "execution_count": 179,
      "outputs": []
    },
    {
      "cell_type": "code",
      "source": [
        "for i in range(10000):\n",
        "\n",
        "  # minibatch construct\n",
        "  ix = torch.randint(0, Xtr.shape[0], (32,))\n",
        "\n",
        "  # forward pass\n",
        "  emb = C[Xtr[ix]] # (32, 3, 10)\n",
        "  h = torch.tanh(emb.view(-1, 6) @ W1 + b1) # (32, 200)\n",
        "  logits = h @ W2 + b2 # (32, 27)\n",
        "  loss = F.cross_entropy(logits, Ytr[ix])\n",
        "  # print(loss.item())\n",
        "\n",
        "  # backward pass\n",
        "  for p in parameters:\n",
        "    p.grad = None\n",
        "  loss.backward()\n",
        "\n",
        "  # update\n",
        "  lr = 0.1\n",
        "  for p in parameters:\n",
        "    p.data += -lr * p.grad\n",
        "\n",
        "  # track stats\n",
        "  # lri.append(lr)\n",
        "  # lri.append(lre[i])\n",
        "  # lossi.append(loss.item())\n",
        "\n",
        "print(loss.item())"
      ],
      "metadata": {
        "colab": {
          "base_uri": "https://localhost:8080/"
        },
        "outputId": "ecd5ad06-7c29-47db-9429-4b6ea7f259ec",
        "id": "Hyenz1ABsMWD"
      },
      "execution_count": 186,
      "outputs": [
        {
          "output_type": "stream",
          "name": "stdout",
          "text": [
            "2.424320936203003\n"
          ]
        }
      ]
    },
    {
      "cell_type": "markdown",
      "source": [
        "## Val"
      ],
      "metadata": {
        "id": "mTbUmlLTs2ig"
      }
    },
    {
      "cell_type": "markdown",
      "source": [
        "Shows that we are not overfitting, but underfitting because both loss on train and val(dev) are similar.\n",
        "\n",
        "Its because our network is too small, we will need to scale up out neural network"
      ],
      "metadata": {
        "id": "UtQK6cpTtXjQ"
      }
    },
    {
      "cell_type": "code",
      "source": [
        "emb = C[Xtr] # (32, 3, 2)\n",
        "h = torch.tanh(emb.view(-1, 6) @ W1 + b1) # (32, 100)\n",
        "logits = h @ W2 + b2 # (32, 27)\n",
        "loss = F.cross_entropy(logits, Ytr)\n",
        "loss"
      ],
      "metadata": {
        "colab": {
          "base_uri": "https://localhost:8080/"
        },
        "id": "zmkQHlpXtS5Y",
        "outputId": "18630d0c-46c3-4254-c7f1-d29ae46ef9c0"
      },
      "execution_count": 188,
      "outputs": [
        {
          "output_type": "execute_result",
          "data": {
            "text/plain": [
              "tensor(2.4048, grad_fn=<NllLossBackward0>)"
            ]
          },
          "metadata": {},
          "execution_count": 188
        }
      ]
    },
    {
      "cell_type": "code",
      "source": [
        "emb = C[Xdev] # (32, 3, 2)\n",
        "h = torch.tanh(emb.view(-1, 6) @ W1 + b1) # (32, 100)\n",
        "logits = h @ W2 + b2 # (32, 27)\n",
        "loss = F.cross_entropy(logits, Ydev)\n",
        "loss"
      ],
      "metadata": {
        "colab": {
          "base_uri": "https://localhost:8080/"
        },
        "id": "ORMwql0ytIQW",
        "outputId": "093176f9-5ee2-4fc0-b3e3-5c6f2871f1bc"
      },
      "execution_count": 187,
      "outputs": [
        {
          "output_type": "execute_result",
          "data": {
            "text/plain": [
              "tensor(2.3962, grad_fn=<NllLossBackward0>)"
            ]
          },
          "metadata": {},
          "execution_count": 187
        }
      ]
    },
    {
      "cell_type": "markdown",
      "source": [
        "# Scale up Neural Network"
      ],
      "metadata": {
        "id": "E33LxxUWt19J"
      }
    },
    {
      "cell_type": "code",
      "source": [
        "g = torch.Generator().manual_seed(2147483647) # for reproducibility\n",
        "C = torch.randn((27, 2), generator=g)\n",
        "W1 = torch.randn((6, 300), generator=g)\n",
        "b1 = torch.randn(300, generator=g)\n",
        "W2 = torch.randn((300, 27), generator=g)\n",
        "b2 = torch.randn(27, generator=g)\n",
        "parameters = [C, W1, b1, W2, b2]"
      ],
      "metadata": {
        "id": "UlW6T5zSt1dp"
      },
      "execution_count": 189,
      "outputs": []
    },
    {
      "cell_type": "code",
      "source": [
        "sum(p.nelement() for p in parameters) # number of parameters in total"
      ],
      "metadata": {
        "colab": {
          "base_uri": "https://localhost:8080/"
        },
        "outputId": "4c5336e3-9fb9-4af2-bdb3-468b94caa0b0",
        "id": "UfdBsOiguADu"
      },
      "execution_count": 190,
      "outputs": [
        {
          "output_type": "execute_result",
          "data": {
            "text/plain": [
              "10281"
            ]
          },
          "metadata": {},
          "execution_count": 190
        }
      ]
    },
    {
      "cell_type": "code",
      "source": [
        "# Set requires_grad to True\n",
        "for p in parameters:\n",
        "  p.requires_grad = True"
      ],
      "metadata": {
        "id": "BzEWuZFAuADv"
      },
      "execution_count": 191,
      "outputs": []
    },
    {
      "cell_type": "code",
      "source": [
        "lre = torch.linspace(-3, 0, 1000)\n",
        "lrs = 10**lre"
      ],
      "metadata": {
        "id": "erzbmfwYuADv"
      },
      "execution_count": 192,
      "outputs": []
    },
    {
      "cell_type": "code",
      "source": [
        "lri = []\n",
        "lossi = []\n",
        "stepi = []\n",
        "for i in range(30000):\n",
        "\n",
        "  # minibatch construct\n",
        "  ix = torch.randint(0, Xtr.shape[0], (32,))\n",
        "\n",
        "  # forward pass\n",
        "  emb = C[Xtr[ix]] # (32, 3, 10)\n",
        "  h = torch.tanh(emb.view(-1, 6) @ W1 + b1) # (32, 200)\n",
        "  logits = h @ W2 + b2 # (32, 27)\n",
        "  loss = F.cross_entropy(logits, Ytr[ix])\n",
        "  # print(loss.item())\n",
        "\n",
        "  # backward pass\n",
        "  for p in parameters:\n",
        "    p.grad = None\n",
        "  loss.backward()\n",
        "\n",
        "  # update\n",
        "  lr = 0.01\n",
        "  for p in parameters:\n",
        "    p.data += -lr * p.grad\n",
        "\n",
        "  # track stats\n",
        "  # lri.append(lr)\n",
        "  # lri.append(lre[i])\n",
        "  stepi.append(i)\n",
        "  lossi.append(loss.item())\n",
        "\n",
        "\n",
        "print(loss.item())"
      ],
      "metadata": {
        "colab": {
          "base_uri": "https://localhost:8080/"
        },
        "id": "hwTT4yZ8uKdA",
        "outputId": "a5460d7e-24a3-4616-b0f5-f0d0823146f1"
      },
      "execution_count": 198,
      "outputs": [
        {
          "output_type": "stream",
          "name": "stdout",
          "text": [
            "2.2144479751586914\n"
          ]
        }
      ]
    },
    {
      "cell_type": "code",
      "source": [
        "plt.plot(stepi, lossi) # Because we used decayed lr, trained with 0.01, not big deal"
      ],
      "metadata": {
        "colab": {
          "base_uri": "https://localhost:8080/",
          "height": 452
        },
        "id": "yH7EgkFVuYvm",
        "outputId": "5a5416bb-8d8b-445d-889b-b212844f0dc8"
      },
      "execution_count": 199,
      "outputs": [
        {
          "output_type": "execute_result",
          "data": {
            "text/plain": [
              "[<matplotlib.lines.Line2D at 0x7e6d96563e80>]"
            ]
          },
          "metadata": {},
          "execution_count": 199
        },
        {
          "output_type": "display_data",
          "data": {
            "text/plain": [
              "<Figure size 640x480 with 1 Axes>"
            ],
            "image/png": "[encoded data removed]"
          },
          "metadata": {}
        }
      ]
    },
    {
      "cell_type": "code",
      "source": [
        "emb = C[Xdev] # (32, 3, 2)\n",
        "h = torch.tanh(emb.view(-1, 6) @ W1 + b1) # (32, 100)\n",
        "logits = h @ W2 + b2 # (32, 27)\n",
        "loss = F.cross_entropy(logits, Ydev)\n",
        "loss"
      ],
      "metadata": {
        "colab": {
          "base_uri": "https://localhost:8080/"
        },
        "id": "KzGMY0Gfumab",
        "outputId": "73e50f5f-3cd3-49db-e6d1-a99fd35e2edb"
      },
      "execution_count": 200,
      "outputs": [
        {
          "output_type": "execute_result",
          "data": {
            "text/plain": [
              "tensor(2.2711, grad_fn=<NllLossBackward0>)"
            ]
          },
          "metadata": {},
          "execution_count": 200
        }
      ]
    },
    {
      "cell_type": "markdown",
      "source": [
        "# Visualize Embedding"
      ],
      "metadata": {
        "id": "61fcw8ZUvrY_"
      }
    },
    {
      "cell_type": "markdown",
      "source": [
        "Note that we can now visualize our embedding because our embedding dimension is currently 2"
      ],
      "metadata": {
        "id": "Ds6m9-ExvuZU"
      }
    },
    {
      "cell_type": "code",
      "source": [
        "# visualize dimensions 0 and 1 of the embedding matrix C for all characters\n",
        "plt.figure(figsize=(8,8))\n",
        "plt.scatter(C[:,0].data, C[:,1].data, s=200)\n",
        "for i in range(C.shape[0]):\n",
        "    plt.text(C[i,0].item(), C[i,1].item(), itos[i], ha=\"center\", va=\"center\", color='white')\n",
        "plt.grid('minor')"
      ],
      "metadata": {
        "colab": {
          "base_uri": "https://localhost:8080/",
          "height": 676
        },
        "id": "JUoy4jWEv3cP",
        "outputId": "9df065d5-25e9-4f8a-dd9f-a591541fe6ce"
      },
      "execution_count": 201,
      "outputs": [
        {
          "output_type": "display_data",
          "data": {
            "text/plain": [
              "<Figure size 800x800 with 1 Axes>"
            ],
            "image/png": "[encoded data removed]"
          },
          "metadata": {}
        }
      ]
    },
    {
      "cell_type": "markdown",
      "source": [
        "We can identify something interesting which is that, our model actually classify vowel, a, e, i, o, u together."
      ],
      "metadata": {
        "id": "VH_WQrFLsLE3"
      }
    },
    {
      "cell_type": "markdown",
      "source": [
        "![image.png](data:image/png;base64,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)"
      ],
      "metadata": {
        "id": "bDmKxi74w1L-"
      }
    },
    {
      "cell_type": "markdown",
      "source": [
        "# Scale up Embedding Dimension"
      ],
      "metadata": {
        "id": "wBbsiLmjw9xF"
      }
    },
    {
      "cell_type": "markdown",
      "source": [
        "Increase dimension from 2 to 10"
      ],
      "metadata": {
        "id": "lTDN_kS6xMp3"
      }
    },
    {
      "cell_type": "code",
      "source": [
        "g = torch.Generator().manual_seed(2147483647) # for reproducibility\n",
        "C = torch.randn((27, 10), generator=g)\n",
        "W1 = torch.randn((30, 300), generator=g)\n",
        "b1 = torch.randn(300, generator=g)\n",
        "W2 = torch.randn((300, 27), generator=g)\n",
        "b2 = torch.randn(27, generator=g)\n",
        "parameters = [C, W1, b1, W2, b2]"
      ],
      "metadata": {
        "id": "9a9O6dijxJ1c"
      },
      "execution_count": 202,
      "outputs": []
    },
    {
      "cell_type": "code",
      "source": [
        "sum(p.nelement() for p in parameters) # number of parameters in total"
      ],
      "metadata": {
        "colab": {
          "base_uri": "https://localhost:8080/"
        },
        "outputId": "d4dfa922-d4d2-45d8-d8cf-84bb24f2a621",
        "id": "imRWnnRExJ1c"
      },
      "execution_count": 203,
      "outputs": [
        {
          "output_type": "execute_result",
          "data": {
            "text/plain": [
              "17697"
            ]
          },
          "metadata": {},
          "execution_count": 203
        }
      ]
    },
    {
      "cell_type": "code",
      "source": [
        "# Set requires_grad to True\n",
        "for p in parameters:\n",
        "  p.requires_grad = True"
      ],
      "metadata": {
        "id": "gpX9hI0YxJ1c"
      },
      "execution_count": 204,
      "outputs": []
    },
    {
      "cell_type": "code",
      "source": [
        "lre = torch.linspace(-3, 0, 1000)\n",
        "lrs = 10**lre"
      ],
      "metadata": {
        "id": "M0p7LtTzxJ1d"
      },
      "execution_count": 205,
      "outputs": []
    },
    {
      "cell_type": "code",
      "source": [
        "lri = []\n",
        "lossi = []\n",
        "stepi = []"
      ],
      "metadata": {
        "id": "PGo6SMWBxhnd"
      },
      "execution_count": 206,
      "outputs": []
    },
    {
      "cell_type": "code",
      "source": [
        "\n",
        "for i in range(30000):\n",
        "\n",
        "  # minibatch construct\n",
        "  ix = torch.randint(0, Xtr.shape[0], (32,))\n",
        "\n",
        "  # forward pass\n",
        "  emb = C[Xtr[ix]] # (32, 3, 10)\n",
        "  h = torch.tanh(emb.view(-1, 30) @ W1 + b1) # (32, 200)\n",
        "  logits = h @ W2 + b2 # (32, 27)\n",
        "  loss = F.cross_entropy(logits, Ytr[ix])\n",
        "  # print(loss.item())\n",
        "\n",
        "  # backward pass\n",
        "  for p in parameters:\n",
        "    p.grad = None\n",
        "  loss.backward()\n",
        "\n",
        "  # update\n",
        "  lr = 0.01\n",
        "  for p in parameters:\n",
        "    p.data += -lr * p.grad\n",
        "\n",
        "  # track stats\n",
        "  # lri.append(lr)\n",
        "  # lri.append(lre[i])\n",
        "  stepi.append(i)\n",
        "  lossi.append(loss.log10().item())\n",
        "\n",
        "\n",
        "print(loss.item())"
      ],
      "metadata": {
        "colab": {
          "base_uri": "https://localhost:8080/"
        },
        "outputId": "c4701275-8f04-4b30-a1a5-d00e619845b4",
        "id": "szI20569xJ1d"
      },
      "execution_count": 207,
      "outputs": [
        {
          "output_type": "stream",
          "name": "stdout",
          "text": [
            "2.2165379524230957\n"
          ]
        }
      ]
    },
    {
      "cell_type": "code",
      "source": [
        "plt.plot(stepi, lossi)"
      ],
      "metadata": {
        "colab": {
          "base_uri": "https://localhost:8080/",
          "height": 451
        },
        "id": "HZjVfAW3xsfP",
        "outputId": "a992c944-c047-440c-af7c-70a824af64f4"
      },
      "execution_count": 208,
      "outputs": [
        {
          "output_type": "execute_result",
          "data": {
            "text/plain": [
              "[<matplotlib.lines.Line2D at 0x7e6d9661b040>]"
            ]
          },
          "metadata": {},
          "execution_count": 208
        },
        {
          "output_type": "display_data",
          "data": {
            "text/plain": [
              "<Figure size 640x480 with 1 Axes>"
            ],
            "image/png": "[encoded data removed]"
          },
          "metadata": {}
        }
      ]
    },
    {
      "cell_type": "code",
      "source": [
        "emb = C[Xdev] # (32, 3, 2)\n",
        "h = torch.tanh(emb.view(-1, 30) @ W1 + b1) # (32, 100)\n",
        "logits = h @ W2 + b2 # (32, 27)\n",
        "loss = F.cross_entropy(logits, Ydev)\n",
        "loss"
      ],
      "metadata": {
        "colab": {
          "base_uri": "https://localhost:8080/"
        },
        "id": "F91_2P_axwZO",
        "outputId": "4d5a53f7-2ff2-4282-8e08-a8d3ba9eb808"
      },
      "execution_count": 210,
      "outputs": [
        {
          "output_type": "execute_result",
          "data": {
            "text/plain": [
              "tensor(2.5657, grad_fn=<NllLossBackward0>)"
            ]
          },
          "metadata": {},
          "execution_count": 210
        }
      ]
    },
    {
      "cell_type": "markdown",
      "source": [
        "# Sample from Model"
      ],
      "metadata": {
        "id": "MuQw8vfEzURO"
      }
    },
    {
      "cell_type": "code",
      "source": [
        "# sample from the model\n",
        "g = torch.Generator().manual_seed(2147483647 + 10)\n",
        "\n",
        "for _ in range(20):\n",
        "\n",
        "    out = []\n",
        "    context = [0] * block_size # initialize with all ...\n",
        "    while True:\n",
        "      emb = C[torch.tensor([context])] # (1,block_size,d)\n",
        "      h = torch.tanh(emb.view(1, -1) @ W1 + b1)\n",
        "      logits = h @ W2 + b2\n",
        "      probs = F.softmax(logits, dim=1)\n",
        "      ix = torch.multinomial(probs, num_samples=1, generator=g).item()\n",
        "      context = context[1:] + [ix]\n",
        "      out.append(ix)\n",
        "      if ix == 0:\n",
        "        break\n",
        "\n",
        "    print(''.join(itos[i] for i in out))"
      ],
      "metadata": {
        "colab": {
          "base_uri": "https://localhost:8080/"
        },
        "id": "JRVsuWmDx23o",
        "outputId": "d07252f6-f542-4a36-dae3-9dbd18e18183"
      },
      "execution_count": 212,
      "outputs": [
        {
          "output_type": "stream",
          "name": "stdout",
          "text": [
            "mondaimanzheee.\n",
            "mad.\n",
            "ryah.\n",
            "rethaniend.\n",
            "len.\n",
            "azeeedarlii.\n",
            "shi.\n",
            "jea.\n",
            "eie.\n",
            "soun.\n",
            "aar.\n",
            "kayzimanteann.\n",
            "sadhergiairies.\n",
            "kanir.\n",
            "jeliex.\n",
            "teana.\n",
            "uam.\n",
            "ged.\n",
            "raylynn.\n",
            "ehs.\n"
          ]
        }
      ]
    },
    {
      "cell_type": "markdown",
      "source": [
        "Better than Bigram :)"
      ],
      "metadata": {
        "id": "Yyg826P5zddF"
      }
    },
    {
      "cell_type": "code",
      "source": [],
      "metadata": {
        "id": "Su_YzHcVze77"
      },
      "execution_count": null,
      "outputs": []
    }
  ]
}