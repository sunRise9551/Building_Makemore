{
  "nbformat": 4,
  "nbformat_minor": 0,
  "metadata": {
    "colab": {
      "provenance": [],
      "collapsed_sections": [
        "E3KSRgMtjlVl",
        "aPADO1juj8y7",
        "R8HajZHcsSO8",
        "njZev3hvxmLs",
        "hjvUpnDhy4C1"
      ],
      "toc_visible": true,
      "authorship_tag": "ABX9TyNj+eQpvzgcRrIO35YfBfqU",
      "include_colab_link": true
    },
    "kernelspec": {
      "name": "python3",
      "display_name": "Python 3"
    },
    "language_info": {
      "name": "python"
    }
  },
  "cells": [
    {
      "cell_type": "markdown",
      "metadata": {
        "id": "view-in-github",
        "colab_type": "text"
      },
      "source": [
        "<a href=\"https://colab.research.google.com/github/sunRise9551/Building_Makemore/blob/main/Makemore_Backprop_Ninja.ipynb\" target=\"_parent\"><img src=\"https://colab.research.google.com/assets/colab-badge.svg\" alt=\"Open In Colab\"/></a>"
      ]
    },
    {
      "cell_type": "code",
      "execution_count": 1,
      "metadata": {
        "id": "Ybz5KzOHsd2U"
      },
      "outputs": [],
      "source": [
        "# there no change change in the first several cells from last lecture"
      ]
    },
    {
      "cell_type": "code",
      "source": [
        "import torch\n",
        "import torch.nn.functional as F\n",
        "import matplotlib.pyplot as plt # for making figures\n",
        "%matplotlib inline"
      ],
      "metadata": {
        "id": "h7iXnSaFsgKP"
      },
      "execution_count": 2,
      "outputs": []
    },
    {
      "cell_type": "code",
      "source": [
        "# download the names.txt file from github\n",
        "!wget https://raw.githubusercontent.com/karpathy/makemore/master/names.txt"
      ],
      "metadata": {
        "id": "x6GhEWW18aCS",
        "colab": {
          "base_uri": "https://localhost:8080/"
        },
        "outputId": "a6c97000-f163-4da3-965b-10ba5306d9fe"
      },
      "execution_count": 3,
      "outputs": [
        {
          "output_type": "stream",
          "name": "stdout",
          "text": [
            "--2023-09-20 13:52:54--  https://raw.githubusercontent.com/karpathy/makemore/master/names.txt\n",
            "Resolving raw.githubusercontent.com (raw.githubusercontent.com)... 185.199.108.133, 185.199.109.133, 185.199.110.133, ...\n",
            "Connecting to raw.githubusercontent.com (raw.githubusercontent.com)|185.199.108.133|:443... connected.\n",
            "HTTP request sent, awaiting response... 200 OK\n",
            "Length: 228145 (223K) [text/plain]\n",
            "Saving to: ‘names.txt’\n",
            "\n",
            "names.txt           100%[===================>] 222.80K  --.-KB/s    in 0.03s   \n",
            "\n",
            "2023-09-20 13:52:54 (7.27 MB/s) - ‘names.txt’ saved [228145/228145]\n",
            "\n"
          ]
        }
      ]
    },
    {
      "cell_type": "code",
      "execution_count": 4,
      "metadata": {
        "id": "klmu3ZG08PPr",
        "colab": {
          "base_uri": "https://localhost:8080/"
        },
        "outputId": "c016a707-7d65-44fe-a3c9-4966eede9003"
      },
      "outputs": [
        {
          "output_type": "stream",
          "name": "stdout",
          "text": [
            "32033\n",
            "15\n",
            "['emma', 'olivia', 'ava', 'isabella', 'sophia', 'charlotte', 'mia', 'amelia']\n"
          ]
        }
      ],
      "source": [
        "# read in all the words\n",
        "words = open('names.txt', 'r').read().splitlines()\n",
        "print(len(words))\n",
        "print(max(len(w) for w in words))\n",
        "print(words[:8])"
      ]
    },
    {
      "cell_type": "code",
      "execution_count": 5,
      "metadata": {
        "id": "BCQomLE_8PPs",
        "colab": {
          "base_uri": "https://localhost:8080/"
        },
        "outputId": "562bdbba-ffbf-4296-f159-37483b7eb432"
      },
      "outputs": [
        {
          "output_type": "stream",
          "name": "stdout",
          "text": [
            "{1: 'a', 2: 'b', 3: 'c', 4: 'd', 5: 'e', 6: 'f', 7: 'g', 8: 'h', 9: 'i', 10: 'j', 11: 'k', 12: 'l', 13: 'm', 14: 'n', 15: 'o', 16: 'p', 17: 'q', 18: 'r', 19: 's', 20: 't', 21: 'u', 22: 'v', 23: 'w', 24: 'x', 25: 'y', 26: 'z', 0: '.'}\n",
            "27\n"
          ]
        }
      ],
      "source": [
        "# build the vocabulary of characters and mappings to/from integers\n",
        "chars = sorted(list(set(''.join(words))))\n",
        "stoi = {s:i+1 for i,s in enumerate(chars)}\n",
        "stoi['.'] = 0\n",
        "itos = {i:s for s,i in stoi.items()}\n",
        "vocab_size = len(itos)\n",
        "print(itos)\n",
        "print(vocab_size)"
      ]
    },
    {
      "cell_type": "code",
      "execution_count": 6,
      "metadata": {
        "id": "V_zt2QHr8PPs",
        "colab": {
          "base_uri": "https://localhost:8080/"
        },
        "outputId": "aa1524a2-696a-40fa-dc3d-6907947ad785"
      },
      "outputs": [
        {
          "output_type": "stream",
          "name": "stdout",
          "text": [
            "torch.Size([182625, 3]) torch.Size([182625])\n",
            "torch.Size([22655, 3]) torch.Size([22655])\n",
            "torch.Size([22866, 3]) torch.Size([22866])\n"
          ]
        }
      ],
      "source": [
        "# build the dataset\n",
        "block_size = 3 # context length: how many characters do we take to predict the next one?\n",
        "\n",
        "def build_dataset(words):\n",
        "  X, Y = [], []\n",
        "\n",
        "  for w in words:\n",
        "    context = [0] * block_size\n",
        "    for ch in w + '.':\n",
        "      ix = stoi[ch]\n",
        "      X.append(context)\n",
        "      Y.append(ix)\n",
        "      context = context[1:] + [ix] # crop and append\n",
        "\n",
        "  X = torch.tensor(X)\n",
        "  Y = torch.tensor(Y)\n",
        "  print(X.shape, Y.shape)\n",
        "  return X, Y\n",
        "\n",
        "import random\n",
        "random.seed(42)\n",
        "random.shuffle(words)\n",
        "n1 = int(0.8*len(words))\n",
        "n2 = int(0.9*len(words))\n",
        "\n",
        "Xtr,  Ytr  = build_dataset(words[:n1])     # 80%\n",
        "Xdev, Ydev = build_dataset(words[n1:n2])   # 10%\n",
        "Xte,  Yte  = build_dataset(words[n2:])     # 10%"
      ]
    },
    {
      "cell_type": "code",
      "execution_count": 7,
      "metadata": {
        "id": "eg20-vsg8PPt"
      },
      "outputs": [],
      "source": [
        "# ok biolerplate done, now we get to the action:"
      ]
    },
    {
      "cell_type": "code",
      "execution_count": 54,
      "metadata": {
        "id": "MJPU8HT08PPu"
      },
      "outputs": [],
      "source": [
        "# utility function we will use later when comparing manual gradients to PyTorch gradients\n",
        "def cmp(s, dt, t):\n",
        "  ex = torch.all(dt == t.grad).item()\n",
        "  app = torch.allclose(dt, t.grad)\n",
        "  maxdiff = (dt - t.grad).abs().max().item()\n",
        "  print(f'{s:15s} | exact: {str(ex):5s} | approximate: {str(app):5s} | maxdiff: {maxdiff}')"
      ]
    },
    {
      "cell_type": "code",
      "execution_count": 9,
      "metadata": {
        "id": "ZlFLjQyT8PPu",
        "colab": {
          "base_uri": "https://localhost:8080/"
        },
        "outputId": "b27f2a9f-7146-49d6-da73-108a8f90cd69"
      },
      "outputs": [
        {
          "output_type": "stream",
          "name": "stdout",
          "text": [
            "4137\n"
          ]
        }
      ],
      "source": [
        "n_embd = 10 # the dimensionality of the character embedding vectors\n",
        "n_hidden = 64 # the number of neurons in the hidden layer of the MLP\n",
        "\n",
        "g = torch.Generator().manual_seed(2147483647) # for reproducibility\n",
        "C  = torch.randn((vocab_size, n_embd),            generator=g)\n",
        "# Layer 1\n",
        "W1 = torch.randn((n_embd * block_size, n_hidden), generator=g) * (5/3)/((n_embd * block_size)**0.5)\n",
        "b1 = torch.randn(n_hidden,                        generator=g) * 0.1 # using b1 just for fun, it's useless because of BN\n",
        "# Layer 2\n",
        "W2 = torch.randn((n_hidden, vocab_size),          generator=g) * 0.1\n",
        "b2 = torch.randn(vocab_size,                      generator=g) * 0.1\n",
        "# BatchNorm parameters\n",
        "bngain = torch.randn((1, n_hidden))*0.1 + 1.0\n",
        "bnbias = torch.randn((1, n_hidden))*0.1\n",
        "\n",
        "# Note: I am initializating many of these parameters in non-standard ways\n",
        "# because sometimes initializating with e.g. all zeros could mask an incorrect\n",
        "# implementation of the backward pass.\n",
        "\n",
        "parameters = [C, W1, b1, W2, b2, bngain, bnbias]\n",
        "print(sum(p.nelement() for p in parameters)) # number of parameters in total\n",
        "for p in parameters:\n",
        "  p.requires_grad = True"
      ]
    },
    {
      "cell_type": "code",
      "execution_count": 10,
      "metadata": {
        "id": "QY-y96Y48PPv"
      },
      "outputs": [],
      "source": [
        "batch_size = 32\n",
        "n = batch_size # a shorter variable also, for convenience\n",
        "# construct a minibatch\n",
        "ix = torch.randint(0, Xtr.shape[0], (batch_size,), generator=g)\n",
        "Xb, Yb = Xtr[ix], Ytr[ix] # batch X,Y"
      ]
    },
    {
      "cell_type": "code",
      "execution_count": 55,
      "metadata": {
        "id": "8ofj1s6d8PPv",
        "colab": {
          "base_uri": "https://localhost:8080/"
        },
        "outputId": "bf19a601-5d56-4741-b7d9-8492adc3006b"
      },
      "outputs": [
        {
          "output_type": "execute_result",
          "data": {
            "text/plain": [
              "tensor(3.5571, grad_fn=<NegBackward0>)"
            ]
          },
          "metadata": {},
          "execution_count": 55
        }
      ],
      "source": [
        "# forward pass, \"chunkated\" into smaller steps that are possible to backward one at a time\n",
        "\n",
        "emb = C[Xb] # embed the characters into vectors\n",
        "embcat = emb.view(emb.shape[0], -1) # concatenate the vectors\n",
        "# Linear layer 1\n",
        "hprebn = embcat @ W1 + b1 # hidden layer pre-activation\n",
        "# BatchNorm layer\n",
        "bnmeani = 1/n*hprebn.sum(0, keepdim=True)\n",
        "bndiff = hprebn - bnmeani\n",
        "bndiff2 = bndiff**2\n",
        "bnvar = 1/(n-1)*(bndiff2).sum(0, keepdim=True) # note: Bessel's correction (dividing by n-1, not n)\n",
        "bnvar_inv = (bnvar + 1e-5)**-0.5\n",
        "bnraw = bndiff * bnvar_inv\n",
        "hpreact = bngain * bnraw + bnbias\n",
        "# Non-linearity\n",
        "h = torch.tanh(hpreact) # hidden layer\n",
        "# Linear layer 2\n",
        "logits = h @ W2 + b2 # output layer\n",
        "# cross entropy loss (same as F.cross_entropy(logits, Yb))\n",
        "logit_maxes = logits.max(1, keepdim=True).values\n",
        "norm_logits = logits - logit_maxes # subtract max for numerical stability\n",
        "counts = norm_logits.exp()\n",
        "counts_sum = counts.sum(1, keepdims=True)\n",
        "counts_sum_inv = counts_sum**-1 # if I use (1.0 / counts_sum) instead then I can't get backprop to be bit exact...\n",
        "probs = counts * counts_sum_inv\n",
        "logprobs = probs.log()\n",
        "loss = -logprobs[range(n), Yb].mean()\n",
        "\n",
        "# PyTorch backward pass\n",
        "for p in parameters:\n",
        "  p.grad = None\n",
        "for t in [logprobs, probs, counts, counts_sum, counts_sum_inv, # afaik there is no cleaner way\n",
        "          norm_logits, logit_maxes, logits, h, hpreact, bnraw,\n",
        "         bnvar_inv, bnvar, bndiff2, bndiff, hprebn, bnmeani,\n",
        "         embcat, emb]:\n",
        "  t.retain_grad()\n",
        "loss.backward()\n",
        "loss"
      ]
    },
    {
      "cell_type": "markdown",
      "source": [
        "# Derivatives"
      ],
      "metadata": {
        "id": "OjRCjslUjitc"
      }
    },
    {
      "cell_type": "markdown",
      "source": [
        "## dlogprobs / dloss"
      ],
      "metadata": {
        "id": "E3KSRgMtjlVl"
      }
    },
    {
      "cell_type": "markdown",
      "source": [
        "Working line\n"
      ],
      "metadata": {
        "id": "O4WXCZcEpj3b"
      }
    },
    {
      "cell_type": "code",
      "source": [
        "loss = -logprobs[range(n), Yb].mean()"
      ],
      "metadata": {
        "id": "TKaAQTTLplIp"
      },
      "execution_count": 12,
      "outputs": []
    },
    {
      "cell_type": "code",
      "source": [
        "Yb"
      ],
      "metadata": {
        "colab": {
          "base_uri": "https://localhost:8080/"
        },
        "id": "8V7vEMQ_h5x7",
        "outputId": "d2655913-b302-405e-87fd-e6910f45e300"
      },
      "execution_count": 13,
      "outputs": [
        {
          "output_type": "execute_result",
          "data": {
            "text/plain": [
              "tensor([ 1,  0, 25, 12,  9,  9,  0,  0, 13, 25, 13, 18, 25, 14, 12,  9, 12, 15,\n",
              "         5, 15, 14,  0,  5,  1, 15, 25, 20,  8,  1,  1, 15,  0])"
            ]
          },
          "metadata": {},
          "execution_count": 13
        }
      ]
    },
    {
      "cell_type": "code",
      "source": [
        "-logprobs[range(n), Yb]"
      ],
      "metadata": {
        "colab": {
          "base_uri": "https://localhost:8080/"
        },
        "id": "t-FCH0Ksh7wj",
        "outputId": "59b082da-08de-436d-fa14-14490a92b012"
      },
      "execution_count": 14,
      "outputs": [
        {
          "output_type": "execute_result",
          "data": {
            "text/plain": [
              "tensor([3.8106, 2.6852, 3.5044, 3.5740, 3.7504, 3.2781, 3.0362, 3.9446, 3.4031,\n",
              "        2.9343, 3.4031, 4.1493, 3.0322, 3.7628, 2.9034, 3.0381, 3.2786, 4.1927,\n",
              "        3.8432, 3.6620, 3.3188, 2.9225, 3.3225, 4.2062, 3.5622, 4.0472, 3.8938,\n",
              "        3.4679, 4.4514, 4.3026, 3.4206, 3.7267], grad_fn=<NegBackward0>)"
            ]
          },
          "metadata": {},
          "execution_count": 14
        }
      ]
    },
    {
      "cell_type": "markdown",
      "source": [
        "    loss = -logprobs[range(n), Yb].mean()\n",
        "    loss = - (a + b + c) / 3\n",
        "    loss = -1/3a +-1/3b +-1/3c\n",
        "    \n",
        "    dlogprobs = ???\n",
        "\n",
        "    dloss/da = -1/3\n",
        "    dloss/db = -1/3\n",
        "    dloss/dc = -1/3\n",
        "\n",
        "    dlogprobs = -1/n"
      ],
      "metadata": {
        "id": "xELLFfGBkDzz"
      }
    },
    {
      "cell_type": "code",
      "source": [
        "dlogprobs = torch.zeros_like(logprobs)\n",
        "dlogprobs[range(n), Yb] = -1.0/n\n",
        "cmp('logprobs', dlogprobs, logprobs)"
      ],
      "metadata": {
        "colab": {
          "base_uri": "https://localhost:8080/"
        },
        "id": "9xKD-wVOkPDj",
        "outputId": "ab2e9c5e-7b01-4f6d-874c-4058525ceea1"
      },
      "execution_count": 15,
      "outputs": [
        {
          "output_type": "stream",
          "name": "stdout",
          "text": [
            "logprobs        | exact: True  | approximate: True  | maxdiff: 0.0\n"
          ]
        }
      ]
    },
    {
      "cell_type": "markdown",
      "source": [
        "## dprobs / dlogprobs"
      ],
      "metadata": {
        "id": "aPADO1juj8y7"
      }
    },
    {
      "cell_type": "markdown",
      "source": [
        "Working line\n"
      ],
      "metadata": {
        "id": "1jnebR4dp_Zd"
      }
    },
    {
      "cell_type": "code",
      "source": [
        "logprobs = probs.log()"
      ],
      "metadata": {
        "id": "-HHsR7gyqAaI"
      },
      "execution_count": 16,
      "outputs": []
    },
    {
      "cell_type": "markdown",
      "source": [
        "    logprobs = probs.log()\n",
        "\n",
        "    dprobs = ???\n",
        "\n",
        "    dprobs = (Local) * (Ouput)\n",
        "    dprobs = (log) * (dlogprobs)\n",
        "    dprobs = (1/probs) * (dlogprobs)\n",
        "\n"
      ],
      "metadata": {
        "id": "QZCXFIRcqaxj"
      }
    },
    {
      "cell_type": "code",
      "source": [
        "dprobs = (1/probs) * (dlogprobs)\n",
        "cmp('probs', dprobs, probs)"
      ],
      "metadata": {
        "colab": {
          "base_uri": "https://localhost:8080/"
        },
        "id": "Y7og4GWtqMWr",
        "outputId": "7bf44b8e-4ccc-4f33-d01b-64bb12f86b52"
      },
      "execution_count": 17,
      "outputs": [
        {
          "output_type": "stream",
          "name": "stdout",
          "text": [
            "probs           | exact: True  | approximate: True  | maxdiff: 0.0\n"
          ]
        }
      ]
    },
    {
      "cell_type": "markdown",
      "source": [
        "## dcounts_sum_inv / dprobs"
      ],
      "metadata": {
        "id": "R8HajZHcsSO8"
      }
    },
    {
      "cell_type": "code",
      "source": [
        "probs = counts * counts_sum_inv"
      ],
      "metadata": {
        "id": "VFb3nw-1uzvD"
      },
      "execution_count": 18,
      "outputs": []
    },
    {
      "cell_type": "code",
      "source": [
        "counts.shape, counts_sum_inv.shape"
      ],
      "metadata": {
        "colab": {
          "base_uri": "https://localhost:8080/"
        },
        "id": "tTIiMGvFu1dC",
        "outputId": "ea85040a-6c39-4377-b6ed-14ef3853630d"
      },
      "execution_count": 19,
      "outputs": [
        {
          "output_type": "execute_result",
          "data": {
            "text/plain": [
              "(torch.Size([32, 27]), torch.Size([32, 1]))"
            ]
          },
          "metadata": {},
          "execution_count": 19
        }
      ]
    },
    {
      "cell_type": "code",
      "source": [
        "# c = a * b, but with tensors:\n",
        "# a[3x2] * b[3,1] --->\n",
        "# a11*b1 a12*b1 a13*b1\n",
        "# a21*b2 a22*b2 a23*b2\n",
        "# a31*b3 a23*b3 a33*b3\n",
        "# c[3x3]"
      ],
      "metadata": {
        "id": "Ie83rQMOu4nr"
      },
      "execution_count": 20,
      "outputs": []
    },
    {
      "cell_type": "markdown",
      "source": [
        "    probs = counts * counts_sum_inv\n",
        "\n",
        "    dcounts_sum_inv = ???\n",
        "\n",
        "    dcounts_sum_inv = (Local) * (Output)\n",
        "    dcounts_sum_inv = (counts) * (dprobs) <-- Local for multiplication is another data(which is 'counts' here)\n",
        "    dcounts_sum_inv = ((counts) * (dprobs)).sum(1, keepdim=True)"
      ],
      "metadata": {
        "id": "3fG95GXyt9Bz"
      }
    },
    {
      "cell_type": "code",
      "source": [
        "dcounts_sum_inv = ((counts) * (dprobs)).sum(1, keepdim=True)\n",
        "cmp('counts_sum_inv', dcounts_sum_inv, counts_sum_inv)"
      ],
      "metadata": {
        "colab": {
          "base_uri": "https://localhost:8080/"
        },
        "id": "BhoGLqAhsR0C",
        "outputId": "7f5b0597-3a51-4a63-dac1-2f48172ab4dc"
      },
      "execution_count": 21,
      "outputs": [
        {
          "output_type": "stream",
          "name": "stdout",
          "text": [
            "counts_sum_inv  | exact: True  | approximate: True  | maxdiff: 0.0\n"
          ]
        }
      ]
    },
    {
      "cell_type": "markdown",
      "source": [
        "## dcounts / dprobs (1st Branch)"
      ],
      "metadata": {
        "id": "njZev3hvxmLs"
      }
    },
    {
      "cell_type": "code",
      "source": [
        "probs = counts * counts_sum_inv"
      ],
      "metadata": {
        "id": "7ZqC7iGsqM6C"
      },
      "execution_count": 22,
      "outputs": []
    },
    {
      "cell_type": "markdown",
      "source": [
        "    probs = counts * counts_sum_inv\n",
        "\n",
        "    dcounts = ???\n",
        "\n",
        "    dcounts = (Local) * (Output)\n",
        "    dcounts = (counts_sum_inv) * (dprobs)"
      ],
      "metadata": {
        "id": "_juApR0mxsb6"
      }
    },
    {
      "cell_type": "code",
      "source": [
        "dcounts = (counts_sum_inv) * (dprobs)"
      ],
      "metadata": {
        "id": "jbrb8N3_x5BH"
      },
      "execution_count": 23,
      "outputs": []
    },
    {
      "cell_type": "markdown",
      "source": [
        "Cannot check yet, because:"
      ],
      "metadata": {
        "id": "-NLTSyfy3Pw0"
      }
    },
    {
      "cell_type": "markdown",
      "source": [
        "![image.png](data:image/png;base64,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)"
      ],
      "metadata": {
        "id": "A67_EPgS3Swj"
      }
    },
    {
      "cell_type": "markdown",
      "source": [
        "## dcounts_sum / dcounts_sum_inv"
      ],
      "metadata": {
        "id": "hjvUpnDhy4C1"
      }
    },
    {
      "cell_type": "code",
      "source": [
        "counts_sum_inv = counts_sum**-1"
      ],
      "metadata": {
        "id": "aBGtO2IBzGn0"
      },
      "execution_count": 24,
      "outputs": []
    },
    {
      "cell_type": "markdown",
      "source": [
        "    counts_sum_inv = counts_sum**-1\n",
        "\n",
        "    dcounts_sum = ???\n",
        "\n",
        "    counts_sum**-1\n",
        "    = a**-1\n",
        "    = 1/a\n",
        "    = 1/a^2\n",
        "\n",
        "    dcounts_sum = (Local) * (Output)\n",
        "    dcounts_sum = (1/counts_sum**2) * (dcounts_sum_inv)"
      ],
      "metadata": {
        "id": "ZyyXEr-ozIt8"
      }
    },
    {
      "cell_type": "code",
      "source": [
        "# dcounts_sum = (-counts_sum**-2) * (dcounts_sum_inv)\n",
        "dcounts_sum = (-1/counts_sum**2) * (dcounts_sum_inv)\n",
        "cmp('counts_sum', dcounts_sum, counts_sum)"
      ],
      "metadata": {
        "colab": {
          "base_uri": "https://localhost:8080/"
        },
        "id": "jDkDCQiC2pQE",
        "outputId": "ffddbef1-9f1a-44a2-ee06-ef504cfa2a4e"
      },
      "execution_count": 25,
      "outputs": [
        {
          "output_type": "stream",
          "name": "stdout",
          "text": [
            "counts_sum      | exact: True  | approximate: True  | maxdiff: 0.0\n"
          ]
        }
      ]
    },
    {
      "cell_type": "markdown",
      "source": [
        "## dcounts / dcounts_sum"
      ],
      "metadata": {
        "id": "VN62Ugev6G0O"
      }
    },
    {
      "cell_type": "markdown",
      "source": [
        "Working line"
      ],
      "metadata": {
        "id": "TbiSedgOqu6y"
      }
    },
    {
      "cell_type": "code",
      "source": [
        "counts_sum = counts.sum(1, keepdims=True)"
      ],
      "metadata": {
        "id": "lcfA63Jp6JPN"
      },
      "execution_count": 26,
      "outputs": []
    },
    {
      "cell_type": "markdown",
      "source": [
        "Code: Summing up all the counts, in rows"
      ],
      "metadata": {
        "id": "yJ2HSx-z_ltd"
      }
    },
    {
      "cell_type": "code",
      "source": [
        "# counts_sum = b1(= a11 + a12 + a13)\n",
        "\n",
        "# a11 a12 a13 ---> b1(= a11 + a12 + a13)\n",
        "# a21 a22 a23 ---> b2(= a21 + a22 + a23)\n",
        "# a31 a23 a33 ---> b3(= a31 + a32 + a33)"
      ],
      "metadata": {
        "id": "hxcCgj2o6Mss"
      },
      "execution_count": 27,
      "outputs": []
    },
    {
      "cell_type": "markdown",
      "source": [
        "- We now have the derivatives of loss with respect to b1, b2, b3, ...\n",
        "\n",
        "- We want the derivatives of loss with respect to a11, a12, a13, a21, ...\n",
        "\n",
        "- In other way, how do b1, b2 depends on a11, etc."
      ],
      "metadata": {
        "id": "u2IkOqcd9jDl"
      }
    },
    {
      "cell_type": "markdown",
      "source": [
        "- b1 will only depends on (a11 + a12 + a13)\n",
        "- Local derivative for Addition is always 1"
      ],
      "metadata": {
        "id": "INgsC9Nl-qku"
      }
    },
    {
      "cell_type": "markdown",
      "source": [
        "    counts_sum = counts.sum(1, keepdims=True)\n",
        "\n",
        "    dcounts = ???\n",
        "\n",
        "    dcounts = (Local) * (Input)\n",
        "    dcounts = (torch.ones_like(counts)) * (dcounts_sum)"
      ],
      "metadata": {
        "id": "MP5IUb5G8RUN"
      }
    },
    {
      "cell_type": "code",
      "source": [
        "dcounts += (torch.ones_like(counts)) * (dcounts_sum)\n",
        "cmp('counts', dcounts, counts)"
      ],
      "metadata": {
        "colab": {
          "base_uri": "https://localhost:8080/"
        },
        "id": "q9LXNaK_8O9k",
        "outputId": "ba9ea8d6-ba0b-475d-b26c-55b3a4b1e875"
      },
      "execution_count": 28,
      "outputs": [
        {
          "output_type": "stream",
          "name": "stdout",
          "text": [
            "counts          | exact: True  | approximate: True  | maxdiff: 0.0\n"
          ]
        }
      ]
    },
    {
      "cell_type": "markdown",
      "source": [
        "## dnorms_logits / dcounts"
      ],
      "metadata": {
        "id": "PiUo3LoGHWrL"
      }
    },
    {
      "cell_type": "markdown",
      "source": [
        "Working line:"
      ],
      "metadata": {
        "id": "ws9pHy3Hq0zp"
      }
    },
    {
      "cell_type": "code",
      "source": [
        "counts = norm_logits.exp()"
      ],
      "metadata": {
        "id": "PZJakyWfHfMc"
      },
      "execution_count": 29,
      "outputs": []
    },
    {
      "cell_type": "markdown",
      "source": [
        "    counts = norm_logits.exp()\n",
        "\n",
        "    dnorm_logits = ???\n",
        "\n",
        "    dnorm_logits = (Local) * (Input)\n",
        "    dnorm_logits = (norm_logits.exp()) * (dcounts)\n",
        "    dnorm_logits = (counts) * (dcounts)"
      ],
      "metadata": {
        "id": "tRFsd6S3HnFl"
      }
    },
    {
      "cell_type": "code",
      "source": [
        "dnorm_logits = (counts) * (dcounts)\n",
        "cmp('norm_logits', dnorm_logits, norm_logits)"
      ],
      "metadata": {
        "colab": {
          "base_uri": "https://localhost:8080/"
        },
        "id": "dTkeAXfhI1N1",
        "outputId": "28fe08b7-9037-4146-da0c-1be6381da143"
      },
      "execution_count": 30,
      "outputs": [
        {
          "output_type": "stream",
          "name": "stdout",
          "text": [
            "norm_logits     | exact: True  | approximate: True  | maxdiff: 0.0\n"
          ]
        }
      ]
    },
    {
      "cell_type": "markdown",
      "source": [
        "## dlogit_maxes / dnorm_logits"
      ],
      "metadata": {
        "id": "sPRK9gqaJa_N"
      }
    },
    {
      "cell_type": "markdown",
      "source": [
        "Working line:"
      ],
      "metadata": {
        "id": "FSg4uugarMFK"
      }
    },
    {
      "cell_type": "code",
      "source": [
        "norm_logits = logits - logit_maxes"
      ],
      "metadata": {
        "id": "usOxcRzyJdSj"
      },
      "execution_count": 31,
      "outputs": []
    },
    {
      "cell_type": "code",
      "source": [
        "norm_logits.shape, logits.shape, logit_maxes.shape"
      ],
      "metadata": {
        "colab": {
          "base_uri": "https://localhost:8080/"
        },
        "id": "3X1Z8QUNKQAO",
        "outputId": "fc4796a7-6924-4c9f-8b93-aef366c885f4"
      },
      "execution_count": 32,
      "outputs": [
        {
          "output_type": "execute_result",
          "data": {
            "text/plain": [
              "(torch.Size([32, 27]), torch.Size([32, 27]), torch.Size([32, 1]))"
            ]
          },
          "metadata": {},
          "execution_count": 32
        }
      ]
    },
    {
      "cell_type": "code",
      "source": [
        "# c11 c12 c13 ---> a11 + a12 + a13   b1\n",
        "# c21 c22 c23 ---> a21 + a22 + a23 - b2\n",
        "# c31 c23 c33 ---> a31 + a32 + a33   b3\n",
        "\n",
        "# so e.g. c32 = a32 - b3"
      ],
      "metadata": {
        "id": "6Qx_t4uSKal8"
      },
      "execution_count": 33,
      "outputs": []
    },
    {
      "cell_type": "markdown",
      "source": [
        "    norm_logits = logits - logit_maxes\n",
        "         c32    =   a32  -     b3\n",
        "\n",
        "    dlogit_maxes = ???  equivalent to db3 = ???\n",
        "\n",
        "    dlogit_maxes = (Local) * (Output)\n",
        "    dlogit_maxes = (-b3) * (dnorm_logits)\n",
        "    dlogit_maxes = (-1) * (dnorm_logits)\n",
        "    dlogit_maxes = (-dnorm_logits).sum(1, keepdim=True) <-- Sum all across row"
      ],
      "metadata": {
        "id": "HhcwQ99UJqMb"
      }
    },
    {
      "cell_type": "code",
      "source": [
        "dlogit_maxes = (-dnorm_logits).sum(1, keepdim=True)\n",
        "cmp('logit_maxes', dlogit_maxes, logit_maxes)"
      ],
      "metadata": {
        "colab": {
          "base_uri": "https://localhost:8080/"
        },
        "id": "lKr7u_gFJr_8",
        "outputId": "388eddd2-92f7-4322-f0f0-a4050aef90c6"
      },
      "execution_count": 34,
      "outputs": [
        {
          "output_type": "stream",
          "name": "stdout",
          "text": [
            "logit_maxes     | exact: True  | approximate: True  | maxdiff: 0.0\n"
          ]
        }
      ]
    },
    {
      "cell_type": "markdown",
      "source": [
        "## dlogits / dnorm_logits (1st Branch)\n"
      ],
      "metadata": {
        "id": "kIC2S7AMSRLN"
      }
    },
    {
      "cell_type": "markdown",
      "source": [
        "Working line:"
      ],
      "metadata": {
        "id": "k8ub_S6fViWd"
      }
    },
    {
      "cell_type": "code",
      "source": [
        "norm_logits = logits - logit_maxes"
      ],
      "metadata": {
        "id": "2vYHn_NOVhnE"
      },
      "execution_count": 35,
      "outputs": []
    },
    {
      "cell_type": "markdown",
      "source": [
        "    dlogits = ???\n",
        "\n",
        "    dlogits = (Local) * (Output)\n",
        "    dlogits = (1.0) * (dnorm_logits)"
      ],
      "metadata": {
        "id": "YYDUx5ybrhai"
      }
    },
    {
      "cell_type": "code",
      "source": [
        "# Clone for Safety\n",
        "# dlogits = dnorm_logits"
      ],
      "metadata": {
        "id": "2dHBVJJfY5Ym"
      },
      "execution_count": 36,
      "outputs": []
    },
    {
      "cell_type": "code",
      "source": [
        "dlogits = dnorm_logits.clone()"
      ],
      "metadata": {
        "id": "Ag8YzfWJsWNx"
      },
      "execution_count": 37,
      "outputs": []
    },
    {
      "cell_type": "markdown",
      "source": [
        "## dlogits / dlogit_maxes (2nd Branch)"
      ],
      "metadata": {
        "id": "65l81tcJruJi"
      }
    },
    {
      "cell_type": "markdown",
      "source": [
        "Working Line:"
      ],
      "metadata": {
        "id": "EPR-iNKpWnYd"
      }
    },
    {
      "cell_type": "code",
      "source": [
        "logit_maxes = logits.max(1, keepdim=True).values"
      ],
      "metadata": {
        "id": "X4yEnopgWsz2"
      },
      "execution_count": 38,
      "outputs": []
    },
    {
      "cell_type": "code",
      "source": [
        "logits.max(1, keepdim=True) # Run this, check shape"
      ],
      "metadata": {
        "id": "nV3HBvgGSisd",
        "colab": {
          "base_uri": "https://localhost:8080/"
        },
        "outputId": "69787064-3498-42f0-d6ed-4a684a16b8cb"
      },
      "execution_count": 39,
      "outputs": [
        {
          "output_type": "execute_result",
          "data": {
            "text/plain": [
              "torch.return_types.max(\n",
              "values=tensor([[0.8246],\n",
              "        [0.8141],\n",
              "        [1.0546],\n",
              "        [1.0278],\n",
              "        [0.6458],\n",
              "        [0.9713],\n",
              "        [0.9068],\n",
              "        [1.0532],\n",
              "        [1.0546],\n",
              "        [0.8698],\n",
              "        [1.0546],\n",
              "        [1.1950],\n",
              "        [0.9470],\n",
              "        [1.3395],\n",
              "        [1.3584],\n",
              "        [1.0546],\n",
              "        [1.0546],\n",
              "        [1.2984],\n",
              "        [1.1255],\n",
              "        [1.1828],\n",
              "        [0.9337],\n",
              "        [1.2490],\n",
              "        [0.9182],\n",
              "        [0.9998],\n",
              "        [0.6766],\n",
              "        [0.8860],\n",
              "        [1.3508],\n",
              "        [0.8151],\n",
              "        [1.0546],\n",
              "        [0.9669],\n",
              "        [1.3821],\n",
              "        [1.5415]], grad_fn=<MaxBackward0>),\n",
              "indices=tensor([[25],\n",
              "        [ 0],\n",
              "        [22],\n",
              "        [ 5],\n",
              "        [10],\n",
              "        [23],\n",
              "        [ 3],\n",
              "        [19],\n",
              "        [22],\n",
              "        [ 4],\n",
              "        [22],\n",
              "        [15],\n",
              "        [22],\n",
              "        [ 0],\n",
              "        [ 5],\n",
              "        [22],\n",
              "        [22],\n",
              "        [19],\n",
              "        [22],\n",
              "        [19],\n",
              "        [24],\n",
              "        [13],\n",
              "        [13],\n",
              "        [12],\n",
              "        [24],\n",
              "        [19],\n",
              "        [19],\n",
              "        [23],\n",
              "        [22],\n",
              "        [ 6],\n",
              "        [18],\n",
              "        [ 3]]))"
            ]
          },
          "metadata": {},
          "execution_count": 39
        }
      ]
    },
    {
      "cell_type": "code",
      "source": [
        "# dlogits = (dlogits * dlogit_maxes)"
      ],
      "metadata": {
        "id": "_yHsbdehUNTc"
      },
      "execution_count": 40,
      "outputs": []
    },
    {
      "cell_type": "code",
      "source": [
        "# max_indices = logits.max(1, keepdim=True)[1] # <-- TODO: FIX\n",
        "# dlogits[range(n), Yb] += 1 * (dlogit_maxes)\n",
        "\n",
        "# dlogits = torch.zeros_like(logits)\n",
        "# dlogits[range(logits.shape[0]), logits.max(1).indices] = 1 # Turning on the 1\n",
        "\n",
        "dlogits += F.one_hot(logits.max(1).indices, num_classes=logits.shape[1]) * dlogit_maxes\n",
        "cmp('logits', dlogits, logits)"
      ],
      "metadata": {
        "colab": {
          "base_uri": "https://localhost:8080/"
        },
        "id": "hk1qcLzfS2Ic",
        "outputId": "d5661ab5-ed08-44f5-e063-3d39241b0c5c"
      },
      "execution_count": 41,
      "outputs": [
        {
          "output_type": "stream",
          "name": "stdout",
          "text": [
            "logits          | exact: True  | approximate: True  | maxdiff: 0.0\n"
          ]
        }
      ]
    },
    {
      "cell_type": "markdown",
      "source": [
        "## dh / dlogits"
      ],
      "metadata": {
        "id": "KDm____41E94"
      }
    },
    {
      "cell_type": "markdown",
      "source": [
        "Working line:"
      ],
      "metadata": {
        "id": "YATmvXpj1I2z"
      }
    },
    {
      "cell_type": "code",
      "source": [
        "logits = h @ W2 + b2"
      ],
      "metadata": {
        "id": "7XUs8oWk1GhA"
      },
      "execution_count": 42,
      "outputs": []
    },
    {
      "cell_type": "code",
      "source": [
        "logits.shape, h.shape, W2.shape, b2.shape"
      ],
      "metadata": {
        "id": "btAdZ7MI1L2Y",
        "colab": {
          "base_uri": "https://localhost:8080/"
        },
        "outputId": "3dfe7999-e0b8-4d1a-95e9-2ff62c27fa3c"
      },
      "execution_count": 43,
      "outputs": [
        {
          "output_type": "execute_result",
          "data": {
            "text/plain": [
              "(torch.Size([32, 27]),\n",
              " torch.Size([32, 64]),\n",
              " torch.Size([64, 27]),\n",
              " torch.Size([27]))"
            ]
          },
          "metadata": {},
          "execution_count": 43
        }
      ]
    },
    {
      "cell_type": "code",
      "source": [
        "dh = dlogits @ W2.T\n",
        "cmp('h', dh, h)"
      ],
      "metadata": {
        "colab": {
          "base_uri": "https://localhost:8080/"
        },
        "id": "ksyFh9GJIHjs",
        "outputId": "029a3a3f-49b3-4ad4-983a-722996159776"
      },
      "execution_count": 44,
      "outputs": [
        {
          "output_type": "stream",
          "name": "stdout",
          "text": [
            "h               | exact: True  | approximate: True  | maxdiff: 0.0\n"
          ]
        }
      ]
    },
    {
      "cell_type": "markdown",
      "source": [
        "## dW2 / dlogits"
      ],
      "metadata": {
        "id": "JM3VdaO2JLfE"
      }
    },
    {
      "cell_type": "code",
      "source": [
        "dW2 = h.T @ dlogits\n",
        "cmp('W2', dW2, W2)"
      ],
      "metadata": {
        "colab": {
          "base_uri": "https://localhost:8080/"
        },
        "id": "JJKNC5BUJLPd",
        "outputId": "3eb3edf3-325a-488d-b1ef-f88914f3aab7"
      },
      "execution_count": 45,
      "outputs": [
        {
          "output_type": "stream",
          "name": "stdout",
          "text": [
            "W2              | exact: True  | approximate: True  | maxdiff: 0.0\n"
          ]
        }
      ]
    },
    {
      "cell_type": "markdown",
      "source": [
        "## db2 / dlogits"
      ],
      "metadata": {
        "id": "j0ufLCP6JeuV"
      }
    },
    {
      "cell_type": "code",
      "source": [
        "db2 = dlogits.sum(0)\n",
        "cmp('b2', db2, b2)"
      ],
      "metadata": {
        "colab": {
          "base_uri": "https://localhost:8080/"
        },
        "id": "MLpxeAgSJhIM",
        "outputId": "4b11cee5-0743-43a6-99d7-a53dc59d7942"
      },
      "execution_count": 46,
      "outputs": [
        {
          "output_type": "stream",
          "name": "stdout",
          "text": [
            "b2              | exact: True  | approximate: True  | maxdiff: 0.0\n"
          ]
        }
      ]
    },
    {
      "cell_type": "markdown",
      "source": [
        "## dhpreact / dh"
      ],
      "metadata": {
        "id": "PouETgwtJwF4"
      }
    },
    {
      "cell_type": "markdown",
      "source": [
        "Working line:"
      ],
      "metadata": {
        "id": "4TW4mFGbJrz8"
      }
    },
    {
      "cell_type": "code",
      "source": [
        "h = torch.tanh(hpreact)"
      ],
      "metadata": {
        "id": "qcFeGjqUJrj_"
      },
      "execution_count": 47,
      "outputs": []
    },
    {
      "cell_type": "markdown",
      "source": [
        "![image.png](data:image/png;base64,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)"
      ],
      "metadata": {
        "id": "bSTdya1XKAVj"
      }
    },
    {
      "cell_type": "code",
      "source": [
        "dhpreact = (1 - h**2) * dh\n",
        "cmp('hpreact', dhpreact, hpreact)"
      ],
      "metadata": {
        "colab": {
          "base_uri": "https://localhost:8080/"
        },
        "id": "O6odQuOoJ1Aj",
        "outputId": "137a5ad2-f1ce-4412-9ccd-7aff2aaa878a"
      },
      "execution_count": 48,
      "outputs": [
        {
          "output_type": "stream",
          "name": "stdout",
          "text": [
            "hpreact         | exact: False | approximate: True  | maxdiff: 4.656612873077393e-10\n"
          ]
        }
      ]
    },
    {
      "cell_type": "code",
      "source": [],
      "metadata": {
        "id": "vaBP21pOLqsl"
      },
      "execution_count": 48,
      "outputs": []
    },
    {
      "cell_type": "markdown",
      "source": [
        "dbngain / dhpreact"
      ],
      "metadata": {
        "id": "1oMZaVj-MRo1"
      }
    },
    {
      "cell_type": "code",
      "source": [
        "hpreact = bngain * bnraw + bnbias"
      ],
      "metadata": {
        "id": "y0qZIL4FMSGE"
      },
      "execution_count": 49,
      "outputs": []
    },
    {
      "cell_type": "code",
      "source": [
        "dhpreact.shape, bngain.shape, bnraw.shape, bnbias.shape"
      ],
      "metadata": {
        "colab": {
          "base_uri": "https://localhost:8080/"
        },
        "id": "66mZ7AgeMia0",
        "outputId": "25f6d3e8-579a-4339-f7d0-17cd9aa0cb07"
      },
      "execution_count": 50,
      "outputs": [
        {
          "output_type": "execute_result",
          "data": {
            "text/plain": [
              "(torch.Size([32, 64]),\n",
              " torch.Size([1, 64]),\n",
              " torch.Size([32, 64]),\n",
              " torch.Size([1, 64]))"
            ]
          },
          "metadata": {},
          "execution_count": 50
        }
      ]
    },
    {
      "cell_type": "code",
      "source": [
        "dbngain = (bnraw * dhpreact).sum(0, keepdims=True)\n",
        "cmp('bngain', dbngain, bngain)"
      ],
      "metadata": {
        "colab": {
          "base_uri": "https://localhost:8080/"
        },
        "id": "U9p3fIE6Mnk8",
        "outputId": "0455cd82-c07e-4a9c-d6c2-f5bb83b23e81"
      },
      "execution_count": 51,
      "outputs": [
        {
          "output_type": "stream",
          "name": "stdout",
          "text": [
            "bngain          | exact: False | approximate: True  | maxdiff: 2.0954757928848267e-09\n"
          ]
        }
      ]
    },
    {
      "cell_type": "markdown",
      "source": [
        "## dbnraw / dhpreact"
      ],
      "metadata": {
        "id": "XFA9KuRWNdCM"
      }
    },
    {
      "cell_type": "code",
      "source": [
        "dbnraw = bngain * dhpreact\n",
        "cmp('bnraw', dbnraw, bnraw)"
      ],
      "metadata": {
        "colab": {
          "base_uri": "https://localhost:8080/"
        },
        "id": "7XfPo47fNfYr",
        "outputId": "bc4b5d76-af78-4d64-d771-3458763a3e03"
      },
      "execution_count": 58,
      "outputs": [
        {
          "output_type": "stream",
          "name": "stdout",
          "text": [
            "bnraw           | exact: False | approximate: True  | maxdiff: 9.313225746154785e-10\n"
          ]
        }
      ]
    },
    {
      "cell_type": "markdown",
      "source": [
        "## dbnbias / dhpreact"
      ],
      "metadata": {
        "id": "cKJdDyBw5TO7"
      }
    },
    {
      "cell_type": "code",
      "source": [
        "dbnbias = dhpreact.sum(0, keepdims=True)\n",
        "cmp('bnbias', dbnbias, bnbias)"
      ],
      "metadata": {
        "colab": {
          "base_uri": "https://localhost:8080/"
        },
        "id": "-eL2-4ZP5c1b",
        "outputId": "34493df7-a5e8-40f7-93e5-7fb6f88ba9f4"
      },
      "execution_count": 59,
      "outputs": [
        {
          "output_type": "stream",
          "name": "stdout",
          "text": [
            "bnbias          | exact: False | approximate: True  | maxdiff: 3.725290298461914e-09\n"
          ]
        }
      ]
    },
    {
      "cell_type": "markdown",
      "source": [
        "## dbndiff / dbnraw (1st Branch)"
      ],
      "metadata": {
        "id": "SkF_Ku1H54Kz"
      }
    },
    {
      "cell_type": "code",
      "source": [
        "bnraw = bndiff * bnvar_inv"
      ],
      "metadata": {
        "id": "cYd2VMQg57TL"
      },
      "execution_count": 61,
      "outputs": []
    },
    {
      "cell_type": "code",
      "source": [
        "dbnraw.shape, bndiff.shape, bnvar_inv.shape"
      ],
      "metadata": {
        "colab": {
          "base_uri": "https://localhost:8080/"
        },
        "id": "wvtk-FY36Ebr",
        "outputId": "a56821f7-29d3-427c-c612-35dabaa24f1f"
      },
      "execution_count": 62,
      "outputs": [
        {
          "output_type": "execute_result",
          "data": {
            "text/plain": [
              "(torch.Size([32, 64]), torch.Size([32, 64]), torch.Size([1, 64]))"
            ]
          },
          "metadata": {},
          "execution_count": 62
        }
      ]
    },
    {
      "cell_type": "code",
      "source": [
        "dbndiff = bnvar_inv * bnraw\n",
        "# cmp('bndiff', dbndiff, bndiff) # 1st Branch"
      ],
      "metadata": {
        "colab": {
          "base_uri": "https://localhost:8080/"
        },
        "id": "XXRwj6_06IE0",
        "outputId": "9fb349c5-3e6d-4cdf-ecfd-b42c5fa4e060"
      },
      "execution_count": 63,
      "outputs": [
        {
          "output_type": "stream",
          "name": "stdout",
          "text": [
            "bndiff          | exact: False | approximate: False | maxdiff: 3.100727081298828\n"
          ]
        }
      ]
    },
    {
      "cell_type": "markdown",
      "source": [
        "## dbnvar_inv / dbnraw"
      ],
      "metadata": {
        "id": "dkimuaU86kVG"
      }
    },
    {
      "cell_type": "code",
      "source": [
        "dbnvar_inv = (bndiff * dbnraw).sum(0, keepdims=True)\n",
        "cmp('bnvar_inv', dbnvar_inv, bnvar_inv)"
      ],
      "metadata": {
        "colab": {
          "base_uri": "https://localhost:8080/"
        },
        "id": "PXZJqc9Y6JaC",
        "outputId": "c32b94a1-3f54-444c-9401-60a3dff1cb9d"
      },
      "execution_count": 64,
      "outputs": [
        {
          "output_type": "stream",
          "name": "stdout",
          "text": [
            "bnvar_inv       | exact: False | approximate: True  | maxdiff: 2.3283064365386963e-09\n"
          ]
        }
      ]
    },
    {
      "cell_type": "markdown",
      "source": [
        "## dbnvar / dbnvar_inv"
      ],
      "metadata": {
        "id": "KAlbTaEd7A9t"
      }
    },
    {
      "cell_type": "code",
      "source": [
        "bnvar_inv = (bnvar + 1e-5)**-0.5"
      ],
      "metadata": {
        "id": "pKUZbaBr7FNz"
      },
      "execution_count": null,
      "outputs": []
    },
    {
      "cell_type": "markdown",
      "source": [
        "![image.png](data:image/png;base64,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)"
      ],
      "metadata": {
        "id": "RXRS9XoR8USE"
      }
    },
    {
      "cell_type": "code",
      "source": [
        "dbnvar = (-0.5*(bnvar + 1e-5)**-1.5) * dbnvar_inv\n",
        "cmp('bnvar', dbnvar, bnvar)"
      ],
      "metadata": {
        "colab": {
          "base_uri": "https://localhost:8080/"
        },
        "id": "1E7EDU6B7Klj",
        "outputId": "b5eeff04-9454-4f52-fc47-c67790f65316"
      },
      "execution_count": 66,
      "outputs": [
        {
          "output_type": "stream",
          "name": "stdout",
          "text": [
            "bnvar           | exact: False | approximate: True  | maxdiff: 9.313225746154785e-10\n"
          ]
        }
      ]
    },
    {
      "cell_type": "markdown",
      "source": [
        "## dbndiff2 / dbnvar"
      ],
      "metadata": {
        "id": "a7J1qWpX65Kk"
      }
    },
    {
      "cell_type": "code",
      "source": [
        "bnvar = 1/(n-1)*(bndiff2).sum(0, keepdim=True)"
      ],
      "metadata": {
        "id": "ENI_LOgv9DO8"
      },
      "execution_count": null,
      "outputs": []
    },
    {
      "cell_type": "markdown",
      "source": [
        "# Exercise 1"
      ],
      "metadata": {
        "id": "T3vHIb_I8BDD"
      }
    },
    {
      "cell_type": "code",
      "source": [
        "# Exercise 1: backprop through the whole thing manually,\n",
        "# backpropagating through exactly all of the variables\n",
        "# as they are defined in the forward pass above, one by one\n",
        "\n",
        "# -----------------\n",
        "# YOUR CODE HERE :)\n",
        "# -----------------\n",
        "dlogprobs = torch.zeros_like(logprobs)\n",
        "dlogprobs[range(n), Yb] = -1.0/n\n",
        "dprobs = (1.0 / probs) * dlogprobs\n",
        "dcounts_sum_inv = (counts * dprobs).sum(1, keepdim=True)\n",
        "dcounts = counts_sum_inv * dprobs\n",
        "dcounts_sum = (-counts_sum**-2) * dcounts_sum_inv\n",
        "dcounts += torch.ones_like(counts) * dcounts_sum\n",
        "dnorm_logits = counts * dcounts\n",
        "dlogits = dnorm_logits.clone()\n",
        "dlogit_maxes = (-dnorm_logits).sum(1, keepdim=True)\n",
        "dlogits += F.one_hot(logits.max(1).indices, num_classes=logits.shape[1]) * dlogit_maxes\n",
        "dh = dlogits @ W2.T\n",
        "dW2 = h.T @ dlogits\n",
        "db2 = dlogits.sum(0)\n",
        "dhpreact = (1.0 - h**2) * dh\n",
        "\n",
        "cmp('logprobs', dlogprobs, logprobs)\n",
        "cmp('probs', dprobs, probs)\n",
        "cmp('counts_sum_inv', dcounts_sum_inv, counts_sum_inv)\n",
        "cmp('counts_sum', dcounts_sum, counts_sum)\n",
        "cmp('counts', dcounts, counts)\n",
        "cmp('norm_logits', dnorm_logits, norm_logits)\n",
        "cmp('logit_maxes', dlogit_maxes, logit_maxes)\n",
        "cmp('logits', dlogits, logits)\n",
        "cmp('h', dh, h)\n",
        "cmp('W2', dW2, W2)\n",
        "cmp('b2', db2, b2)\n",
        "cmp('hpreact', dhpreact, hpreact)\n",
        "cmp('bngain', dbngain, bngain)\n",
        "cmp('bnbias', dbnbias, bnbias)\n",
        "cmp('bnraw', dbnraw, bnraw)\n",
        "cmp('bnvar_inv', dbnvar_inv, bnvar_inv)\n",
        "cmp('bnvar', dbnvar, bnvar)\n",
        "# cmp('bndiff2', dbndiff2, bndiff2)\n",
        "cmp('bndiff', dbndiff, bndiff)\n",
        "# cmp('bnmeani', dbnmeani, bnmeani)\n",
        "# cmp('hprebn', dhprebn, hprebn)\n",
        "# cmp('embcat', dembcat, embcat)\n",
        "# cmp('W1', dW1, W1)\n",
        "# cmp('b1', db1, b1)\n",
        "# cmp('emb', demb, emb)\n",
        "# cmp('C', dC, C)"
      ],
      "metadata": {
        "colab": {
          "base_uri": "https://localhost:8080/"
        },
        "id": "mk-RoDXrXTT7",
        "outputId": "6da3a613-dd20-462b-f002-6b3f95aad3c6"
      },
      "execution_count": 56,
      "outputs": [
        {
          "output_type": "stream",
          "name": "stdout",
          "text": [
            "logprobs        | exact: True  | approximate: True  | maxdiff: 0.0\n",
            "probs           | exact: True  | approximate: True  | maxdiff: 0.0\n",
            "counts_sum_inv  | exact: True  | approximate: True  | maxdiff: 0.0\n",
            "counts_sum      | exact: True  | approximate: True  | maxdiff: 0.0\n",
            "counts          | exact: True  | approximate: True  | maxdiff: 0.0\n",
            "norm_logits     | exact: True  | approximate: True  | maxdiff: 0.0\n",
            "logit_maxes     | exact: True  | approximate: True  | maxdiff: 0.0\n",
            "logits          | exact: True  | approximate: True  | maxdiff: 0.0\n",
            "h               | exact: True  | approximate: True  | maxdiff: 0.0\n",
            "W2              | exact: True  | approximate: True  | maxdiff: 0.0\n",
            "b2              | exact: True  | approximate: True  | maxdiff: 0.0\n",
            "hpreact         | exact: False | approximate: True  | maxdiff: 4.656612873077393e-10\n"
          ]
        }
      ]
    },
    {
      "cell_type": "code",
      "source": [],
      "metadata": {
        "id": "AyhoG8p8mP_Z"
      },
      "execution_count": null,
      "outputs": []
    }
  ]
}